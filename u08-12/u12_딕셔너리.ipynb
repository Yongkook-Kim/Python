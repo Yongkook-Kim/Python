{
  "nbformat": 4,
  "nbformat_minor": 0,
  "metadata": {
    "colab": {
      "name": "u12_딕셔너리.ipynb",
      "provenance": [],
      "collapsed_sections": []
    },
    "kernelspec": {
      "name": "python3",
      "display_name": "Python 3"
    },
    "language_info": {
      "name": "python"
    }
  },
  "cells": [
    {
      "cell_type": "markdown",
      "metadata": {
        "id": "mPQY_mfZRiin"
      },
      "source": [
        "# Unit 12. 딕셔너리"
      ]
    },
    {
      "cell_type": "code",
      "metadata": {
        "colab": {
          "base_uri": "https://localhost:8080/"
        },
        "id": "lQq0kEKuRhP7",
        "outputId": "092d7093-4d7f-4bd1-8af3-90ae3a0c4a82"
      },
      "source": [
        "lux = [490, 334, 550, 18.72]\n",
        "lux"
      ],
      "execution_count": 1,
      "outputs": [
        {
          "output_type": "execute_result",
          "data": {
            "text/plain": [
              "[490, 334, 550, 18.72]"
            ]
          },
          "metadata": {
            "tags": []
          },
          "execution_count": 1
        }
      ]
    },
    {
      "cell_type": "code",
      "metadata": {
        "colab": {
          "base_uri": "https://localhost:8080/"
        },
        "id": "OKiMrzmFSEkj",
        "outputId": "de4c0d8c-1f79-4fc3-e92b-e0d2652212ef"
      },
      "source": [
        "lux = {\n",
        "    'health': 490,  #체력\n",
        "    'mana': 334,    #마력\n",
        "    'melee':550,    #사거리\n",
        "    'armor':18.72   #방어력\n",
        "}\n",
        "lux"
      ],
      "execution_count": 2,
      "outputs": [
        {
          "output_type": "execute_result",
          "data": {
            "text/plain": [
              "{'armor': 18.72, 'health': 490, 'mana': 334, 'melee': 550}"
            ]
          },
          "metadata": {
            "tags": []
          },
          "execution_count": 2
        }
      ]
    },
    {
      "cell_type": "markdown",
      "metadata": {
        "id": "Yd_60U57Ssm-"
      },
      "source": [
        "## 12.1 딕셔너리 생성"
      ]
    },
    {
      "cell_type": "code",
      "metadata": {
        "colab": {
          "base_uri": "https://localhost:8080/"
        },
        "id": "g5115sNfSkoN",
        "outputId": "42e75878-ccd5-4746-d15f-ab6df206c322"
      },
      "source": [
        "# 키값이 중복된 경우 뒤에 써진 키만 적용\n",
        "lux = {'health': 490, 'health': 800, 'mana': 334, 'melee': 550, 'armor': 18.72}\n",
        "lux"
      ],
      "execution_count": 3,
      "outputs": [
        {
          "output_type": "execute_result",
          "data": {
            "text/plain": [
              "{'armor': 18.72, 'health': 800, 'mana': 334, 'melee': 550}"
            ]
          },
          "metadata": {
            "tags": []
          },
          "execution_count": 3
        }
      ]
    },
    {
      "cell_type": "code",
      "metadata": {
        "colab": {
          "base_uri": "https://localhost:8080/"
        },
        "id": "pP2J_YtLTyNa",
        "outputId": "32243056-8197-4b77-9ed1-b43c0a78e7b9"
      },
      "source": [
        "a = {}\n",
        "b = dict()\n",
        "a, b"
      ],
      "execution_count": 4,
      "outputs": [
        {
          "output_type": "execute_result",
          "data": {
            "text/plain": [
              "({}, {})"
            ]
          },
          "metadata": {
            "tags": []
          },
          "execution_count": 4
        }
      ]
    },
    {
      "cell_type": "code",
      "metadata": {
        "colab": {
          "base_uri": "https://localhost:8080/"
        },
        "id": "cPgDsPIeUAo-",
        "outputId": "5ebb9753-ddcd-4dd2-f5ca-115826c1376f"
      },
      "source": [
        "a = set((1,2,3))\n",
        "a"
      ],
      "execution_count": 6,
      "outputs": [
        {
          "output_type": "execute_result",
          "data": {
            "text/plain": [
              "{1, 2, 3}"
            ]
          },
          "metadata": {
            "tags": []
          },
          "execution_count": 6
        }
      ]
    },
    {
      "cell_type": "code",
      "metadata": {
        "colab": {
          "base_uri": "https://localhost:8080/"
        },
        "id": "I-aOtMIDVC5q",
        "outputId": "01c187d5-b250-4a87-d28c-8167ee09cbb4"
      },
      "source": [
        "a = ['a','b','c','d']\n",
        "b = [1,2,3,4]\n",
        "dict(zip(a,b))"
      ],
      "execution_count": 9,
      "outputs": [
        {
          "output_type": "execute_result",
          "data": {
            "text/plain": [
              "{'a': 1, 'b': 2, 'c': 3, 'd': 4}"
            ]
          },
          "metadata": {
            "tags": []
          },
          "execution_count": 9
        }
      ]
    },
    {
      "cell_type": "markdown",
      "metadata": {
        "id": "igGPcjq-WEza"
      },
      "source": [
        "## 12.2 딕셔너리 키에 접근하고 값 할당하기"
      ]
    },
    {
      "cell_type": "code",
      "metadata": {
        "colab": {
          "base_uri": "https://localhost:8080/"
        },
        "id": "1sD0E_HFVftK",
        "outputId": "7763ab3b-c4ae-452d-f968-8967669a5596"
      },
      "source": [
        "lux"
      ],
      "execution_count": 10,
      "outputs": [
        {
          "output_type": "execute_result",
          "data": {
            "text/plain": [
              "{'armor': 18.72, 'health': 800, 'mana': 334, 'melee': 550}"
            ]
          },
          "metadata": {
            "tags": []
          },
          "execution_count": 10
        }
      ]
    },
    {
      "cell_type": "code",
      "metadata": {
        "colab": {
          "base_uri": "https://localhost:8080/"
        },
        "id": "M9W0T3_nWIgE",
        "outputId": "e12bdce2-200e-40be-b64e-7ff88375e798"
      },
      "source": [
        "lux['mana'], lux['armor']"
      ],
      "execution_count": 12,
      "outputs": [
        {
          "output_type": "execute_result",
          "data": {
            "text/plain": [
              "(334, 18.72)"
            ]
          },
          "metadata": {
            "tags": []
          },
          "execution_count": 12
        }
      ]
    },
    {
      "cell_type": "code",
      "metadata": {
        "colab": {
          "base_uri": "https://localhost:8080/"
        },
        "id": "F0HScsOpWK1w",
        "outputId": "4313444a-e9e4-4101-eff5-21c794113efb"
      },
      "source": [
        "# 키값이 기존 딕셔너리에 없으면 새롭게 추가\n",
        "lux['new'] = 10\n",
        "lux"
      ],
      "execution_count": 13,
      "outputs": [
        {
          "output_type": "execute_result",
          "data": {
            "text/plain": [
              "{'armor': 18.72, 'health': 800, 'mana': 334, 'melee': 550, 'new': 10}"
            ]
          },
          "metadata": {
            "tags": []
          },
          "execution_count": 13
        }
      ]
    },
    {
      "cell_type": "code",
      "metadata": {
        "colab": {
          "base_uri": "https://localhost:8080/"
        },
        "id": "89iS1nwOXO6q",
        "outputId": "5e9341f7-7ff0-4e43-9817-cd467ee5b946"
      },
      "source": [
        "# 키값이 딕셔너리에 있으면 값이 변경\n",
        "lux['mana'] = 1000\n",
        "lux"
      ],
      "execution_count": 14,
      "outputs": [
        {
          "output_type": "execute_result",
          "data": {
            "text/plain": [
              "{'armor': 18.72, 'health': 800, 'mana': 1000, 'melee': 550, 'new': 10}"
            ]
          },
          "metadata": {
            "tags": []
          },
          "execution_count": 14
        }
      ]
    },
    {
      "cell_type": "code",
      "metadata": {
        "colab": {
          "base_uri": "https://localhost:8080/"
        },
        "id": "GcRcmMiFXac4",
        "outputId": "f8581c1d-98f6-438b-9b7c-1cc92e6a23de"
      },
      "source": [
        "'mana' in lux"
      ],
      "execution_count": 15,
      "outputs": [
        {
          "output_type": "execute_result",
          "data": {
            "text/plain": [
              "True"
            ]
          },
          "metadata": {
            "tags": []
          },
          "execution_count": 15
        }
      ]
    },
    {
      "cell_type": "code",
      "metadata": {
        "colab": {
          "base_uri": "https://localhost:8080/"
        },
        "id": "uqx6_ZtlYN3V",
        "outputId": "8977828f-fb13-49ff-8ac0-1219707c0871"
      },
      "source": [
        "# 'mana' 항목이 존재하면 기존 값 +100, 없으면 값을 50이 되게 만드시오\n",
        "d = {}\n",
        "e = {'mana':150}\n",
        "\n",
        "if 'mana' in d:\n",
        "    d['mana'] = d['mana'] + 100\n",
        "else:\n",
        "    d['mana'] = 50\n",
        "    \n",
        "if 'mana' in e:\n",
        "    e['mana'] = e['mana'] + 100\n",
        "else:\n",
        "    e['mana'] = 50\n",
        "\n",
        "d, e"
      ],
      "execution_count": 17,
      "outputs": [
        {
          "output_type": "execute_result",
          "data": {
            "text/plain": [
              "({'mana': 50}, {'mana': 250})"
            ]
          },
          "metadata": {
            "tags": []
          },
          "execution_count": 17
        }
      ]
    },
    {
      "cell_type": "markdown",
      "metadata": {
        "id": "F33AxffBZLtg"
      },
      "source": [
        "### 딕셔너리 키의 갯수"
      ]
    },
    {
      "cell_type": "code",
      "metadata": {
        "colab": {
          "base_uri": "https://localhost:8080/"
        },
        "id": "D_N7_n0MYyrR",
        "outputId": "d87395a8-c061-4ba6-eb9d-3c9ac830b5dc"
      },
      "source": [
        "lux"
      ],
      "execution_count": 18,
      "outputs": [
        {
          "output_type": "execute_result",
          "data": {
            "text/plain": [
              "{'armor': 18.72, 'health': 800, 'mana': 1000, 'melee': 550, 'new': 10}"
            ]
          },
          "metadata": {
            "tags": []
          },
          "execution_count": 18
        }
      ]
    },
    {
      "cell_type": "code",
      "metadata": {
        "colab": {
          "base_uri": "https://localhost:8080/"
        },
        "id": "WbxqrtRlZP6j",
        "outputId": "fc7c2b70-e18e-4a48-fd7c-2c7cb3d21a98"
      },
      "source": [
        "len(lux)"
      ],
      "execution_count": 19,
      "outputs": [
        {
          "output_type": "execute_result",
          "data": {
            "text/plain": [
              "5"
            ]
          },
          "metadata": {
            "tags": []
          },
          "execution_count": 19
        }
      ]
    },
    {
      "cell_type": "markdown",
      "metadata": {
        "id": "Wni-Od0TaAZU"
      },
      "source": [
        "### 자료형"
      ]
    },
    {
      "cell_type": "code",
      "metadata": {
        "colab": {
          "base_uri": "https://localhost:8080/"
        },
        "id": "tRm2e86dZSBW",
        "outputId": "ef4464cf-c21b-4cdb-b773-e534a9a9c956"
      },
      "source": [
        "type(lux)"
      ],
      "execution_count": 20,
      "outputs": [
        {
          "output_type": "execute_result",
          "data": {
            "text/plain": [
              "dict"
            ]
          },
          "metadata": {
            "tags": []
          },
          "execution_count": 20
        }
      ]
    },
    {
      "cell_type": "code",
      "metadata": {
        "colab": {
          "base_uri": "https://localhost:8080/"
        },
        "id": "t1mlGQH1Z6jA",
        "outputId": "c66280e0-49c7-4797-82e0-fbaf5b1033d9"
      },
      "source": [
        "type(lux['armor'])"
      ],
      "execution_count": 21,
      "outputs": [
        {
          "output_type": "execute_result",
          "data": {
            "text/plain": [
              "float"
            ]
          },
          "metadata": {
            "tags": []
          },
          "execution_count": 21
        }
      ]
    },
    {
      "cell_type": "markdown",
      "metadata": {
        "id": "NzM7jGIzbhYx"
      },
      "source": [
        "### 반복문에서의 딕셔너리"
      ]
    },
    {
      "cell_type": "code",
      "metadata": {
        "colab": {
          "base_uri": "https://localhost:8080/"
        },
        "id": "o1wJRkn0Z_Wm",
        "outputId": "7ad67e25-d47d-49e2-8d5a-cac57000d16e"
      },
      "source": [
        "lux.keys()"
      ],
      "execution_count": 22,
      "outputs": [
        {
          "output_type": "execute_result",
          "data": {
            "text/plain": [
              "dict_keys(['health', 'mana', 'melee', 'armor', 'new'])"
            ]
          },
          "metadata": {
            "tags": []
          },
          "execution_count": 22
        }
      ]
    },
    {
      "cell_type": "code",
      "metadata": {
        "colab": {
          "base_uri": "https://localhost:8080/"
        },
        "id": "7AVFNhvOakTk",
        "outputId": "7ce5e463-74c3-4853-f9dc-39a9d45bd4b2"
      },
      "source": [
        "for key in lux.keys():\n",
        "    print(f'{key}: {lux[key]}')"
      ],
      "execution_count": 24,
      "outputs": [
        {
          "output_type": "stream",
          "text": [
            "health: 800\n",
            "mana: 1000\n",
            "melee: 550\n",
            "armor: 18.72\n",
            "new: 10\n"
          ],
          "name": "stdout"
        }
      ]
    },
    {
      "cell_type": "code",
      "metadata": {
        "colab": {
          "base_uri": "https://localhost:8080/"
        },
        "id": "6G7BBX-Ia0y3",
        "outputId": "56239e68-62da-4b62-989d-8887d25d5583"
      },
      "source": [
        "for key, value in lux.items():\n",
        "    print(f'{key}: {value}')"
      ],
      "execution_count": 25,
      "outputs": [
        {
          "output_type": "stream",
          "text": [
            "health: 800\n",
            "mana: 1000\n",
            "melee: 550\n",
            "armor: 18.72\n",
            "new: 10\n"
          ],
          "name": "stdout"
        }
      ]
    },
    {
      "cell_type": "code",
      "metadata": {
        "id": "Uq9vtYIrbI4v"
      },
      "source": [
        ""
      ],
      "execution_count": null,
      "outputs": []
    }
  ]
}
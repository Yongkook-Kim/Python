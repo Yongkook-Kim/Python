{
  "nbformat": 4,
  "nbformat_minor": 0,
  "metadata": {
    "colab": {
      "name": "u10_리스트_튜플.ipynb",
      "provenance": [],
      "collapsed_sections": []
    },
    "kernelspec": {
      "name": "python3",
      "display_name": "Python 3"
    },
    "language_info": {
      "name": "python"
    }
  },
  "cells": [
    {
      "cell_type": "markdown",
      "metadata": {
        "id": "geqj7RzGgoX0"
      },
      "source": [
        "# Unit 10. 리스트와 튜플"
      ]
    },
    {
      "cell_type": "markdown",
      "metadata": {
        "id": "-bS5PP_riFWN"
      },
      "source": [
        "## 10.1 리스트"
      ]
    },
    {
      "cell_type": "code",
      "metadata": {
        "colab": {
          "base_uri": "https://localhost:8080/"
        },
        "id": "XzRril_jgj5q",
        "outputId": "8b05d327-bb75-47bc-cedb-ede6f2958952"
      },
      "source": [
        "a = [38, 21, 53, 62, 19]\n",
        "a"
      ],
      "execution_count": 1,
      "outputs": [
        {
          "output_type": "execute_result",
          "data": {
            "text/plain": [
              "[38, 21, 53, 62, 19]"
            ]
          },
          "metadata": {
            "tags": []
          },
          "execution_count": 1
        }
      ]
    },
    {
      "cell_type": "code",
      "metadata": {
        "colab": {
          "base_uri": "https://localhost:8080/"
        },
        "id": "AbLtx--TiMWy",
        "outputId": "f1ba3143-efc9-49eb-c6b0-9f20e20b59e4"
      },
      "source": [
        "# 파이썬에서는 리스트 엘리먼트가 다른 자료형도 가능\n",
        "person = ['James', 21, 174.5, True, [120, 80]]\n",
        "person"
      ],
      "execution_count": 3,
      "outputs": [
        {
          "output_type": "execute_result",
          "data": {
            "text/plain": [
              "['James', 21, 174.5, True]"
            ]
          },
          "metadata": {
            "tags": []
          },
          "execution_count": 3
        }
      ]
    },
    {
      "cell_type": "code",
      "metadata": {
        "colab": {
          "base_uri": "https://localhost:8080/"
        },
        "id": "UhXYBGRvikFX",
        "outputId": "470d8450-8a78-4107-e59c-c908d1df989d"
      },
      "source": [
        "# 위의 person은 다음과 같은 딕셔너리로 변경하는 것을 권장\n",
        "person_dict = {'name':'James', 'age':21, 'height':174.5,\n",
        "                'is_male':True, 'bp':[120, 80]}\n",
        "person_dict"
      ],
      "execution_count": 4,
      "outputs": [
        {
          "output_type": "execute_result",
          "data": {
            "text/plain": [
              "{'age': 21, 'bp': [120, 80], 'height': 174.5, 'is_male': True, 'name': 'James'}"
            ]
          },
          "metadata": {
            "tags": []
          },
          "execution_count": 4
        }
      ]
    },
    {
      "cell_type": "markdown",
      "metadata": {
        "id": "C7PLdm8GjzxV"
      },
      "source": [
        "### 빈 리스트 만들기"
      ]
    },
    {
      "cell_type": "code",
      "metadata": {
        "colab": {
          "base_uri": "https://localhost:8080/"
        },
        "id": "go8CG6Jgjlow",
        "outputId": "1b9cc07f-e999-47bb-f920-aa36afbbb74f"
      },
      "source": [
        "a = []\n",
        "b = list()\n",
        "a, b"
      ],
      "execution_count": 6,
      "outputs": [
        {
          "output_type": "execute_result",
          "data": {
            "text/plain": [
              "([], [])"
            ]
          },
          "metadata": {
            "tags": []
          },
          "execution_count": 6
        }
      ]
    },
    {
      "cell_type": "code",
      "metadata": {
        "colab": {
          "base_uri": "https://localhost:8080/"
        },
        "id": "zOeN0vr9j5yl",
        "outputId": "4654a9d8-7e7e-4abb-f7e3-3ea16e138df6"
      },
      "source": [
        "a, b = [], []\n",
        "a, b"
      ],
      "execution_count": 8,
      "outputs": [
        {
          "output_type": "execute_result",
          "data": {
            "text/plain": [
              "([], [])"
            ]
          },
          "metadata": {
            "tags": []
          },
          "execution_count": 8
        }
      ]
    },
    {
      "cell_type": "markdown",
      "metadata": {
        "id": "ds8hTk5jkYmE"
      },
      "source": [
        "### range\n",
        "- range([시작숫자], 끝나는 숫자+1, [증가분])"
      ]
    },
    {
      "cell_type": "code",
      "metadata": {
        "colab": {
          "base_uri": "https://localhost:8080/"
        },
        "id": "gEn2mAlDkUhG",
        "outputId": "bf781a1f-96c8-49df-b3ba-005068739abc"
      },
      "source": [
        "a = range(10)\n",
        "a"
      ],
      "execution_count": 9,
      "outputs": [
        {
          "output_type": "execute_result",
          "data": {
            "text/plain": [
              "range(0, 10)"
            ]
          },
          "metadata": {
            "tags": []
          },
          "execution_count": 9
        }
      ]
    },
    {
      "cell_type": "code",
      "metadata": {
        "colab": {
          "base_uri": "https://localhost:8080/"
        },
        "id": "aDAAwo1elBDJ",
        "outputId": "4e45cf44-4495-4858-9447-2d508bc40112"
      },
      "source": [
        "list(a)"
      ],
      "execution_count": 10,
      "outputs": [
        {
          "output_type": "execute_result",
          "data": {
            "text/plain": [
              "[0, 1, 2, 3, 4, 5, 6, 7, 8, 9]"
            ]
          },
          "metadata": {
            "tags": []
          },
          "execution_count": 10
        }
      ]
    },
    {
      "cell_type": "code",
      "metadata": {
        "colab": {
          "base_uri": "https://localhost:8080/"
        },
        "id": "T5CdWFA9lCLr",
        "outputId": "ef83e8f5-e5bc-4319-b7c2-6957d35eefa8"
      },
      "source": [
        "list(range(1,11))"
      ],
      "execution_count": 11,
      "outputs": [
        {
          "output_type": "execute_result",
          "data": {
            "text/plain": [
              "[1, 2, 3, 4, 5, 6, 7, 8, 9, 10]"
            ]
          },
          "metadata": {
            "tags": []
          },
          "execution_count": 11
        }
      ]
    },
    {
      "cell_type": "code",
      "metadata": {
        "colab": {
          "base_uri": "https://localhost:8080/"
        },
        "id": "DZppwX49lWm9",
        "outputId": "7dec54de-9bdf-4872-b79e-23a70aab62ca"
      },
      "source": [
        "list(range(1,10,2))"
      ],
      "execution_count": 12,
      "outputs": [
        {
          "output_type": "execute_result",
          "data": {
            "text/plain": [
              "[1, 3, 5, 7, 9]"
            ]
          },
          "metadata": {
            "tags": []
          },
          "execution_count": 12
        }
      ]
    },
    {
      "cell_type": "code",
      "metadata": {
        "colab": {
          "base_uri": "https://localhost:8080/"
        },
        "id": "uiaBQ9nsltI1",
        "outputId": "e0a8528e-61a9-42c0-9c3d-754ae9c1209e"
      },
      "source": [
        "list(range(2,11,2))"
      ],
      "execution_count": 13,
      "outputs": [
        {
          "output_type": "execute_result",
          "data": {
            "text/plain": [
              "[2, 4, 6, 8, 10]"
            ]
          },
          "metadata": {
            "tags": []
          },
          "execution_count": 13
        }
      ]
    },
    {
      "cell_type": "code",
      "metadata": {
        "colab": {
          "base_uri": "https://localhost:8080/"
        },
        "id": "XXl1mKxAl0SM",
        "outputId": "d76ad977-4a8a-46ad-9cb1-d44dd1db61c0"
      },
      "source": [
        "list(range(10,0,-1))"
      ],
      "execution_count": 14,
      "outputs": [
        {
          "output_type": "execute_result",
          "data": {
            "text/plain": [
              "[10, 9, 8, 7, 6, 5, 4, 3, 2, 1]"
            ]
          },
          "metadata": {
            "tags": []
          },
          "execution_count": 14
        }
      ]
    },
    {
      "cell_type": "markdown",
      "metadata": {
        "id": "9fEO4vO7orYa"
      },
      "source": [
        "## 10.2 튜플"
      ]
    },
    {
      "cell_type": "code",
      "metadata": {
        "colab": {
          "base_uri": "https://localhost:8080/"
        },
        "id": "rTsvw3jmocq0",
        "outputId": "53d9c1b4-53a2-4916-a9ae-942317e527be"
      },
      "source": [
        "a = (38, 21, 47)\n",
        "a"
      ],
      "execution_count": 15,
      "outputs": [
        {
          "output_type": "execute_result",
          "data": {
            "text/plain": [
              "(38, 21, 47)"
            ]
          },
          "metadata": {
            "tags": []
          },
          "execution_count": 15
        }
      ]
    },
    {
      "cell_type": "code",
      "metadata": {
        "colab": {
          "base_uri": "https://localhost:8080/"
        },
        "id": "7NoNso0oo56K",
        "outputId": "38e4b19d-c07c-4b03-aa2c-5a536bc28049"
      },
      "source": [
        "a = 38, 21, 47\n",
        "a"
      ],
      "execution_count": 17,
      "outputs": [
        {
          "output_type": "execute_result",
          "data": {
            "text/plain": [
              "(38, 21, 47)"
            ]
          },
          "metadata": {
            "tags": []
          },
          "execution_count": 17
        }
      ]
    },
    {
      "cell_type": "code",
      "metadata": {
        "colab": {
          "base_uri": "https://localhost:8080/"
        },
        "id": "dt3xzWKpo8Sq",
        "outputId": "ca0c9a44-b93d-4c29-e564-899d21cb7daa"
      },
      "source": [
        "person = ('James', 21, 174.5, True, [120, 80])\n",
        "person"
      ],
      "execution_count": 18,
      "outputs": [
        {
          "output_type": "execute_result",
          "data": {
            "text/plain": [
              "('James', 21, 174.5, True, [120, 80])"
            ]
          },
          "metadata": {
            "tags": []
          },
          "execution_count": 18
        }
      ]
    },
    {
      "cell_type": "code",
      "metadata": {
        "colab": {
          "base_uri": "https://localhost:8080/"
        },
        "id": "7kulw2T9pRKf",
        "outputId": "ae3c1249-828d-41be-b54a-478f760f8c7a"
      },
      "source": [
        "a = (38,) # 1개 엘리먼트를 갖는 튜플은 뒤에 ,를 써야함. 안쓰면 그냥 정수.\n",
        "a"
      ],
      "execution_count": 26,
      "outputs": [
        {
          "output_type": "execute_result",
          "data": {
            "text/plain": [
              "(38,)"
            ]
          },
          "metadata": {
            "tags": []
          },
          "execution_count": 26
        }
      ]
    },
    {
      "cell_type": "code",
      "metadata": {
        "colab": {
          "base_uri": "https://localhost:8080/"
        },
        "id": "fBVTzQXUpxxv",
        "outputId": "ed19c954-1eae-44d3-aec6-b6b5b996c546"
      },
      "source": [
        "tuple(range(5))"
      ],
      "execution_count": 27,
      "outputs": [
        {
          "output_type": "execute_result",
          "data": {
            "text/plain": [
              "(0, 1, 2, 3, 4)"
            ]
          },
          "metadata": {
            "tags": []
          },
          "execution_count": 27
        }
      ]
    },
    {
      "cell_type": "markdown",
      "metadata": {
        "id": "JMLGsWotq3q7"
      },
      "source": [
        "### 리스트 <--> 튜플"
      ]
    },
    {
      "cell_type": "code",
      "metadata": {
        "colab": {
          "base_uri": "https://localhost:8080/"
        },
        "id": "42mvSAXOqyWn",
        "outputId": "faf81405-f277-4e8f-f489-79277e7fc1ee"
      },
      "source": [
        "a = [1, 3, 4]\n",
        "b = tuple(a)\n",
        "b"
      ],
      "execution_count": 28,
      "outputs": [
        {
          "output_type": "execute_result",
          "data": {
            "text/plain": [
              "(1, 3, 4)"
            ]
          },
          "metadata": {
            "tags": []
          },
          "execution_count": 28
        }
      ]
    },
    {
      "cell_type": "code",
      "metadata": {
        "colab": {
          "base_uri": "https://localhost:8080/"
        },
        "id": "YxjYKi1KrEvv",
        "outputId": "5e6a534c-9a23-4fd7-a1db-e6e422aa23af"
      },
      "source": [
        "c = list(b)\n",
        "c"
      ],
      "execution_count": 29,
      "outputs": [
        {
          "output_type": "execute_result",
          "data": {
            "text/plain": [
              "[1, 3, 4]"
            ]
          },
          "metadata": {
            "tags": []
          },
          "execution_count": 29
        }
      ]
    },
    {
      "cell_type": "markdown",
      "metadata": {
        "id": "AA7rmu1QrceA"
      },
      "source": [
        "### 문자열"
      ]
    },
    {
      "cell_type": "code",
      "metadata": {
        "colab": {
          "base_uri": "https://localhost:8080/"
        },
        "id": "mETZ38JvrLdm",
        "outputId": "8bc72388-ef73-4f10-b730-d42354a58fe2"
      },
      "source": [
        "tuple('Hello')"
      ],
      "execution_count": 30,
      "outputs": [
        {
          "output_type": "execute_result",
          "data": {
            "text/plain": [
              "('H', 'e', 'l', 'l', 'o')"
            ]
          },
          "metadata": {
            "tags": []
          },
          "execution_count": 30
        }
      ]
    },
    {
      "cell_type": "code",
      "metadata": {
        "colab": {
          "base_uri": "https://localhost:8080/"
        },
        "id": "d90AbjPsrjaJ",
        "outputId": "9ec3708b-455b-4ac2-9a33-5216ab8d5e81"
      },
      "source": [
        "list('안녕하세요')"
      ],
      "execution_count": 31,
      "outputs": [
        {
          "output_type": "execute_result",
          "data": {
            "text/plain": [
              "['안', '녕', '하', '세', '요']"
            ]
          },
          "metadata": {
            "tags": []
          },
          "execution_count": 31
        }
      ]
    },
    {
      "cell_type": "markdown",
      "metadata": {
        "id": "cJT_d-xfsCvG"
      },
      "source": [
        "### 언팩킹(Unpacking)"
      ]
    },
    {
      "cell_type": "code",
      "metadata": {
        "colab": {
          "base_uri": "https://localhost:8080/"
        },
        "id": "pTYLWWcYrrW6",
        "outputId": "1e34f575-e279-40e4-c24d-db01c9032c1b"
      },
      "source": [
        "# tuple unpacking\n",
        "a = (1, 3, 4)\n",
        "x, y, z = a\n",
        "y, z, x"
      ],
      "execution_count": 32,
      "outputs": [
        {
          "output_type": "execute_result",
          "data": {
            "text/plain": [
              "(3, 4, 1)"
            ]
          },
          "metadata": {
            "tags": []
          },
          "execution_count": 32
        }
      ]
    },
    {
      "cell_type": "code",
      "metadata": {
        "colab": {
          "base_uri": "https://localhost:8080/"
        },
        "id": "ep0sWFnZsL3C",
        "outputId": "f6943a30-e7dd-4eb2-dff7-854877f2da4e"
      },
      "source": [
        "# list unpacking\n",
        "x, y, z = [1, 3, 5]\n",
        "x, z, y"
      ],
      "execution_count": 33,
      "outputs": [
        {
          "output_type": "execute_result",
          "data": {
            "text/plain": [
              "(1, 5, 3)"
            ]
          },
          "metadata": {
            "tags": []
          },
          "execution_count": 33
        }
      ]
    },
    {
      "cell_type": "code",
      "metadata": {
        "id": "fbsIHrLcsXty"
      },
      "source": [
        ""
      ],
      "execution_count": null,
      "outputs": []
    }
  ]
}
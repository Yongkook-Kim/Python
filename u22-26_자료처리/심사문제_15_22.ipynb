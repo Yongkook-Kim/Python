{
  "nbformat": 4,
  "nbformat_minor": 0,
  "metadata": {
    "colab": {
      "name": "심사문제_15-22.ipynb",
      "provenance": [],
      "collapsed_sections": []
    },
    "kernelspec": {
      "name": "python3",
      "display_name": "Python 3"
    },
    "language_info": {
      "name": "python"
    }
  },
  "cells": [
    {
      "cell_type": "code",
      "metadata": {
        "colab": {
          "base_uri": "https://localhost:8080/"
        },
        "id": "XPvVbAXpBLOg",
        "outputId": "8151aacf-081b-4912-97ac-43e16248e062"
      },
      "source": [
        "# 15단원 심사문제\n",
        "age = int(input())\n",
        "balance = 9000    # 교통카드 잔액\n",
        "\n",
        "#----------------------\n",
        "\n",
        "if 7 <= age <= 12:\n",
        "    balance -= 650\n",
        "elif 13 <= age <= 18:\n",
        "    balance -= 1050\n",
        "else:\n",
        "    balance -= 1250\n",
        "\n",
        "#----------------------\n",
        "print(balance)"
      ],
      "execution_count": 3,
      "outputs": [
        {
          "output_type": "stream",
          "text": [
            "15\n",
            "7950\n"
          ],
          "name": "stdout"
        }
      ]
    },
    {
      "cell_type": "code",
      "metadata": {
        "colab": {
          "base_uri": "https://localhost:8080/"
        },
        "id": "ug1rmt0nBs3R",
        "outputId": "bd187158-a5e5-425b-8770-e874c3f273d9"
      },
      "source": [
        "# 16단원 심사문제\n",
        "x = int(input())\n",
        "\n",
        "for i in range(1,10):\n",
        "    print(x,'*',i,'=',x*i)"
      ],
      "execution_count": 6,
      "outputs": [
        {
          "output_type": "stream",
          "text": [
            "7\n",
            "7 * 1 = 7\n",
            "7 * 2 = 14\n",
            "7 * 3 = 21\n",
            "7 * 4 = 28\n",
            "7 * 5 = 35\n",
            "7 * 6 = 42\n",
            "7 * 7 = 49\n",
            "7 * 8 = 56\n",
            "7 * 9 = 63\n"
          ],
          "name": "stdout"
        }
      ]
    },
    {
      "cell_type": "code",
      "metadata": {
        "colab": {
          "base_uri": "https://localhost:8080/"
        },
        "id": "yMVReGo9DUHQ",
        "outputId": "fd1eaf77-a711-49c8-fa88-71f85a0b4f9d"
      },
      "source": [
        "# 17단원 심사문제\n",
        "x = int(input())\n",
        "\n",
        "while x >= 1350:\n",
        "    x -= 1350\n",
        "    print(x)"
      ],
      "execution_count": 8,
      "outputs": [
        {
          "output_type": "stream",
          "text": [
            "13500\n",
            "12150\n",
            "10800\n",
            "9450\n",
            "8100\n",
            "6750\n",
            "5400\n",
            "4050\n",
            "2700\n",
            "1350\n",
            "0\n"
          ],
          "name": "stdout"
        }
      ]
    },
    {
      "cell_type": "code",
      "metadata": {
        "colab": {
          "base_uri": "https://localhost:8080/"
        },
        "id": "hF2ASBqUEXFB",
        "outputId": "c6f05fe1-23cb-442a-8c87-f4685520fbf3"
      },
      "source": [
        "# 18단원 심사문제\n",
        "start, stop = map(int, input().split())\n",
        " \n",
        "i = start\n",
        " \n",
        "while True:\n",
        "#---------------------------------\n",
        "    if i == stop+1:         ## 문제에서 start랑 stop 사이의 숫자라고 해놓고 예시에는 stop 포함됨\n",
        "        break\n",
        "    elif i % 10 == 3:\n",
        "        i += 1\n",
        "        continue\n",
        "#---------------------------------\n",
        "    print(i, end=' ')\n",
        "    i += 1"
      ],
      "execution_count": 16,
      "outputs": [
        {
          "output_type": "stream",
          "text": [
            "1 20\n",
            "1 2 4 5 6 7 8 9 10 11 12 14 15 16 17 18 19 "
          ],
          "name": "stdout"
        }
      ]
    },
    {
      "cell_type": "code",
      "metadata": {
        "colab": {
          "base_uri": "https://localhost:8080/"
        },
        "id": "h98mFD2EFs-6",
        "outputId": "5cc59848-5293-4ffc-e5a6-e017ec049fb9"
      },
      "source": [
        "# 19단원 심사문제\n",
        "x = int(input())\n",
        "\n",
        "for i in range(1,x+1):\n",
        "    print(' '*(x-i) + '*'*(2*i-1))"
      ],
      "execution_count": 18,
      "outputs": [
        {
          "output_type": "stream",
          "text": [
            "3\n",
            "  *\n",
            " ***\n",
            "*****\n"
          ],
          "name": "stdout"
        }
      ]
    },
    {
      "cell_type": "code",
      "metadata": {
        "colab": {
          "base_uri": "https://localhost:8080/"
        },
        "id": "KG9eqp33I0Ih",
        "outputId": "393ec7ed-e124-44fe-8d74-764cda6c5ff6"
      },
      "source": [
        "# 20단원 심사문제\n",
        "\n",
        "start, stop = map(int, input().split())\n",
        "\n",
        "for i in range(start, stop+1):\n",
        "    if i % 35 == 0:\n",
        "        print('FizzBuzz')\n",
        "    elif i % 7 == 0:\n",
        "        print('Buzz')\n",
        "    elif i % 5 == 0:\n",
        "        print('Fizz')\n",
        "    else:\n",
        "        print(i)"
      ],
      "execution_count": 20,
      "outputs": [
        {
          "output_type": "stream",
          "text": [
            "35 40\n",
            "FizzBuzz\n",
            "36\n",
            "37\n",
            "38\n",
            "39\n",
            "Fizz\n"
          ],
          "name": "stdout"
        }
      ]
    },
    {
      "cell_type": "code",
      "metadata": {
        "colab": {
          "base_uri": "https://localhost:8080/"
        },
        "id": "5-nvztU6Jx8T",
        "outputId": "c353a7da-a33f-46b8-b270-be5fb98c5715"
      },
      "source": [
        "# 22단원 심사문제\n",
        "\n",
        "start, stop = map(int, input().split())\n",
        "\n",
        "a = [2**i for i in range(start, stop+1)]\n",
        "del a[1]\n",
        "del a[-2]\n",
        "print(a)"
      ],
      "execution_count": 25,
      "outputs": [
        {
          "output_type": "stream",
          "text": [
            "1 10\n",
            "[2, 8, 16, 32, 64, 128, 256, 1024]\n"
          ],
          "name": "stdout"
        }
      ]
    },
    {
      "cell_type": "code",
      "metadata": {
        "colab": {
          "base_uri": "https://localhost:8080/"
        },
        "id": "CsMmGJ4qMD5c",
        "outputId": "9ecd9f3e-320a-4ee9-df55-2c0e94b54a11"
      },
      "source": [
        "# 추가문제\n",
        "# a + b + c = 1000 (a < b < c)\n",
        "# a*a + b*b = c*c 인 피타고라스 수는?\n",
        "\n",
        "\n",
        "for a in range(1,334):\n",
        "    for b in range(a+1,500):\n",
        "        c = 1000 -a -b\n",
        "        if a*a + b*b == c*c:\n",
        "            print(a, b, c)"
      ],
      "execution_count": 30,
      "outputs": [
        {
          "output_type": "stream",
          "text": [
            "200 375 425\n"
          ],
          "name": "stdout"
        }
      ]
    },
    {
      "cell_type": "code",
      "metadata": {
        "id": "noat7qc3NfUi"
      },
      "source": [
        ""
      ],
      "execution_count": null,
      "outputs": []
    }
  ]
}
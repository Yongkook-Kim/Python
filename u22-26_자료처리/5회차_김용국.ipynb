{
  "nbformat": 4,
  "nbformat_minor": 0,
  "metadata": {
    "colab": {
      "name": "5회차_김용국.ipynb",
      "provenance": [],
      "collapsed_sections": []
    },
    "kernelspec": {
      "name": "python3",
      "display_name": "Python 3"
    },
    "language_info": {
      "name": "python"
    }
  },
  "cells": [
    {
      "cell_type": "markdown",
      "metadata": {
        "id": "AbwEYuNZ96rH"
      },
      "source": [
        "# u22 ~ u26 심사문제"
      ]
    },
    {
      "cell_type": "code",
      "metadata": {
        "colab": {
          "base_uri": "https://localhost:8080/"
        },
        "id": "8UzbfqsI93Gu",
        "outputId": "f4cc658c-d3ed-4b27-b046-637e5f71d4b0"
      },
      "source": [
        "# 22단원 심사문제\n",
        "\n",
        "start, stop = map(int, input().split())\n",
        "\n",
        "a = [2**i for i in range(start, stop+1)]\n",
        "del a[1]\n",
        "del a[-2]\n",
        "print(a)\n"
      ],
      "execution_count": 2,
      "outputs": [
        {
          "output_type": "stream",
          "text": [
            "1 10\n",
            "[2, 8, 16, 32, 64, 128, 256, 1024]\n"
          ],
          "name": "stdout"
        }
      ]
    },
    {
      "cell_type": "code",
      "metadata": {
        "colab": {
          "base_uri": "https://localhost:8080/"
        },
        "id": "s_Jj-70m-Avv",
        "outputId": "cc2f7706-fa1a-457e-9beb-c2b8bdd652eb"
      },
      "source": [
        "# 23단원 심사문제 (지뢰찾기)\n",
        "##### 입력 받는 부분 #####\n",
        "col, row = map(int, input().split())\n",
        "\n",
        "matrix = []\n",
        "for i in range(row):\n",
        "    matrix.append(list(input()))\n",
        "\n",
        "##### 패딩 #####\n",
        "new_matrix = []\n",
        "first_row = []\n",
        "for i in range(col+2):\n",
        "    first_row.append('.')\n",
        "\n",
        "new_matrix.append(first_row)\n",
        "\n",
        "for i in range(len(matrix)):\n",
        "    new_matrix.append(['.'])\n",
        "    new_matrix[i+1].extend(matrix[i])\n",
        "    new_matrix[i+1].append('.')\n",
        "\n",
        "new_matrix.append(first_row)\n",
        "\n",
        "##### 쩜에서 8방향 지뢰 갯수 세는 부분 #####\n",
        "for i in range(1, row+1):\n",
        "    for k in range(1, col+1):\n",
        "        if new_matrix[i][k] == '*':\n",
        "            continue\n",
        "        else:\n",
        "            count = 0\n",
        "            if new_matrix[i+1][k] == '*':\n",
        "                count += 1\n",
        "            if new_matrix[i-1][k] == '*':\n",
        "                count += 1\n",
        "            if new_matrix[i][k+1] == '*':\n",
        "                count += 1\n",
        "            if new_matrix[i][k-1] == '*':\n",
        "                count += 1\n",
        "            if new_matrix[i+1][k+1] == '*':\n",
        "                count += 1\n",
        "            if new_matrix[i-1][k-1] == '*':\n",
        "                count += 1\n",
        "            if new_matrix[i+1][k-1] == '*':\n",
        "                count += 1\n",
        "            if new_matrix[i-1][k+1] == '*':\n",
        "                count += 1\n",
        "            new_matrix[i][k] = count\n",
        "\n",
        "##### 패딩 했던거 지우기 #####\n",
        "\n",
        "del new_matrix[0]\n",
        "del new_matrix[row]\n",
        "for i in range(row):\n",
        "    del new_matrix[i][0]\n",
        "    del new_matrix[i][col]\n",
        "\n",
        "##### 출력 #####\n",
        "\n",
        "for i in range(row):\n",
        "    for k in range(col):\n",
        "        print(new_matrix[i][k], end='')\n",
        "    print()\n"
      ],
      "execution_count": 93,
      "outputs": [
        {
          "output_type": "stream",
          "text": [
            "5 5\n",
            "..*..\n",
            ".*.**\n",
            "*...*\n",
            "*..*.\n",
            ".***.\n",
            "12*32\n",
            "2*3**\n",
            "*334*\n",
            "*44*3\n",
            "2***2\n"
          ],
          "name": "stdout"
        }
      ]
    },
    {
      "cell_type": "code",
      "metadata": {
        "colab": {
          "base_uri": "https://localhost:8080/"
        },
        "id": "4YWcZzguDZT3",
        "outputId": "8ffaa394-2cde-4808-c6b8-07a6584b52f5"
      },
      "source": [
        "# 24단원 심사문제 (1)\n",
        "\n",
        "from string import punctuation\n",
        "\n",
        "x = input().split()\n",
        "\n",
        "ans = 0\n",
        "\n",
        "for word in x:\n",
        "    word = word.strip(punctuation)\n",
        "    if word == 'the':\n",
        "        ans += 1\n",
        "print(ans)"
      ],
      "execution_count": 36,
      "outputs": [
        {
          "output_type": "stream",
          "text": [
            "the grown-ups' response, this time, was to advise me to lay aside my drawings of boa constrictors, whether from the inside or the outside, and devote myself instead to geography, history, arithmetic, and grammar. That is why, at the, age of six, I gave up what might have been a magnificent career as a painter. I had been disheartened by the failure of my Drawing Number One and my Drawing Number Two. Grown-ups never understand anything by themselves, and it is tiresome for children to be always and forever explaining things to the.\n",
            "6\n"
          ],
          "name": "stdout"
        }
      ]
    },
    {
      "cell_type": "code",
      "metadata": {
        "colab": {
          "base_uri": "https://localhost:8080/"
        },
        "id": "LBqrtqLtD4u_",
        "outputId": "dac56a8d-940e-4659-da57-f227c0e0b003"
      },
      "source": [
        "# 24단원 심사문제 (2)\n",
        "\n",
        "x = list(map(int, input().split(';')))\n",
        "x.sort()\n",
        "x.reverse()\n",
        "for i in range(len(x)):\n",
        "    if x[i] >= 1000000:\n",
        "        a = str(x[i])\n",
        "        num = a[0]+','+a[1:4]+','+a[4:7]\n",
        "    elif x[i] > 1000:\n",
        "        a = str(x[i])\n",
        "        num = a[:-3] + ',' + a[-3:]\n",
        "    print(f'{num:>9}')"
      ],
      "execution_count": 67,
      "outputs": [
        {
          "output_type": "stream",
          "text": [
            "51900;83000;158000;367500;250000;59200;128500;1304000\n",
            "1,304,000\n",
            "  367,500\n",
            "  250,000\n",
            "  158,000\n",
            "  128,500\n",
            "   83,000\n",
            "   59,200\n",
            "   51,900\n"
          ],
          "name": "stdout"
        }
      ]
    },
    {
      "cell_type": "code",
      "metadata": {
        "colab": {
          "base_uri": "https://localhost:8080/"
        },
        "id": "gAeBMYzSDa_w",
        "outputId": "761c747b-5733-4add-970b-7b0ba92fa407"
      },
      "source": [
        "# 25단원 심사문제\n",
        "#alpha bravo charlie delta\n",
        "#10 20 30 40\n",
        "\n",
        "keys = input().split()\n",
        "values = map(int, input().split())\n",
        " \n",
        "x = dict(zip(keys, values))\n",
        "#-----------------------------\n",
        "x.pop('delta')\n",
        "\n",
        "for key in x:\n",
        "    if x[key] == 30:\n",
        "        a = key\n",
        "x.pop(a)\n",
        "#-----------------------------\n",
        "print(x)"
      ],
      "execution_count": 75,
      "outputs": [
        {
          "output_type": "stream",
          "text": [
            "alpha bravo charlie delta\n",
            "10 20 30 40\n",
            "{'alpha': 10, 'bravo': 20}\n"
          ],
          "name": "stdout"
        }
      ]
    },
    {
      "cell_type": "code",
      "metadata": {
        "colab": {
          "base_uri": "https://localhost:8080/"
        },
        "id": "vrqUUW2RDcS2",
        "outputId": "fd82ae96-f104-40d3-a5a2-0a37910ae425"
      },
      "source": [
        "# 26단원 심사문제\n",
        "#------------------------------------\n",
        "x, y = map(int,input().split())\n",
        "div_x = set()\n",
        "div_y = set()\n",
        "\n",
        "for i in range(1,x+1):\n",
        "    if x % i == 0:\n",
        "        div_x.add(i)\n",
        "\n",
        "for i in range(1,y+1):\n",
        "    if y % i == 0:\n",
        "        div_y.add(i)\n",
        "\n",
        "a = div_x\n",
        "b = div_y\n",
        "#------------------------------------\n",
        "divisor = a & b\n",
        " \n",
        "result = 0\n",
        "if type(divisor) == set:\n",
        "    result = sum(divisor)\n",
        " \n",
        "print(result)"
      ],
      "execution_count": 78,
      "outputs": [
        {
          "output_type": "stream",
          "text": [
            "10 20\n",
            "18\n"
          ],
          "name": "stdout"
        }
      ]
    }
  ]
}
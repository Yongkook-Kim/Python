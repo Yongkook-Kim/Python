{
  "nbformat": 4,
  "nbformat_minor": 0,
  "metadata": {
    "colab": {
      "name": "u16_for반복문.ipynb",
      "provenance": [],
      "collapsed_sections": []
    },
    "kernelspec": {
      "name": "python3",
      "display_name": "Python 3"
    },
    "language_info": {
      "name": "python"
    }
  },
  "cells": [
    {
      "cell_type": "markdown",
      "metadata": {
        "id": "PxUVAZ7js9tv"
      },
      "source": [
        "# Unit 16. for 반복문"
      ]
    },
    {
      "cell_type": "markdown",
      "metadata": {
        "id": "hu2HA9JqtB3Q"
      },
      "source": [
        "## 16.1 for와 range"
      ]
    },
    {
      "cell_type": "code",
      "metadata": {
        "colab": {
          "base_uri": "https://localhost:8080/"
        },
        "id": "bY0jO5g1s6dK",
        "outputId": "37bf9609-cea3-4db3-a709-73047338a4a8"
      },
      "source": [
        "for i in range(10):\n",
        "    print('Hello, world!')"
      ],
      "execution_count": 1,
      "outputs": [
        {
          "output_type": "stream",
          "text": [
            "Hello, world!\n",
            "Hello, world!\n",
            "Hello, world!\n",
            "Hello, world!\n",
            "Hello, world!\n",
            "Hello, world!\n",
            "Hello, world!\n",
            "Hello, world!\n",
            "Hello, world!\n",
            "Hello, world!\n"
          ],
          "name": "stdout"
        }
      ]
    },
    {
      "cell_type": "code",
      "metadata": {
        "colab": {
          "base_uri": "https://localhost:8080/"
        },
        "id": "QpV4vXQsuZ-Z",
        "outputId": "ccb6ce0a-0381-4e94-9f6b-b1a072919bca"
      },
      "source": [
        "for i in range(10):\n",
        "    print('Hello, world!', i)"
      ],
      "execution_count": 8,
      "outputs": [
        {
          "output_type": "stream",
          "text": [
            "Hello, world! 0\n",
            "Hello, world! 1\n",
            "Hello, world! 2\n",
            "Hello, world! 3\n",
            "Hello, world! 4\n",
            "Hello, world! 5\n",
            "Hello, world! 6\n",
            "Hello, world! 7\n",
            "Hello, world! 8\n",
            "Hello, world! 9\n"
          ],
          "name": "stdout"
        }
      ]
    },
    {
      "cell_type": "code",
      "metadata": {
        "colab": {
          "base_uri": "https://localhost:8080/"
        },
        "id": "PH1mmw4cvghY",
        "outputId": "2dfdb7ee-03b5-4e5a-f346-cccb5c767cb2"
      },
      "source": [
        "for _ in range(10):             # i를 사용하지 않을 때 _이용\n",
        "    print('Hello, world!')"
      ],
      "execution_count": 9,
      "outputs": [
        {
          "output_type": "stream",
          "text": [
            "Hello, world!\n",
            "Hello, world!\n",
            "Hello, world!\n",
            "Hello, world!\n",
            "Hello, world!\n",
            "Hello, world!\n",
            "Hello, world!\n",
            "Hello, world!\n",
            "Hello, world!\n",
            "Hello, world!\n"
          ],
          "name": "stdout"
        }
      ]
    },
    {
      "cell_type": "markdown",
      "metadata": {
        "id": "s3TwXR-Yx4ZU"
      },
      "source": [
        "## 16.2 for와 range 응용"
      ]
    },
    {
      "cell_type": "code",
      "metadata": {
        "colab": {
          "base_uri": "https://localhost:8080/"
        },
        "id": "kHY2RuRKx8Fc",
        "outputId": "05dea205-b8db-4f9e-fc02-f65e5984f4a6"
      },
      "source": [
        "for i in range(6,10):\n",
        "    print('Hello, world!', i)"
      ],
      "execution_count": 10,
      "outputs": [
        {
          "output_type": "stream",
          "text": [
            "Hello, world! 6\n",
            "Hello, world! 7\n",
            "Hello, world! 8\n",
            "Hello, world! 9\n"
          ],
          "name": "stdout"
        }
      ]
    },
    {
      "cell_type": "code",
      "metadata": {
        "colab": {
          "base_uri": "https://localhost:8080/"
        },
        "id": "mlL0N6EvyNzt",
        "outputId": "ced2ac19-4344-42a7-f9e0-aee233675b86"
      },
      "source": [
        "for i in range(0,10,2):\n",
        "    print('Hello, world!', i)"
      ],
      "execution_count": 11,
      "outputs": [
        {
          "output_type": "stream",
          "text": [
            "Hello, world! 0\n",
            "Hello, world! 2\n",
            "Hello, world! 4\n",
            "Hello, world! 6\n",
            "Hello, world! 8\n"
          ],
          "name": "stdout"
        }
      ]
    },
    {
      "cell_type": "code",
      "metadata": {
        "colab": {
          "base_uri": "https://localhost:8080/"
        },
        "id": "K2OfAzojyQmc",
        "outputId": "b920a38c-03d8-4f78-e02c-868c1cfb5196"
      },
      "source": [
        "for i in range(10,0,-2):\n",
        "    print('Hello, world!', i)"
      ],
      "execution_count": 12,
      "outputs": [
        {
          "output_type": "stream",
          "text": [
            "Hello, world! 10\n",
            "Hello, world! 8\n",
            "Hello, world! 6\n",
            "Hello, world! 4\n",
            "Hello, world! 2\n"
          ],
          "name": "stdout"
        }
      ]
    },
    {
      "cell_type": "code",
      "metadata": {
        "colab": {
          "base_uri": "https://localhost:8080/"
        },
        "id": "xKPgLFkRyYBp",
        "outputId": "f0904221-db2f-4cba-cbcf-c49a3f5b8020"
      },
      "source": [
        "for i in range(1,101):\n",
        "    print('fizz'*(i%3==0) + 'buzz'*(i%5==0) or i, end=' ')\n",
        "    if i%10 == 0:\n",
        "        print()"
      ],
      "execution_count": 15,
      "outputs": [
        {
          "output_type": "stream",
          "text": [
            "1 2 fizz 4 buzz fizz 7 8 fizz buzz \n",
            "11 fizz 13 14 fizzbuzz 16 17 fizz 19 buzz \n",
            "fizz 22 23 fizz buzz 26 fizz 28 29 fizzbuzz \n",
            "31 32 fizz 34 buzz fizz 37 38 fizz buzz \n",
            "41 fizz 43 44 fizzbuzz 46 47 fizz 49 buzz \n",
            "fizz 52 53 fizz buzz 56 fizz 58 59 fizzbuzz \n",
            "61 62 fizz 64 buzz fizz 67 68 fizz buzz \n",
            "71 fizz 73 74 fizzbuzz 76 77 fizz 79 buzz \n",
            "fizz 82 83 fizz buzz 86 fizz 88 89 fizzbuzz \n",
            "91 92 fizz 94 buzz fizz 97 98 fizz buzz \n"
          ],
          "name": "stdout"
        }
      ]
    },
    {
      "cell_type": "markdown",
      "metadata": {
        "id": "9zUXKeO2z7JS"
      },
      "source": [
        "## 16.3 시퀀스 객체 반복"
      ]
    },
    {
      "cell_type": "code",
      "metadata": {
        "colab": {
          "base_uri": "https://localhost:8080/"
        },
        "id": "dZ1dO6Ggza07",
        "outputId": "be2231b4-0aee-4457-f368-7a6cc01ac492"
      },
      "source": [
        "fruits = ['apple', 'banana', 'cherry']\n",
        "for element in fruits:\n",
        "    print(element)"
      ],
      "execution_count": 16,
      "outputs": [
        {
          "output_type": "stream",
          "text": [
            "apple\n",
            "banana\n",
            "cherry\n"
          ],
          "name": "stdout"
        }
      ]
    },
    {
      "cell_type": "code",
      "metadata": {
        "colab": {
          "base_uri": "https://localhost:8080/"
        },
        "id": "T-hgDJjT0cEy",
        "outputId": "f0dddb68-e1af-40a4-8b0c-b6683ea3944e"
      },
      "source": [
        "fruit_list = ['apple', 'banana', 'cherry']\n",
        "for fruit in fruit_list:\n",
        "    print(fruit)"
      ],
      "execution_count": 18,
      "outputs": [
        {
          "output_type": "stream",
          "text": [
            "apple\n",
            "banana\n",
            "cherry\n"
          ],
          "name": "stdout"
        }
      ]
    },
    {
      "cell_type": "code",
      "metadata": {
        "colab": {
          "base_uri": "https://localhost:8080/"
        },
        "id": "-dCmqD9X0hSZ",
        "outputId": "92313513-763e-4909-d6b5-4b62e4296038"
      },
      "source": [
        "for letter in 'Python':\n",
        "    print(letter, end='')"
      ],
      "execution_count": 20,
      "outputs": [
        {
          "output_type": "stream",
          "text": [
            "Python"
          ],
          "name": "stdout"
        }
      ]
    },
    {
      "cell_type": "code",
      "metadata": {
        "colab": {
          "base_uri": "https://localhost:8080/"
        },
        "id": "GINVFk7C2Y2S",
        "outputId": "1c0c7548-d7e5-4d18-bd12-68e5c0909a76"
      },
      "source": [
        "for letter in reversed('Python'):\n",
        "    print(letter, end=' ')"
      ],
      "execution_count": 21,
      "outputs": [
        {
          "output_type": "stream",
          "text": [
            "n o h t y P "
          ],
          "name": "stdout"
        }
      ]
    },
    {
      "cell_type": "code",
      "metadata": {
        "colab": {
          "base_uri": "https://localhost:8080/"
        },
        "id": "0B8kUl1V2tZg",
        "outputId": "6908fe3d-ed97-4b7f-80c8-4c8f41d7ba78"
      },
      "source": [
        "for number in (10, 20, 30):\n",
        "    print(number)"
      ],
      "execution_count": 22,
      "outputs": [
        {
          "output_type": "stream",
          "text": [
            "10\n",
            "20\n",
            "30\n"
          ],
          "name": "stdout"
        }
      ]
    },
    {
      "cell_type": "markdown",
      "metadata": {
        "id": "DzrtBAV-3iyV"
      },
      "source": [
        "### Perfect Number\n",
        "- 자기 자신을 제외한 약수의 합이 자기 자신과 같은 수\n",
        "- 6 = 1 + 2 + 3"
      ]
    },
    {
      "cell_type": "code",
      "metadata": {
        "colab": {
          "base_uri": "https://localhost:8080/"
        },
        "id": "wfmfLxFN3JiU",
        "outputId": "fa9e4761-0eb1-4c7b-fb43-26fe253249f9"
      },
      "source": [
        "# 10000 이하의 자연수 중에서 4개의 퍼펙트 넘버를 찾아라\n",
        "\n",
        "for i in range(2,10001):\n",
        "    n = 0\n",
        "    for j in range(1,i):\n",
        "        if i%j==0:\n",
        "            n += j\n",
        "    if n == i:\n",
        "        print(i)"
      ],
      "execution_count": 24,
      "outputs": [
        {
          "output_type": "stream",
          "text": [
            "6\n",
            "28\n",
            "496\n",
            "8128\n"
          ],
          "name": "stdout"
        }
      ]
    }
  ]
}
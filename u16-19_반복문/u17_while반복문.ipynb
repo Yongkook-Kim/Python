{
  "nbformat": 4,
  "nbformat_minor": 0,
  "metadata": {
    "colab": {
      "name": "u17_while반복문.ipynb",
      "provenance": [],
      "collapsed_sections": []
    },
    "kernelspec": {
      "name": "python3",
      "display_name": "Python 3"
    },
    "language_info": {
      "name": "python"
    }
  },
  "cells": [
    {
      "cell_type": "markdown",
      "metadata": {
        "id": "igSh-rwxAw_b"
      },
      "source": [
        "# Unit 17. while 반복문"
      ]
    },
    {
      "cell_type": "markdown",
      "metadata": {
        "id": "mn18L2xPA1fI"
      },
      "source": [
        "## 17.1 while 반복문\n",
        "- 반복 횟수가 정해져 있으면 for문 사용"
      ]
    },
    {
      "cell_type": "markdown",
      "metadata": {
        "id": "qeSUl7keCGwA"
      },
      "source": [
        "## 17.2 반복 횟수가 정해지지 않은 경우의 while 반복문"
      ]
    },
    {
      "cell_type": "code",
      "metadata": {
        "id": "BBhrtk0eAuRD"
      },
      "source": [
        "import random"
      ],
      "execution_count": 1,
      "outputs": []
    },
    {
      "cell_type": "code",
      "metadata": {
        "colab": {
          "base_uri": "https://localhost:8080/"
        },
        "id": "EJtsPbflCUbP",
        "outputId": "6e059f59-459e-4054-96e7-85646ecc31d2"
      },
      "source": [
        "random.random()"
      ],
      "execution_count": 2,
      "outputs": [
        {
          "output_type": "execute_result",
          "data": {
            "text/plain": [
              "0.9665770096317882"
            ]
          },
          "metadata": {
            "tags": []
          },
          "execution_count": 2
        }
      ]
    },
    {
      "cell_type": "code",
      "metadata": {
        "colab": {
          "base_uri": "https://localhost:8080/"
        },
        "id": "0E7s33BpCWcm",
        "outputId": "fed2d120-b7c6-4634-8b77-23ee6dbd97dc"
      },
      "source": [
        "random.randint(1,6)"
      ],
      "execution_count": 3,
      "outputs": [
        {
          "output_type": "execute_result",
          "data": {
            "text/plain": [
              "4"
            ]
          },
          "metadata": {
            "tags": []
          },
          "execution_count": 3
        }
      ]
    },
    {
      "cell_type": "code",
      "metadata": {
        "colab": {
          "base_uri": "https://localhost:8080/"
        },
        "id": "hCqttdP3CiK4",
        "outputId": "d6bc0b97-4c54-4901-fc87-3e0ef89a3ff6"
      },
      "source": [
        "i =  0\n",
        "while i != 3:\n",
        "    i = random.randint(1,6)\n",
        "    print(i)"
      ],
      "execution_count": 8,
      "outputs": [
        {
          "output_type": "stream",
          "text": [
            "2\n",
            "5\n",
            "4\n",
            "6\n",
            "2\n",
            "3\n"
          ],
          "name": "stdout"
        }
      ]
    },
    {
      "cell_type": "code",
      "metadata": {
        "colab": {
          "base_uri": "https://localhost:8080/"
        },
        "id": "h1l4q7MdC7LE",
        "outputId": "a48f97c9-5f5d-4e2e-edf1-eb42d952ab22"
      },
      "source": [
        "i = 0\n",
        "dice = list(range(1,7))\n",
        "while i != 3:\n",
        "    i = random.choice(dice)\n",
        "    print(i)"
      ],
      "execution_count": 9,
      "outputs": [
        {
          "output_type": "stream",
          "text": [
            "2\n",
            "5\n",
            "4\n",
            "5\n",
            "2\n",
            "3\n"
          ],
          "name": "stdout"
        }
      ]
    },
    {
      "cell_type": "code",
      "metadata": {
        "colab": {
          "base_uri": "https://localhost:8080/"
        },
        "id": "qNzJIx1JDYQr",
        "outputId": "7425b579-9c66-4b85-d2a2-839496cae0a4"
      },
      "source": [
        "random.sample(dice, 6)"
      ],
      "execution_count": 15,
      "outputs": [
        {
          "output_type": "execute_result",
          "data": {
            "text/plain": [
              "[4, 2, 5, 3, 1, 6]"
            ]
          },
          "metadata": {
            "tags": []
          },
          "execution_count": 15
        }
      ]
    },
    {
      "cell_type": "code",
      "metadata": {
        "id": "8lD9UKbSDxrp"
      },
      "source": [
        ""
      ],
      "execution_count": null,
      "outputs": []
    }
  ]
}
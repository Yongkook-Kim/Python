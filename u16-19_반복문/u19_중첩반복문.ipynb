{
  "nbformat": 4,
  "nbformat_minor": 0,
  "metadata": {
    "colab": {
      "name": "u19_중첩반복문.ipynb",
      "provenance": [],
      "collapsed_sections": []
    },
    "kernelspec": {
      "name": "python3",
      "display_name": "Python 3"
    },
    "language_info": {
      "name": "python"
    }
  },
  "cells": [
    {
      "cell_type": "markdown",
      "metadata": {
        "id": "QSJWR01wbKzX"
      },
      "source": [
        "# Unit 19. 중첩 반복문"
      ]
    },
    {
      "cell_type": "markdown",
      "metadata": {
        "id": "8pCeo5YWbQ6z"
      },
      "source": [
        "## 19.1 중첩(Nested) for loop"
      ]
    },
    {
      "cell_type": "code",
      "metadata": {
        "colab": {
          "base_uri": "https://localhost:8080/"
        },
        "id": "JFabloovbJ0q",
        "outputId": "dfbd7bb7-039f-4a63-acca-d4e59cfc12c8"
      },
      "source": [
        "for i in range(1,6):\n",
        "    for k in range(10, 60, 10):\n",
        "        print(k, end=' ')\n",
        "    print(i)"
      ],
      "execution_count": 2,
      "outputs": [
        {
          "output_type": "stream",
          "text": [
            "10 20 30 40 50 1\n",
            "10 20 30 40 50 2\n",
            "10 20 30 40 50 3\n",
            "10 20 30 40 50 4\n",
            "10 20 30 40 50 5\n"
          ],
          "name": "stdout"
        }
      ]
    },
    {
      "cell_type": "markdown",
      "metadata": {
        "id": "IGCROOGIcpYg"
      },
      "source": [
        "## 19.2 별 사각형"
      ]
    },
    {
      "cell_type": "code",
      "metadata": {
        "colab": {
          "base_uri": "https://localhost:8080/"
        },
        "id": "psFdwvvWcXFQ",
        "outputId": "c76026de-303b-4291-f0bf-a203ad1a89b5"
      },
      "source": [
        "for i in range(5):\n",
        "    for k in range(5):\n",
        "        print('*', end='')\n",
        "    print()"
      ],
      "execution_count": 3,
      "outputs": [
        {
          "output_type": "stream",
          "text": [
            "*****\n",
            "*****\n",
            "*****\n",
            "*****\n",
            "*****\n"
          ],
          "name": "stdout"
        }
      ]
    },
    {
      "cell_type": "code",
      "metadata": {
        "colab": {
          "base_uri": "https://localhost:8080/"
        },
        "id": "RvTHkab8c7Fn",
        "outputId": "758959db-5d88-49b7-947d-9f83c285e2ef"
      },
      "source": [
        "# 평행사변형\n",
        "for i in range(4):\n",
        "    print(' '*i, end='')\n",
        "    for _ in range(5):\n",
        "        print('*', end='')\n",
        "    print()"
      ],
      "execution_count": 6,
      "outputs": [
        {
          "output_type": "stream",
          "text": [
            "*****\n",
            " *****\n",
            "  *****\n",
            "   *****\n"
          ],
          "name": "stdout"
        }
      ]
    },
    {
      "cell_type": "code",
      "metadata": {
        "colab": {
          "base_uri": "https://localhost:8080/"
        },
        "id": "MUPGyGehd8ik",
        "outputId": "668a38b2-1bc1-451d-af43-ab0ebd297c92"
      },
      "source": [
        "for i in range(4):\n",
        "    print(' '*i, '*'*5)"
      ],
      "execution_count": 7,
      "outputs": [
        {
          "output_type": "stream",
          "text": [
            " *****\n",
            "  *****\n",
            "   *****\n",
            "    *****\n"
          ],
          "name": "stdout"
        }
      ]
    },
    {
      "cell_type": "code",
      "metadata": {
        "colab": {
          "base_uri": "https://localhost:8080/"
        },
        "id": "ucbPJ7OQfH_S",
        "outputId": "af8d5df8-e004-4ed5-8698-174379cc7448"
      },
      "source": [
        "for i in range(1,6):\n",
        "    print('*'*i)"
      ],
      "execution_count": 10,
      "outputs": [
        {
          "output_type": "stream",
          "text": [
            "*\n",
            "**\n",
            "***\n",
            "****\n",
            "*****\n"
          ],
          "name": "stdout"
        }
      ]
    },
    {
      "cell_type": "code",
      "metadata": {
        "colab": {
          "base_uri": "https://localhost:8080/"
        },
        "id": "4ZA1YC9JfQrO",
        "outputId": "2dbf222f-164c-430f-f54b-8eb9df982a3c"
      },
      "source": [
        "for i in range(1,6):\n",
        "    print(' '*(i-1) + '*'*(6-i))"
      ],
      "execution_count": 12,
      "outputs": [
        {
          "output_type": "stream",
          "text": [
            "*****\n",
            " ****\n",
            "  ***\n",
            "   **\n",
            "    *\n"
          ],
          "name": "stdout"
        }
      ]
    },
    {
      "cell_type": "code",
      "metadata": {
        "colab": {
          "base_uri": "https://localhost:8080/"
        },
        "id": "NJIFahrDgFg5",
        "outputId": "f82c0c12-654b-4a6f-d10a-19494899b28b"
      },
      "source": [
        "for i in range(1,6):\n",
        "    print(' '*(5-i) + '*'*(2*i -1))\n",
        "for i in range(1,5):\n",
        "    print(' '*i + '*'*(9-2*i))"
      ],
      "execution_count": 18,
      "outputs": [
        {
          "output_type": "stream",
          "text": [
            "    *\n",
            "   ***\n",
            "  *****\n",
            " *******\n",
            "*********\n",
            " *******\n",
            "  *****\n",
            "   ***\n",
            "    *\n"
          ],
          "name": "stdout"
        }
      ]
    },
    {
      "cell_type": "code",
      "metadata": {
        "colab": {
          "base_uri": "https://localhost:8080/"
        },
        "id": "bMjoYmF6pa5w",
        "outputId": "2a889a6d-f25f-48e7-e7df-740686d172a1"
      },
      "source": [
        "for i in range(-4,5):\n",
        "    print(' '*(abs(i))+'*'*(-2*abs(i)+9))"
      ],
      "execution_count": 24,
      "outputs": [
        {
          "output_type": "stream",
          "text": [
            "    *\n",
            "   ***\n",
            "  *****\n",
            " *******\n",
            "*********\n",
            " *******\n",
            "  *****\n",
            "   ***\n",
            "    *\n"
          ],
          "name": "stdout"
        }
      ]
    },
    {
      "cell_type": "code",
      "metadata": {
        "id": "yc2lEaa3pmK9"
      },
      "source": [
        ""
      ],
      "execution_count": null,
      "outputs": []
    }
  ]
}
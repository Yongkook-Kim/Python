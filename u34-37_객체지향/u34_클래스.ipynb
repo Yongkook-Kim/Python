{
  "nbformat": 4,
  "nbformat_minor": 0,
  "metadata": {
    "colab": {
      "name": "u34_클래스.ipynb",
      "provenance": [],
      "collapsed_sections": []
    },
    "kernelspec": {
      "name": "python3",
      "display_name": "Python 3"
    },
    "language_info": {
      "name": "python"
    }
  },
  "cells": [
    {
      "cell_type": "markdown",
      "metadata": {
        "id": "kwcf4ddjNEZ1"
      },
      "source": [
        "# Unit 34. 클래스(Class)"
      ]
    },
    {
      "cell_type": "markdown",
      "metadata": {
        "id": "ul6wgm-xNINj"
      },
      "source": [
        "## 34.1 클래스와 메서드 만들기"
      ]
    },
    {
      "cell_type": "code",
      "metadata": {
        "id": "zgeW6nHBM6Kt"
      },
      "source": [
        "class Person:       # 클래스 이름은 대문자로 시작\n",
        "    def greeting(self):\n",
        "        print('Hello')"
      ],
      "execution_count": 1,
      "outputs": []
    },
    {
      "cell_type": "code",
      "metadata": {
        "id": "darw92DxNSH4"
      },
      "source": [
        "# 인스턴스를 만들어야 클래스를 사용할 수 있다\n",
        "james = Person()\n",
        "maria = Person()"
      ],
      "execution_count": 2,
      "outputs": []
    },
    {
      "cell_type": "code",
      "metadata": {
        "colab": {
          "base_uri": "https://localhost:8080/"
        },
        "id": "beg77Z4lNYUJ",
        "outputId": "fc3da507-ad2c-406f-bce4-0086e22db0ea"
      },
      "source": [
        "james.greeting()"
      ],
      "execution_count": 3,
      "outputs": [
        {
          "output_type": "stream",
          "text": [
            "Hello\n"
          ],
          "name": "stdout"
        }
      ]
    },
    {
      "cell_type": "code",
      "metadata": {
        "colab": {
          "base_uri": "https://localhost:8080/"
        },
        "id": "wKk07-90NanY",
        "outputId": "a2f105cb-05a3-45fa-99ad-02b49539a7e8"
      },
      "source": [
        "maria.greeting()"
      ],
      "execution_count": 4,
      "outputs": [
        {
          "output_type": "stream",
          "text": [
            "Hello\n"
          ],
          "name": "stdout"
        }
      ]
    },
    {
      "cell_type": "code",
      "metadata": {
        "colab": {
          "base_uri": "https://localhost:8080/"
        },
        "id": "Bk0bdtFFNcAb",
        "outputId": "72da6ff2-096c-4dc9-b9be-908fd61fdf4d"
      },
      "source": [
        "Person().greeting()"
      ],
      "execution_count": 5,
      "outputs": [
        {
          "output_type": "stream",
          "text": [
            "Hello\n"
          ],
          "name": "stdout"
        }
      ]
    },
    {
      "cell_type": "code",
      "metadata": {
        "id": "XvTRumcjNd8H"
      },
      "source": [
        "# 클래스 내에서 메서드 호출하기\n",
        "class Person:\n",
        "    def greeting(self):\n",
        "        print('Hello')\n",
        "\n",
        "    def hello(self):\n",
        "        self.greeting()"
      ],
      "execution_count": 6,
      "outputs": []
    },
    {
      "cell_type": "code",
      "metadata": {
        "colab": {
          "base_uri": "https://localhost:8080/"
        },
        "id": "8WOD19_uNoH7",
        "outputId": "b3cc7472-eff5-42e1-bb26-18bc616e8ded"
      },
      "source": [
        "james = Person()\n",
        "james.hello()"
      ],
      "execution_count": 7,
      "outputs": [
        {
          "output_type": "stream",
          "text": [
            "Hello\n"
          ],
          "name": "stdout"
        }
      ]
    },
    {
      "cell_type": "code",
      "metadata": {
        "colab": {
          "base_uri": "https://localhost:8080/"
        },
        "id": "ro1xraK-Nrrm",
        "outputId": "80366f51-ecfb-4b87-ed61-06810c38cb59"
      },
      "source": [
        "isinstance(james, Person)"
      ],
      "execution_count": 8,
      "outputs": [
        {
          "output_type": "execute_result",
          "data": {
            "text/plain": [
              "True"
            ]
          },
          "metadata": {
            "tags": []
          },
          "execution_count": 8
        }
      ]
    },
    {
      "cell_type": "code",
      "metadata": {
        "id": "cxgURiOyOOgl"
      },
      "source": [
        "def factorial(n):\n",
        "    if not isinstance(n, int) or n < 0:\n",
        "        return None\n",
        "    if n == 0:\n",
        "        return 1\n",
        "    return n*factorial(n-1)"
      ],
      "execution_count": 9,
      "outputs": []
    },
    {
      "cell_type": "code",
      "metadata": {
        "id": "qdNQphBzOcrd"
      },
      "source": [
        "factorial(3.14)"
      ],
      "execution_count": 10,
      "outputs": []
    },
    {
      "cell_type": "code",
      "metadata": {
        "colab": {
          "base_uri": "https://localhost:8080/"
        },
        "id": "1AwcrvFgOelx",
        "outputId": "795a9db7-ad28-4f35-b635-89d17a297e34"
      },
      "source": [
        "factorial(6)"
      ],
      "execution_count": 11,
      "outputs": [
        {
          "output_type": "execute_result",
          "data": {
            "text/plain": [
              "720"
            ]
          },
          "metadata": {
            "tags": []
          },
          "execution_count": 11
        }
      ]
    },
    {
      "cell_type": "markdown",
      "metadata": {
        "id": "PGyR9SDPOjUo"
      },
      "source": [
        "## 34.2 속성(Attribute)"
      ]
    },
    {
      "cell_type": "code",
      "metadata": {
        "id": "3LJBlBP2OgWc"
      },
      "source": [
        "class Person:\n",
        "    def __init__(self):\n",
        "        self.hello = '안녕하세요'        # hello 속성을 갖게 됨\n",
        "\n",
        "    def greeting(self):\n",
        "        print(self.hello)"
      ],
      "execution_count": 12,
      "outputs": []
    },
    {
      "cell_type": "code",
      "metadata": {
        "colab": {
          "base_uri": "https://localhost:8080/"
        },
        "id": "q9XqPniQOxUE",
        "outputId": "0d5fb60e-6ee0-4e4a-8069-2ae54ed393be"
      },
      "source": [
        "maria = Person()\n",
        "maria.greeting()"
      ],
      "execution_count": 13,
      "outputs": [
        {
          "output_type": "stream",
          "text": [
            "안녕하세요\n"
          ],
          "name": "stdout"
        }
      ]
    },
    {
      "cell_type": "code",
      "metadata": {
        "colab": {
          "base_uri": "https://localhost:8080/"
        },
        "id": "ZJsA3IUaO0Pf",
        "outputId": "e81023da-5716-4e3c-ebe4-9cf68c08e868"
      },
      "source": [
        "maria.hello = 'How are you?'\n",
        "maria.greeting()"
      ],
      "execution_count": 14,
      "outputs": [
        {
          "output_type": "stream",
          "text": [
            "How are you?\n"
          ],
          "name": "stdout"
        }
      ]
    },
    {
      "cell_type": "code",
      "metadata": {
        "id": "eVdmigOeO5LG"
      },
      "source": [
        "class Person:\n",
        "    def __init__(self, hello):      # Constructor\n",
        "        self.hello = hello\n",
        "\n",
        "    def greeting(self):\n",
        "        print(self.hello)"
      ],
      "execution_count": 15,
      "outputs": []
    },
    {
      "cell_type": "code",
      "metadata": {
        "id": "bX3xXU_bPGRk"
      },
      "source": [
        "james = Person('안녕하세요?')\n",
        "maria = Person('How are you?')"
      ],
      "execution_count": 16,
      "outputs": []
    },
    {
      "cell_type": "code",
      "metadata": {
        "colab": {
          "base_uri": "https://localhost:8080/"
        },
        "id": "r2re70eIPMjh",
        "outputId": "c4a39554-ad8f-42f2-9e40-bf840134c045"
      },
      "source": [
        "james.greeting()\n",
        "maria.greeting()"
      ],
      "execution_count": 17,
      "outputs": [
        {
          "output_type": "stream",
          "text": [
            "안녕하세요?\n",
            "How are you?\n"
          ],
          "name": "stdout"
        }
      ]
    },
    {
      "cell_type": "code",
      "metadata": {
        "id": "KsoaMXQEPPqX"
      },
      "source": [
        "class Person:\n",
        "    def __init__(self, name, age, addr):    \n",
        "        self.hello = '안녕하세요?'\n",
        "        self.name = name\n",
        "        self.age = age\n",
        "        self.addr = addr\n",
        "\n",
        "    def greeting(self):\n",
        "        print(f'{self.hello} 저는 {self.name}입니다.')\n",
        "\n",
        "    # JAVA의 toString() method\n",
        "    def __str__(self):\n",
        "        return f'hello: {self.hello}, name: {self.name}, age: {self.age}, addr: {self.addr}'"
      ],
      "execution_count": 18,
      "outputs": []
    },
    {
      "cell_type": "code",
      "metadata": {
        "colab": {
          "base_uri": "https://localhost:8080/"
        },
        "id": "v-Npr889SJ5J",
        "outputId": "61c8de8b-7484-4ebf-e751-6dd41ac22dd4"
      },
      "source": [
        "maria = Person('마리아', 23, '서울시 강남구 도곡동')\n",
        "maria.greeting()"
      ],
      "execution_count": 19,
      "outputs": [
        {
          "output_type": "stream",
          "text": [
            "안녕하세요? 저는 마리아입니다.\n"
          ],
          "name": "stdout"
        }
      ]
    },
    {
      "cell_type": "code",
      "metadata": {
        "colab": {
          "base_uri": "https://localhost:8080/"
        },
        "id": "Nb0v4hELSLps",
        "outputId": "c6da93d4-29e3-4851-c778-e2ca3ec1a23d"
      },
      "source": [
        "print(maria)"
      ],
      "execution_count": 20,
      "outputs": [
        {
          "output_type": "stream",
          "text": [
            "hello: 안녕하세요?, name: 마리아, age: 23, addr: 서울시 강남구 도곡동\n"
          ],
          "name": "stdout"
        }
      ]
    },
    {
      "cell_type": "markdown",
      "metadata": {
        "id": "WRT7-u-_SVCq"
      },
      "source": [
        "## 34.3 비공개 속성"
      ]
    },
    {
      "cell_type": "code",
      "metadata": {
        "colab": {
          "base_uri": "https://localhost:8080/"
        },
        "id": "7MwfYhqKSNBQ",
        "outputId": "da2e8dc3-7b59-450c-8c43-a7878fe0ead0"
      },
      "source": [
        "maria.age = 30\n",
        "print(maria)"
      ],
      "execution_count": 21,
      "outputs": [
        {
          "output_type": "stream",
          "text": [
            "hello: 안녕하세요?, name: 마리아, age: 30, addr: 서울시 강남구 도곡동\n"
          ],
          "name": "stdout"
        }
      ]
    },
    {
      "cell_type": "code",
      "metadata": {
        "id": "b7qIWYA1SYVw"
      },
      "source": [
        "class Person:\n",
        "    def __init__(self, name, age, addr, wallet):    \n",
        "        self.name = name\n",
        "        self.age = age\n",
        "        self.addr = addr\n",
        "        self.__wallet = wallet      # __wallet 속성은 비공개\n",
        "\n",
        "    def greeting(self):\n",
        "        print(f'안녕하세요? 저는 {self.name}입니다.')\n",
        "\n",
        "    def pay(self, amount):\n",
        "        if self.__wallet - amount < 0:\n",
        "            print('지갑에 돈이 부족합니다.')\n",
        "            return\n",
        "        self.__wallet -= amount\n",
        "        print(f'지갑에 남은 돈은 {self.__wallet}입니다.')\n",
        "\n",
        "    # JAVA의 toString() method\n",
        "    def __str__(self):\n",
        "        return f'name: {self.name}, age: {self.age}, addr: {self.addr}, wallet: {self.__wallet}'"
      ],
      "execution_count": 22,
      "outputs": []
    },
    {
      "cell_type": "code",
      "metadata": {
        "colab": {
          "base_uri": "https://localhost:8080/"
        },
        "id": "H5hn6mBcScmY",
        "outputId": "33e83232-7dd3-4d80-cc7e-3af4adcc59cf"
      },
      "source": [
        "james = Person('제임스', 27, '서울 강남구 역삼동', 10000)\n",
        "james.greeting()"
      ],
      "execution_count": 23,
      "outputs": [
        {
          "output_type": "stream",
          "text": [
            "안녕하세요? 저는 제임스입니다.\n"
          ],
          "name": "stdout"
        }
      ]
    },
    {
      "cell_type": "code",
      "metadata": {
        "colab": {
          "base_uri": "https://localhost:8080/"
        },
        "id": "RZMKy6TFSfOd",
        "outputId": "9b5aa5c0-690c-4606-ef1e-f782de55d777"
      },
      "source": [
        "print(james)"
      ],
      "execution_count": 24,
      "outputs": [
        {
          "output_type": "stream",
          "text": [
            "name: 제임스, age: 27, addr: 서울 강남구 역삼동, wallet: 10000\n"
          ],
          "name": "stdout"
        }
      ]
    },
    {
      "cell_type": "code",
      "metadata": {
        "id": "1B_ogU1EShRM"
      },
      "source": [
        "# __wallet은 비공개 속성이므로 클래스 바깥에서는 변경할 수 없음\n",
        "james.__wallet = 10564250"
      ],
      "execution_count": 27,
      "outputs": []
    },
    {
      "cell_type": "code",
      "metadata": {
        "colab": {
          "base_uri": "https://localhost:8080/"
        },
        "id": "pC6w_0CeSitU",
        "outputId": "a2b2ce2a-ee9c-4ae6-8953-f5b2bfcf2fef"
      },
      "source": [
        "print(james)"
      ],
      "execution_count": 28,
      "outputs": [
        {
          "output_type": "stream",
          "text": [
            "name: 제임스, age: 27, addr: 서울 강남구 역삼동, wallet: 10000\n"
          ],
          "name": "stdout"
        }
      ]
    },
    {
      "cell_type": "code",
      "metadata": {
        "colab": {
          "base_uri": "https://localhost:8080/"
        },
        "id": "WPppw12-SkQs",
        "outputId": "7740df92-fb74-4aea-90f9-24c58a3430a3"
      },
      "source": [
        "james.pay(5000)"
      ],
      "execution_count": 29,
      "outputs": [
        {
          "output_type": "stream",
          "text": [
            "지갑에 남은 돈은 5000입니다.\n"
          ],
          "name": "stdout"
        }
      ]
    },
    {
      "cell_type": "code",
      "metadata": {
        "colab": {
          "base_uri": "https://localhost:8080/"
        },
        "id": "9tvZmFJXStwO",
        "outputId": "7d0fbc0f-efec-433a-c4a3-a5849b1ba072"
      },
      "source": [
        "print(james)"
      ],
      "execution_count": 30,
      "outputs": [
        {
          "output_type": "stream",
          "text": [
            "name: 제임스, age: 27, addr: 서울 강남구 역삼동, wallet: 5000\n"
          ],
          "name": "stdout"
        }
      ]
    },
    {
      "cell_type": "code",
      "metadata": {
        "colab": {
          "base_uri": "https://localhost:8080/"
        },
        "id": "9h4O7wW5Su7d",
        "outputId": "3385144f-443b-4c5b-e673-b81f7322cf04"
      },
      "source": [
        "james.pay(10000)"
      ],
      "execution_count": 31,
      "outputs": [
        {
          "output_type": "stream",
          "text": [
            "지갑에 돈이 부족합니다.\n"
          ],
          "name": "stdout"
        }
      ]
    },
    {
      "cell_type": "code",
      "metadata": {
        "colab": {
          "base_uri": "https://localhost:8080/"
        },
        "id": "Bef2Ox42SwMj",
        "outputId": "b5ba3956-7c2a-4b3c-d466-24464d78422f"
      },
      "source": [
        "print(james)"
      ],
      "execution_count": 32,
      "outputs": [
        {
          "output_type": "stream",
          "text": [
            "name: 제임스, age: 27, addr: 서울 강남구 역삼동, wallet: 5000\n"
          ],
          "name": "stdout"
        }
      ]
    },
    {
      "cell_type": "markdown",
      "metadata": {
        "id": "d70W_GxmSyOF"
      },
      "source": [
        "## Account 클래스 만들기\n",
        "### 속성\n",
        "- ano: 문자열 6글자, '123456'\n",
        "- owner: 문자열\n",
        "- balance: 잔액, 비공개 속성 ### Method\n",
        "- 생성자\n",
        "- deposit(amount) 잔액이 1000만원 이상이면 입금할 수 없음\n",
        "- withdraw(amount) 잔액이 0원 미만이면 출금할 수 없음\n",
        "- 출력 가능하게"
      ]
    },
    {
      "cell_type": "code",
      "metadata": {
        "id": "O5qWi12WSxNx"
      },
      "source": [
        "class Account:\n",
        "    def __init__(self, ano, owner, balance):\n",
        "        self.ano = ano\n",
        "        self.owner = owner\n",
        "        self.__balance = balance\n",
        "\n",
        "    def deposit(self, amount):\n",
        "        if amount + self.__balance >= 10000000:\n",
        "            print('천만원 이상은 잔액으로 가져갈 수 없습니다.')\n",
        "            return\n",
        "        self.__balance += amount\n",
        "\n",
        "    def withdraw(self, amount):\n",
        "        if self.__balance - amount < 0:\n",
        "            print('잔액이 부족합니다.')\n",
        "            return\n",
        "        self.__balance -= amount\n",
        "\n",
        "    def __str__(self):\n",
        "        return f'계좌번호: {self.ano}, 소유주: {self.owner}, 잔액: {self.__balance:9,d}'"
      ],
      "execution_count": 33,
      "outputs": []
    },
    {
      "cell_type": "code",
      "metadata": {
        "colab": {
          "base_uri": "https://localhost:8080/"
        },
        "id": "MCirPScsTNQC",
        "outputId": "5c1eee13-22eb-4be3-bf86-2bea5ca061c1"
      },
      "source": [
        "acc = Account('123456', '제임스', 100000)\n",
        "print(acc)"
      ],
      "execution_count": 34,
      "outputs": [
        {
          "output_type": "stream",
          "text": [
            "계좌번호: 123456, 소유주: 제임스, 잔액:   100,000\n"
          ],
          "name": "stdout"
        }
      ]
    },
    {
      "cell_type": "code",
      "metadata": {
        "colab": {
          "base_uri": "https://localhost:8080/"
        },
        "id": "eWJgMX3rTPpy",
        "outputId": "444ec5fd-b3f3-4bfb-ece0-c8307c71d1bb"
      },
      "source": [
        "acc.deposit(3000000)\n",
        "print(acc)"
      ],
      "execution_count": 35,
      "outputs": [
        {
          "output_type": "stream",
          "text": [
            "계좌번호: 123456, 소유주: 제임스, 잔액: 3,100,000\n"
          ],
          "name": "stdout"
        }
      ]
    },
    {
      "cell_type": "code",
      "metadata": {
        "colab": {
          "base_uri": "https://localhost:8080/"
        },
        "id": "H-P5MjiUTRAH",
        "outputId": "440b0579-3fd9-4844-99eb-4c64d7ad02b7"
      },
      "source": [
        "acc.deposit(7000000)\n",
        "print(acc)"
      ],
      "execution_count": 36,
      "outputs": [
        {
          "output_type": "stream",
          "text": [
            "천만원 이상은 잔액으로 가져갈 수 없습니다.\n",
            "계좌번호: 123456, 소유주: 제임스, 잔액: 3,100,000\n"
          ],
          "name": "stdout"
        }
      ]
    },
    {
      "cell_type": "code",
      "metadata": {
        "colab": {
          "base_uri": "https://localhost:8080/"
        },
        "id": "DABHoK1QTSa4",
        "outputId": "48fcc573-7a1d-40d7-99d9-4c871a8a35c7"
      },
      "source": [
        "acc.withdraw(2000000)\n",
        "print(acc)"
      ],
      "execution_count": 37,
      "outputs": [
        {
          "output_type": "stream",
          "text": [
            "계좌번호: 123456, 소유주: 제임스, 잔액: 1,100,000\n"
          ],
          "name": "stdout"
        }
      ]
    },
    {
      "cell_type": "code",
      "metadata": {
        "colab": {
          "base_uri": "https://localhost:8080/"
        },
        "id": "xMN_JiPiTT__",
        "outputId": "cf8ac418-4762-40d4-fe6f-e773ac591761"
      },
      "source": [
        "acc.withdraw(2000000)\n",
        "print(acc)"
      ],
      "execution_count": 38,
      "outputs": [
        {
          "output_type": "stream",
          "text": [
            "잔액이 부족합니다.\n",
            "계좌번호: 123456, 소유주: 제임스, 잔액: 1,100,000\n"
          ],
          "name": "stdout"
        }
      ]
    },
    {
      "cell_type": "code",
      "metadata": {
        "colab": {
          "base_uri": "https://localhost:8080/"
        },
        "id": "XQyv3lnnTVYJ",
        "outputId": "ea05e49a-ed13-4ef7-d006-5e74187a66c7"
      },
      "source": [
        "acc2 = Account('987432', '마리아', 3000000)\n",
        "print(acc2)"
      ],
      "execution_count": 39,
      "outputs": [
        {
          "output_type": "stream",
          "text": [
            "계좌번호: 987432, 소유주: 마리아, 잔액: 3,000,000\n"
          ],
          "name": "stdout"
        }
      ]
    },
    {
      "cell_type": "code",
      "metadata": {
        "id": "AeOh0SCMTWxa"
      },
      "source": [
        "acc_list = [acc, acc2]"
      ],
      "execution_count": 40,
      "outputs": []
    },
    {
      "cell_type": "code",
      "metadata": {
        "colab": {
          "base_uri": "https://localhost:8080/"
        },
        "id": "RYrS8ujnTYJE",
        "outputId": "b89055cb-abc7-4eab-d2e5-858e0dfdb966"
      },
      "source": [
        "for account in acc_list:\n",
        "    print(account)"
      ],
      "execution_count": 41,
      "outputs": [
        {
          "output_type": "stream",
          "text": [
            "계좌번호: 123456, 소유주: 제임스, 잔액: 1,100,000\n",
            "계좌번호: 987432, 소유주: 마리아, 잔액: 3,000,000\n"
          ],
          "name": "stdout"
        }
      ]
    },
    {
      "cell_type": "markdown",
      "metadata": {
        "id": "PgLzYpW6Taha"
      },
      "source": [
        "### 1:계좌생성, 2:계좌목록, 3:입금, 4:출금, 5:종료"
      ]
    },
    {
      "cell_type": "code",
      "metadata": {
        "id": "zoZMBFPiTZUE"
      },
      "source": [
        "def check_duplicate(ano):\n",
        "    for acc in acc_list:\n",
        "        if ano == acc.ano:\n",
        "            return True\n",
        "    return False"
      ],
      "execution_count": 42,
      "outputs": []
    },
    {
      "cell_type": "code",
      "metadata": {
        "id": "1SyuowF8Th9p"
      },
      "source": [
        "# 사용자로부터 필요한 정보를 입력 받아서 계좌를 생성함\n",
        "def create_account():\n",
        "    while True:\n",
        "        s = input('계좌번호 성명 금액> ').split()\n",
        "        ano, owner = s[0], s[1]\n",
        "        amount = int(s[2])\n",
        "        if not check_duplicate(ano):\n",
        "            break\n",
        "    acc = Account(ano, owner, amount)\n",
        "    acc_list.append(acc)"
      ],
      "execution_count": 43,
      "outputs": []
    },
    {
      "cell_type": "code",
      "metadata": {
        "id": "P3q9fDvETjfw"
      },
      "source": [
        "# 사용자로부터 필요한 정보를 입력 받아서 계좌에 돈을 입금함\n",
        "def deposit_account():\n",
        "    s = input('계좌번호 금액> ').split()\n",
        "    ano, amount = s[0], int(s[1])\n",
        "    for acc in acc_list:\n",
        "        if acc.ano == ano:\n",
        "            acc.deposit(amount)\n",
        "            return"
      ],
      "execution_count": 44,
      "outputs": []
    },
    {
      "cell_type": "code",
      "metadata": {
        "id": "qGpnmQ9CTk97"
      },
      "source": [
        "# 사용자로부터 필요한 정보를 입력 받아서 계좌에서 돈을 출금함\n",
        "def withdraw_account():\n",
        "    s = input('계좌번호 금액> ').split()\n",
        "    ano, amount = s[0], int(s[1])\n",
        "    for acc in acc_list:\n",
        "        if acc.ano == ano:\n",
        "            acc.withdraw(amount)\n",
        "            return"
      ],
      "execution_count": 45,
      "outputs": []
    },
    {
      "cell_type": "code",
      "metadata": {
        "colab": {
          "base_uri": "https://localhost:8080/"
        },
        "id": "5pmyPnmiTmeo",
        "outputId": "52f10150-4ed1-4fc9-a4f1-a18289df65fc"
      },
      "source": [
        "while True:\n",
        "    menu = int(input('1:계좌생성, 2:계좌목록, 3:입금, 4:출금, 5:종료> '))\n",
        "    if menu == 5:\n",
        "        break\n",
        "    if menu == 1:\n",
        "        create_account()\n",
        "    elif menu == 2:\n",
        "        for account in acc_list:\n",
        "            print(account)\n",
        "    elif menu == 3:\n",
        "        deposit_account()\n",
        "    elif menu == 4:\n",
        "        withdraw_account()\n",
        "    else:\n",
        "        print('잘못된 명령어입니다.')\n",
        "\n",
        "    print()"
      ],
      "execution_count": 48,
      "outputs": [
        {
          "output_type": "stream",
          "text": [
            "1:계좌생성, 2:계좌목록, 3:입금, 4:출금, 5:종료> 2\n",
            "계좌번호: 123456, 소유주: 제임스, 잔액: 1,100,000\n",
            "계좌번호: 987432, 소유주: 마리아, 잔액: 3,000,000\n",
            "\n",
            "1:계좌생성, 2:계좌목록, 3:입금, 4:출금, 5:종료> 1\n",
            "계좌번호 성명 금액> 333555 홍길동 2525139\n",
            "\n",
            "1:계좌생성, 2:계좌목록, 3:입금, 4:출금, 5:종료> 2\n",
            "계좌번호: 123456, 소유주: 제임스, 잔액: 1,100,000\n",
            "계좌번호: 987432, 소유주: 마리아, 잔액: 3,000,000\n",
            "계좌번호: 333555, 소유주: 홍길동, 잔액: 2,525,139\n",
            "\n",
            "1:계좌생성, 2:계좌목록, 3:입금, 4:출금, 5:종료> 3\n",
            "계좌번호 금액> 333555 1\n",
            "\n",
            "1:계좌생성, 2:계좌목록, 3:입금, 4:출금, 5:종료> 2\n",
            "계좌번호: 123456, 소유주: 제임스, 잔액: 1,100,000\n",
            "계좌번호: 987432, 소유주: 마리아, 잔액: 3,000,000\n",
            "계좌번호: 333555, 소유주: 홍길동, 잔액: 2,525,140\n",
            "\n",
            "1:계좌생성, 2:계좌목록, 3:입금, 4:출금, 5:종료> 5\n"
          ],
          "name": "stdout"
        }
      ]
    },
    {
      "cell_type": "code",
      "metadata": {
        "id": "QCQb5DW3Tn7T"
      },
      "source": [
        ""
      ],
      "execution_count": null,
      "outputs": []
    }
  ]
}
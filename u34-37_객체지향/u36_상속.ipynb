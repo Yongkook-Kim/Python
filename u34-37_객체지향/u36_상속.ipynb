{
  "nbformat": 4,
  "nbformat_minor": 0,
  "metadata": {
    "colab": {
      "name": "u36_상속.ipynb",
      "provenance": [],
      "collapsed_sections": []
    },
    "kernelspec": {
      "name": "python3",
      "display_name": "Python 3"
    },
    "language_info": {
      "name": "python"
    }
  },
  "cells": [
    {
      "cell_type": "markdown",
      "metadata": {
        "id": "ieb73nBGUvox"
      },
      "source": [
        "# Unit 36. 상속(Inheritance)"
      ]
    },
    {
      "cell_type": "markdown",
      "metadata": {
        "id": "IjKFe9h2U0Xh"
      },
      "source": [
        "## 36.1 기본 상속"
      ]
    },
    {
      "cell_type": "code",
      "metadata": {
        "id": "HbW05EVyUpSd"
      },
      "source": [
        "class Person:\n",
        "    def greeting(self):\n",
        "        print('안녕하세요?')\n",
        "\n",
        "class Student(Person):\n",
        "    def study(self):\n",
        "        print('공부하기')"
      ],
      "execution_count": 1,
      "outputs": []
    },
    {
      "cell_type": "code",
      "metadata": {
        "colab": {
          "base_uri": "https://localhost:8080/"
        },
        "id": "xnGvHyLKVBNP",
        "outputId": "969e7970-333a-46ed-c5e6-2d688c25d463"
      },
      "source": [
        "james = Student()\n",
        "james.greeting()"
      ],
      "execution_count": 2,
      "outputs": [
        {
          "output_type": "stream",
          "text": [
            "안녕하세요?\n"
          ],
          "name": "stdout"
        }
      ]
    },
    {
      "cell_type": "code",
      "metadata": {
        "colab": {
          "base_uri": "https://localhost:8080/"
        },
        "id": "dMQk-QO0VOHI",
        "outputId": "0d0b8aef-e46b-4986-b226-7ad5e522bddf"
      },
      "source": [
        "james.study()"
      ],
      "execution_count": 3,
      "outputs": [
        {
          "output_type": "stream",
          "text": [
            "공부하기\n"
          ],
          "name": "stdout"
        }
      ]
    },
    {
      "cell_type": "markdown",
      "metadata": {
        "id": "C805w2UaVQPQ"
      },
      "source": [
        "## 36.3 기반 클래스의 속성 사용하기"
      ]
    },
    {
      "cell_type": "code",
      "metadata": {
        "id": "L1LwZVrvVPiu"
      },
      "source": [
        "class Person:\n",
        "    def __init__(self):\n",
        "        self.hello = '안녕하세요?'\n",
        "        print('Person.__init__')\n",
        "\n",
        "class Student(Person):\n",
        "    def __init__(self):\n",
        "        self.school = '파이썬'\n",
        "        print('Student.__init__')"
      ],
      "execution_count": 4,
      "outputs": []
    },
    {
      "cell_type": "code",
      "metadata": {
        "colab": {
          "base_uri": "https://localhost:8080/",
          "height": 53
        },
        "id": "-KUdZwtNVXWh",
        "outputId": "05d847b0-e5ec-42ff-b624-8606fe83e6a5"
      },
      "source": [
        "james = Student()\n",
        "james.school"
      ],
      "execution_count": 5,
      "outputs": [
        {
          "output_type": "stream",
          "text": [
            "Student.__init__\n"
          ],
          "name": "stdout"
        },
        {
          "output_type": "execute_result",
          "data": {
            "application/vnd.google.colaboratory.intrinsic+json": {
              "type": "string"
            },
            "text/plain": [
              "'파이썬'"
            ]
          },
          "metadata": {
            "tags": []
          },
          "execution_count": 5
        }
      ]
    },
    {
      "cell_type": "code",
      "metadata": {
        "colab": {
          "base_uri": "https://localhost:8080/",
          "height": 171
        },
        "id": "t0pI5woqVYdp",
        "outputId": "5518931f-d8b6-4262-def6-11a01cc0e07b"
      },
      "source": [
        "james.hello"
      ],
      "execution_count": 6,
      "outputs": [
        {
          "output_type": "error",
          "ename": "AttributeError",
          "evalue": "ignored",
          "traceback": [
            "\u001b[0;31m---------------------------------------------------------------------------\u001b[0m",
            "\u001b[0;31mAttributeError\u001b[0m                            Traceback (most recent call last)",
            "\u001b[0;32m<ipython-input-6-da95e56173fd>\u001b[0m in \u001b[0;36m<module>\u001b[0;34m()\u001b[0m\n\u001b[0;32m----> 1\u001b[0;31m \u001b[0mjames\u001b[0m\u001b[0;34m.\u001b[0m\u001b[0mhello\u001b[0m\u001b[0;34m\u001b[0m\u001b[0;34m\u001b[0m\u001b[0m\n\u001b[0m",
            "\u001b[0;31mAttributeError\u001b[0m: 'Student' object has no attribute 'hello'"
          ]
        }
      ]
    },
    {
      "cell_type": "markdown",
      "metadata": {
        "id": "ty3YNKgoVbSo"
      },
      "source": [
        "### super()로 기반 클래스 초기화"
      ]
    },
    {
      "cell_type": "code",
      "metadata": {
        "id": "6cd9HvsVVaQm"
      },
      "source": [
        "class Person:\n",
        "    def __init__(self):\n",
        "        self.hello = '안녕하세요?'\n",
        "        print('Person.__init__')\n",
        "\n",
        "class Student(Person):\n",
        "    def __init__(self):\n",
        "        super().__init__()\n",
        "        self.school = '파이썬'\n",
        "        print('Student.__init__')"
      ],
      "execution_count": 7,
      "outputs": []
    },
    {
      "cell_type": "code",
      "metadata": {
        "colab": {
          "base_uri": "https://localhost:8080/",
          "height": 71
        },
        "id": "AB43ZLVPVes0",
        "outputId": "fc795424-8c7f-4130-e11b-51c495df3e8e"
      },
      "source": [
        "james = Student()\n",
        "james.hello"
      ],
      "execution_count": 8,
      "outputs": [
        {
          "output_type": "stream",
          "text": [
            "Person.__init__\n",
            "Student.__init__\n"
          ],
          "name": "stdout"
        },
        {
          "output_type": "execute_result",
          "data": {
            "application/vnd.google.colaboratory.intrinsic+json": {
              "type": "string"
            },
            "text/plain": [
              "'안녕하세요?'"
            ]
          },
          "metadata": {
            "tags": []
          },
          "execution_count": 8
        }
      ]
    },
    {
      "cell_type": "code",
      "metadata": {
        "id": "7l-I2cEhVfwF"
      },
      "source": [
        "class Person:\n",
        "    def __init__(self):\n",
        "        self.hello = '안녕하세요?'\n",
        "        print('Person.__init__')\n",
        "\n",
        "class Student(Person):\n",
        "    pass"
      ],
      "execution_count": 9,
      "outputs": []
    },
    {
      "cell_type": "code",
      "metadata": {
        "colab": {
          "base_uri": "https://localhost:8080/",
          "height": 53
        },
        "id": "tloxoGRnVhbH",
        "outputId": "5e9b5374-c560-42bb-dc01-39206f37dbb0"
      },
      "source": [
        "maria = Student()\n",
        "maria.hello"
      ],
      "execution_count": 10,
      "outputs": [
        {
          "output_type": "stream",
          "text": [
            "Person.__init__\n"
          ],
          "name": "stdout"
        },
        {
          "output_type": "execute_result",
          "data": {
            "application/vnd.google.colaboratory.intrinsic+json": {
              "type": "string"
            },
            "text/plain": [
              "'안녕하세요?'"
            ]
          },
          "metadata": {
            "tags": []
          },
          "execution_count": 10
        }
      ]
    },
    {
      "cell_type": "markdown",
      "metadata": {
        "id": "ojk6IIu1VjcW"
      },
      "source": [
        "## 36.4 Method Overriding"
      ]
    },
    {
      "cell_type": "code",
      "metadata": {
        "id": "ulkj34XQViw2"
      },
      "source": [
        "class Person:\n",
        "    def greeting(self):\n",
        "        print('안녕하세요?')\n",
        "\n",
        "class Student(Person):\n",
        "    def greeting(self):\n",
        "        print('안녕하세요? 저는 파이썬을 공부하는 학생입니다.')"
      ],
      "execution_count": 11,
      "outputs": []
    },
    {
      "cell_type": "code",
      "metadata": {
        "colab": {
          "base_uri": "https://localhost:8080/"
        },
        "id": "PfG_CPTWVndN",
        "outputId": "a1ed00c3-80e2-412e-9d4b-f7110d524e06"
      },
      "source": [
        "james = Student()\n",
        "james.greeting()"
      ],
      "execution_count": 12,
      "outputs": [
        {
          "output_type": "stream",
          "text": [
            "안녕하세요? 저는 파이썬을 공부하는 학생입니다.\n"
          ],
          "name": "stdout"
        }
      ]
    },
    {
      "cell_type": "code",
      "metadata": {
        "id": "ypw0AB_wVorD"
      },
      "source": [
        "class Person:\n",
        "    def greeting(self):\n",
        "        print('안녕하세요?')\n",
        "\n",
        "class Student(Person):\n",
        "    def greeting(self):\n",
        "        super().greeting()\n",
        "        print('안녕하세요? 저는 파이썬을 공부하는 학생입니다.')"
      ],
      "execution_count": 13,
      "outputs": []
    },
    {
      "cell_type": "code",
      "metadata": {
        "colab": {
          "base_uri": "https://localhost:8080/"
        },
        "id": "bqayrGfZVqUn",
        "outputId": "fe429110-c48a-4bc7-e200-ee2b562ef720"
      },
      "source": [
        "maria = Student()\n",
        "maria.greeting()"
      ],
      "execution_count": 14,
      "outputs": [
        {
          "output_type": "stream",
          "text": [
            "안녕하세요?\n",
            "안녕하세요? 저는 파이썬을 공부하는 학생입니다.\n"
          ],
          "name": "stdout"
        }
      ]
    },
    {
      "cell_type": "markdown",
      "metadata": {
        "id": "Y-yvSgGlVtrV"
      },
      "source": [
        "## 36.6 추상 클래스 - Interface"
      ]
    },
    {
      "cell_type": "code",
      "metadata": {
        "id": "jmD3frUJVrif"
      },
      "source": [
        "from abc import *\n",
        "\n",
        "class StudentBase(metaclass=ABCMeta):\n",
        "    @abstractmethod                 # decorator\n",
        "    def study(self):\n",
        "        pass\n",
        "\n",
        "    @abstractmethod\n",
        "    def go_to_school(self):\n",
        "        pass"
      ],
      "execution_count": 15,
      "outputs": []
    },
    {
      "cell_type": "code",
      "metadata": {
        "id": "gpZIVdEUVxgB"
      },
      "source": [
        "class Student(StudentBase):\n",
        "    def study(self):\n",
        "        print('공부하기')"
      ],
      "execution_count": 16,
      "outputs": []
    },
    {
      "cell_type": "code",
      "metadata": {
        "colab": {
          "base_uri": "https://localhost:8080/",
          "height": 189
        },
        "id": "59K4eDwCVyhu",
        "outputId": "63f1c4b9-c7d8-4ebe-8515-22f12b9439de"
      },
      "source": [
        "james = Student()\n",
        "james.study()"
      ],
      "execution_count": 17,
      "outputs": [
        {
          "output_type": "error",
          "ename": "TypeError",
          "evalue": "ignored",
          "traceback": [
            "\u001b[0;31m---------------------------------------------------------------------------\u001b[0m",
            "\u001b[0;31mTypeError\u001b[0m                                 Traceback (most recent call last)",
            "\u001b[0;32m<ipython-input-17-5f2e5861623e>\u001b[0m in \u001b[0;36m<module>\u001b[0;34m()\u001b[0m\n\u001b[0;32m----> 1\u001b[0;31m \u001b[0mjames\u001b[0m \u001b[0;34m=\u001b[0m \u001b[0mStudent\u001b[0m\u001b[0;34m(\u001b[0m\u001b[0;34m)\u001b[0m\u001b[0;34m\u001b[0m\u001b[0;34m\u001b[0m\u001b[0m\n\u001b[0m\u001b[1;32m      2\u001b[0m \u001b[0mjames\u001b[0m\u001b[0;34m.\u001b[0m\u001b[0mstudy\u001b[0m\u001b[0;34m(\u001b[0m\u001b[0;34m)\u001b[0m\u001b[0;34m\u001b[0m\u001b[0;34m\u001b[0m\u001b[0m\n",
            "\u001b[0;31mTypeError\u001b[0m: Can't instantiate abstract class Student with abstract methods go_to_school"
          ]
        }
      ]
    },
    {
      "cell_type": "code",
      "metadata": {
        "id": "-5cMm4AZVzx8"
      },
      "source": [
        "class Student(StudentBase):\n",
        "    def study(self):\n",
        "        print('공부하기')\n",
        "    def go_to_school(self):\n",
        "        print('학교가기')"
      ],
      "execution_count": 18,
      "outputs": []
    },
    {
      "cell_type": "code",
      "metadata": {
        "colab": {
          "base_uri": "https://localhost:8080/"
        },
        "id": "T2NltXslV1Yf",
        "outputId": "056926ff-e766-4500-ecae-c00c31b1ff68"
      },
      "source": [
        "james = Student()\n",
        "james.study()"
      ],
      "execution_count": 19,
      "outputs": [
        {
          "output_type": "stream",
          "text": [
            "공부하기\n"
          ],
          "name": "stdout"
        }
      ]
    },
    {
      "cell_type": "code",
      "metadata": {
        "id": "Zpt8KJlcV26w"
      },
      "source": [
        ""
      ],
      "execution_count": null,
      "outputs": []
    }
  ]
}
{
  "nbformat": 4,
  "nbformat_minor": 0,
  "metadata": {
    "colab": {
      "name": "Untitled0.ipynb",
      "provenance": [],
      "collapsed_sections": []
    },
    "kernelspec": {
      "name": "python3",
      "display_name": "Python 3"
    },
    "language_info": {
      "name": "python"
    }
  },
  "cells": [
    {
      "cell_type": "code",
      "metadata": {
        "colab": {
          "base_uri": "https://localhost:8080/"
        },
        "id": "_OUuINjhv_Dt",
        "outputId": "800c0f07-1e99-4f9d-c9d5-1ebb27f075a7"
      },
      "source": [
        "# 8장 심사문제\n",
        "#-----------------------\n",
        "a,b,c,d = map(int, input().split()) #a: 국어, b: 영어, c: 수학, d: 과학\n",
        "T_or_F = a>=90 and b>80 and c>85 and d>=80\n",
        "print(T_or_F)\n",
        "#-----------------------"
      ],
      "execution_count": null,
      "outputs": [
        {
          "output_type": "stream",
          "text": [
            "90 80 85 80\n",
            "False\n"
          ],
          "name": "stdout"
        }
      ]
    },
    {
      "cell_type": "code",
      "metadata": {
        "colab": {
          "base_uri": "https://localhost:8080/"
        },
        "id": "fiYkSboYw7Jq",
        "outputId": "088976af-8bd6-4bf2-8689-0e0ca7d794f9"
      },
      "source": [
        "# 9장 심사문제\n",
        "#-----------------------\n",
        "s = ''''Python' is a \"programming language\"\\nthat lets \\\n",
        "you work quickly\\nand\\nintegrate systems more effectively.'''\n",
        "#-----------------------\n",
        "print(s)"
      ],
      "execution_count": 3,
      "outputs": [
        {
          "output_type": "stream",
          "text": [
            "'Python' is a \"programming language\"\n",
            "that lets you work quickly\n",
            "and\n",
            "integrate systems more effectively.\n"
          ],
          "name": "stdout"
        }
      ]
    },
    {
      "cell_type": "code",
      "metadata": {
        "colab": {
          "base_uri": "https://localhost:8080/"
        },
        "id": "BuuLEAeRyZXI",
        "outputId": "c06fb9a6-17f1-407c-90bd-0b7a6611a66b"
      },
      "source": [
        "# 10장 심사문제\n",
        "#-----------------------\n",
        "x = int(input())\n",
        "a = tuple(range(-10,10,x))\n",
        "print(a)\n",
        "#-----------------------"
      ],
      "execution_count": null,
      "outputs": [
        {
          "output_type": "stream",
          "text": [
            "2\n",
            "(-10, -8, -6, -4, -2, 0, 2, 4, 6, 8)\n"
          ],
          "name": "stdout"
        }
      ]
    },
    {
      "cell_type": "code",
      "metadata": {
        "colab": {
          "base_uri": "https://localhost:8080/"
        },
        "id": "UhJtKq6izEBZ",
        "outputId": "4f051948-01ae-4398-d24b-bce813fdb3d0"
      },
      "source": [
        "# 11장 심사문제 (11.8)\n",
        "x = input().split()\n",
        "#-----------------------\n",
        "del x[-5:]\n",
        "x = tuple(x)\n",
        "print(x)\n",
        "#-----------------------"
      ],
      "execution_count": null,
      "outputs": [
        {
          "output_type": "stream",
          "text": [
            "oven bat pony total leak wreck curl crop space navy loss knee\n",
            "('oven', 'bat', 'pony', 'total', 'leak', 'wreck', 'curl')\n"
          ],
          "name": "stdout"
        }
      ]
    },
    {
      "cell_type": "code",
      "metadata": {
        "colab": {
          "base_uri": "https://localhost:8080/"
        },
        "id": "N4KPklh91RcQ",
        "outputId": "4f39089f-6afd-40ae-a33a-152080304d7c"
      },
      "source": [
        "# 11장 심사문제 (11.9)\n",
        "#-----------------------\n",
        "x = input()\n",
        "y = input()\n",
        "\n",
        "x = list(x)\n",
        "y = list(y)\n",
        "\n",
        "z = list(x)[1::2] + list(y)[::2]\n",
        "for i in range(len(z)):\n",
        "    print(z[i], end='')\n",
        "#-----------------------"
      ],
      "execution_count": null,
      "outputs": [
        {
          "output_type": "stream",
          "text": [
            "apple\n",
            "strawberry\n",
            "plsrwer"
          ],
          "name": "stdout"
        }
      ]
    },
    {
      "cell_type": "code",
      "metadata": {
        "colab": {
          "base_uri": "https://localhost:8080/",
          "height": 71
        },
        "id": "fHEOH8U4mFSB",
        "outputId": "90b82285-9c9f-496f-f7c9-078c6f0d66dd"
      },
      "source": [
        "# 11장 심사문제 (11.9)\n",
        "#-----------------------\n",
        "x = input()\n",
        "y = input()\n",
        "\n",
        "x = x[1::2]\n",
        "y = y[::2]\n",
        "\n",
        "x+y\n",
        "#-----------------------"
      ],
      "execution_count": 4,
      "outputs": [
        {
          "output_type": "stream",
          "text": [
            "apple\n",
            "strawberry\n"
          ],
          "name": "stdout"
        },
        {
          "output_type": "execute_result",
          "data": {
            "application/vnd.google.colaboratory.intrinsic+json": {
              "type": "string"
            },
            "text/plain": [
              "'plsrwer'"
            ]
          },
          "metadata": {
            "tags": []
          },
          "execution_count": 4
        }
      ]
    },
    {
      "cell_type": "code",
      "metadata": {
        "colab": {
          "base_uri": "https://localhost:8080/"
        },
        "id": "0cbmLDN82pZG",
        "outputId": "b0420c2c-ef69-4e34-9e34-98737664ec33"
      },
      "source": [
        "# 12장 심사문제\n",
        "#-----------------------\n",
        "x = input().split()\n",
        "y = map(float, input().split())\n",
        "\n",
        "z = dict(zip(x,y))\n",
        "print(z)\n",
        "#-----------------------"
      ],
      "execution_count": null,
      "outputs": [
        {
          "output_type": "stream",
          "text": [
            "health mana melee attack_speed magic_resistance\n",
            "573.6 308.8 600 0.625 35.7\n",
            "{'health': 573.6, 'mana': 308.8, 'melee': 600.0, 'attack_speed': 0.625, 'magic_resistance': 35.7}\n"
          ],
          "name": "stdout"
        }
      ]
    },
    {
      "cell_type": "code",
      "metadata": {
        "colab": {
          "base_uri": "https://localhost:8080/"
        },
        "id": "xueJ7Y_F7GbY",
        "outputId": "09fa38ab-6604-405e-9c32-728fd7310172"
      },
      "source": [
        "# 13장 심사문제\n",
        "#-----------------------\n",
        "x = int(input())\n",
        "y = input()\n",
        "y = y[4:]\n",
        "z = x - int(y)\n",
        "print(z)\n",
        "#-----------------------"
      ],
      "execution_count": null,
      "outputs": [
        {
          "output_type": "stream",
          "text": [
            "27000\n",
            "Cash3000\n",
            "24000\n"
          ],
          "name": "stdout"
        }
      ]
    },
    {
      "cell_type": "code",
      "metadata": {
        "colab": {
          "base_uri": "https://localhost:8080/"
        },
        "id": "fqStLpBJ8E97",
        "outputId": "4ed1fa88-3c24-4229-fa2c-794ff48ce259"
      },
      "source": [
        "# 14장 심사문제\n",
        "#-----------------------\n",
        "a,b,c,d = map(int, input().split())\n",
        "if a<0 or b<0 or c<0 or d<0 or a>100 or b>100 or c>100 or d>100:\n",
        "    print('잘못된 점수')\n",
        "else:\n",
        "    avg = (a+b+c+d)/4\n",
        "    z = '합격' if avg >= 80 else '불합격'\n",
        "    print(z)\n",
        "#-----------------------"
      ],
      "execution_count": null,
      "outputs": [
        {
          "output_type": "stream",
          "text": [
            "100 79 68 71\n",
            "불합격\n"
          ],
          "name": "stdout"
        }
      ]
    }
  ]
}
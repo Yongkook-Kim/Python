{
  "nbformat": 4,
  "nbformat_minor": 0,
  "metadata": {
    "colab": {
      "name": "u14_else.ipynb",
      "provenance": [],
      "collapsed_sections": []
    },
    "kernelspec": {
      "name": "python3",
      "display_name": "Python 3"
    },
    "language_info": {
      "name": "python"
    }
  },
  "cells": [
    {
      "cell_type": "markdown",
      "metadata": {
        "id": "0dpRBGlPl0Hd"
      },
      "source": [
        "# Unit 14. else"
      ]
    },
    {
      "cell_type": "code",
      "metadata": {
        "colab": {
          "base_uri": "https://localhost:8080/"
        },
        "id": "AZD8r0ptlwSx",
        "outputId": "6bc5eb4f-215a-40c9-a9ad-ffff9d9bf94f"
      },
      "source": [
        "x = 5\n",
        "if x == 10:\n",
        "    print('It it 10.')\n",
        "else:\n",
        "    print('It isn\\'t 10.')"
      ],
      "execution_count": 1,
      "outputs": [
        {
          "output_type": "stream",
          "text": [
            "It isn't 10.\n"
          ],
          "name": "stdout"
        }
      ]
    },
    {
      "cell_type": "markdown",
      "metadata": {
        "id": "GzFk_a1Wm0Yf"
      },
      "source": [
        "### 3항 연산자\n",
        "- Java> a = (조건) ? 참일때의 값 : 거짓일때의 값\n",
        "- 파이썬> a = 참일때의 값 if 조건 else 거짓일때의 값"
      ]
    },
    {
      "cell_type": "code",
      "metadata": {
        "colab": {
          "base_uri": "https://localhost:8080/",
          "height": 35
        },
        "id": "VpSU_wmqmdyF",
        "outputId": "01e69c43-b82d-4269-c58c-038200d51499"
      },
      "source": [
        "x = 1\n",
        "if x % 2 == 0:\n",
        "    y = 'even'\n",
        "else:\n",
        "    y = 'odd'\n",
        "y"
      ],
      "execution_count": 2,
      "outputs": [
        {
          "output_type": "execute_result",
          "data": {
            "application/vnd.google.colaboratory.intrinsic+json": {
              "type": "string"
            },
            "text/plain": [
              "'odd'"
            ]
          },
          "metadata": {
            "tags": []
          },
          "execution_count": 2
        }
      ]
    },
    {
      "cell_type": "code",
      "metadata": {
        "colab": {
          "base_uri": "https://localhost:8080/",
          "height": 35
        },
        "id": "RtbGgWIAnCFv",
        "outputId": "17a5664d-715d-4ff8-e82e-b77bbc89d9b5"
      },
      "source": [
        "y = 'even' if x%2 == 0 else 'odd'\n",
        "y"
      ],
      "execution_count": 3,
      "outputs": [
        {
          "output_type": "execute_result",
          "data": {
            "application/vnd.google.colaboratory.intrinsic+json": {
              "type": "string"
            },
            "text/plain": [
              "'odd'"
            ]
          },
          "metadata": {
            "tags": []
          },
          "execution_count": 3
        }
      ]
    },
    {
      "cell_type": "code",
      "metadata": {
        "colab": {
          "base_uri": "https://localhost:8080/",
          "height": 53
        },
        "id": "nZq8MlEKnOTK",
        "outputId": "4e1960a5-7b4c-4c3f-d03f-1b21f9678103"
      },
      "source": [
        "# 90점 이상: 'A', 80이상 90미만: 'B', 70이상 80미만: 'C', 60이상 70미만: 'D', 60미만: 'F'\n",
        "\n",
        "score = int(input('점수 입력> '))\n",
        "if score >= 90:\n",
        "    grade = 'A'\n",
        "if 80 <= score < 90:\n",
        "    grade = 'B'\n",
        "if 70 <= score < 80:\n",
        "    grade = 'C'\n",
        "if 60 <= score < 70:\n",
        "    grade = 'D'\n",
        "if score < 60:\n",
        "    grade = 'F'\n",
        "\n",
        "grade\n"
      ],
      "execution_count": 7,
      "outputs": [
        {
          "output_type": "stream",
          "text": [
            "점수 입력> 67\n"
          ],
          "name": "stdout"
        },
        {
          "output_type": "execute_result",
          "data": {
            "application/vnd.google.colaboratory.intrinsic+json": {
              "type": "string"
            },
            "text/plain": [
              "'D'"
            ]
          },
          "metadata": {
            "tags": []
          },
          "execution_count": 7
        }
      ]
    },
    {
      "cell_type": "code",
      "metadata": {
        "colab": {
          "base_uri": "https://localhost:8080/",
          "height": 53
        },
        "id": "EdtuBqd_pN32",
        "outputId": "7860af95-45bb-4f36-8eed-696a25df15c2"
      },
      "source": [
        "score = int(input('점수 입력> '))\n",
        "grade = 'A' if score >= 90 else \\\n",
        "        'B' if score >= 80 else \\\n",
        "        'C' if score >= 70 else \\\n",
        "        'D' if score >= 60 else 'F'\n",
        "grade"
      ],
      "execution_count": 13,
      "outputs": [
        {
          "output_type": "stream",
          "text": [
            "점수 입력> 75\n"
          ],
          "name": "stdout"
        },
        {
          "output_type": "execute_result",
          "data": {
            "application/vnd.google.colaboratory.intrinsic+json": {
              "type": "string"
            },
            "text/plain": [
              "'C'"
            ]
          },
          "metadata": {
            "tags": []
          },
          "execution_count": 13
        }
      ]
    },
    {
      "cell_type": "code",
      "metadata": {
        "colab": {
          "base_uri": "https://localhost:8080/",
          "height": 53
        },
        "id": "6Zwssoziqz8b",
        "outputId": "182d3406-cc60-4161-c98e-54c459d4bbf0"
      },
      "source": [
        "score = int(input('점수 입력> '))\n",
        "grade = 'A' if score >= 90 else 'B' if score >= 80 else 'C' if score >= 70 else 'D' if score >= 60 else 'F'\n",
        "grade   # 돌아가긴 하지만 보기 편하게 쓰는게 좋음"
      ],
      "execution_count": 11,
      "outputs": [
        {
          "output_type": "stream",
          "text": [
            "점수 입력> 86\n"
          ],
          "name": "stdout"
        },
        {
          "output_type": "execute_result",
          "data": {
            "application/vnd.google.colaboratory.intrinsic+json": {
              "type": "string"
            },
            "text/plain": [
              "'B'"
            ]
          },
          "metadata": {
            "tags": []
          },
          "execution_count": 11
        }
      ]
    },
    {
      "cell_type": "markdown",
      "metadata": {
        "id": "WqUdeLB7uibB"
      },
      "source": [
        "### 조건식에서의 논리연산자"
      ]
    },
    {
      "cell_type": "code",
      "metadata": {
        "colab": {
          "base_uri": "https://localhost:8080/"
        },
        "id": "VXS4iyyrrPHS",
        "outputId": "3b2c5651-8b30-4f37-91fe-b9819e79502f"
      },
      "source": [
        "x = 5\n",
        "if x > 0 & x < 10:\n",
        "    print('10보다 작은 양의 정수입니다.')"
      ],
      "execution_count": 14,
      "outputs": [
        {
          "output_type": "stream",
          "text": [
            "10보다 작은 양의 정수입니다.\n"
          ],
          "name": "stdout"
        }
      ]
    },
    {
      "cell_type": "code",
      "metadata": {
        "colab": {
          "base_uri": "https://localhost:8080/"
        },
        "id": "dVBjvhEzur0j",
        "outputId": "d98e250e-ac08-49f0-fcd5-4c99b869a242"
      },
      "source": [
        "if 0 < x < 10:\n",
        "    print('10보다 작은 양의 정수입니다.')"
      ],
      "execution_count": 15,
      "outputs": [
        {
          "output_type": "stream",
          "text": [
            "10보다 작은 양의 정수입니다.\n"
          ],
          "name": "stdout"
        }
      ]
    },
    {
      "cell_type": "code",
      "metadata": {
        "id": "B-7x91RGu1CD"
      },
      "source": [
        ""
      ],
      "execution_count": null,
      "outputs": []
    }
  ]
}
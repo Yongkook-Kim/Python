{
  "nbformat": 4,
  "nbformat_minor": 0,
  "metadata": {
    "colab": {
      "name": "u15_elif.ipynb",
      "provenance": [],
      "collapsed_sections": []
    },
    "kernelspec": {
      "name": "python3",
      "display_name": "Python 3"
    },
    "language_info": {
      "name": "python"
    }
  },
  "cells": [
    {
      "cell_type": "markdown",
      "metadata": {
        "id": "6WQ6-sXSlTkN"
      },
      "source": [
        "# Unit 15. elif"
      ]
    },
    {
      "cell_type": "code",
      "metadata": {
        "colab": {
          "base_uri": "https://localhost:8080/"
        },
        "id": "d8mUUKgokMVt",
        "outputId": "3d58b60c-16f9-40f2-bc4a-1f27d837b976"
      },
      "source": [
        "x = 15\n",
        "if x == 10:\n",
        "    print('It is 10.')\n",
        "elif x == 20:\n",
        "    print('It is 20.')\n",
        "else:\n",
        "    print('10, 20이 아닙니다.')"
      ],
      "execution_count": 3,
      "outputs": [
        {
          "output_type": "stream",
          "text": [
            "10, 20이 아닙니다.\n"
          ],
          "name": "stdout"
        }
      ]
    },
    {
      "cell_type": "code",
      "metadata": {
        "colab": {
          "base_uri": "https://localhost:8080/"
        },
        "id": "xCuadIrrodkm",
        "outputId": "c5add1f2-6be6-4822-ad51-447932d7a11f"
      },
      "source": [
        "# 숫자를 입력으로 받아서 3의 배수면 fizz, 5의 배수면 buzz, 15의 배수면 fizzbuzz\n",
        "\n",
        "x = int(input())\n",
        "\n",
        "if x % 3 == 0 and x % 5 == 0:\n",
        "    print('fizzbuzz')\n",
        "elif x % 3 == 0:\n",
        "    print('fizz')\n",
        "elif x % 5 == 0:\n",
        "    print('buzz')\n",
        "else:\n",
        "    print(x)"
      ],
      "execution_count": 12,
      "outputs": [
        {
          "output_type": "stream",
          "text": [
            "4\n",
            "4\n"
          ],
          "name": "stdout"
        }
      ]
    },
    {
      "cell_type": "code",
      "metadata": {
        "colab": {
          "base_uri": "https://localhost:8080/",
          "height": 35
        },
        "id": "Ex0P5L4bq9Ae",
        "outputId": "85633c18-650a-4876-cf36-0136eeb02c17"
      },
      "source": [
        "'fizz'*True"
      ],
      "execution_count": 13,
      "outputs": [
        {
          "output_type": "execute_result",
          "data": {
            "application/vnd.google.colaboratory.intrinsic+json": {
              "type": "string"
            },
            "text/plain": [
              "'fizz'"
            ]
          },
          "metadata": {
            "tags": []
          },
          "execution_count": 13
        }
      ]
    },
    {
      "cell_type": "code",
      "metadata": {
        "colab": {
          "base_uri": "https://localhost:8080/"
        },
        "id": "GVza2SM8pTWS",
        "outputId": "ad445124-5199-4649-c5d2-0e993d7a1f49"
      },
      "source": [
        "x = int(input())\n",
        "print('fizz'*(x%3==0)+'buzz'*(x%5==0) or x)"
      ],
      "execution_count": 16,
      "outputs": [
        {
          "output_type": "stream",
          "text": [
            "9\n",
            "fizz\n"
          ],
          "name": "stdout"
        }
      ]
    }
  ]
}
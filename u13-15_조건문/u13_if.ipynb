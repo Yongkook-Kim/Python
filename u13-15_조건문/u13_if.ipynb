{
  "nbformat": 4,
  "nbformat_minor": 0,
  "metadata": {
    "colab": {
      "name": "u13_if.ipynb",
      "provenance": [],
      "collapsed_sections": []
    },
    "kernelspec": {
      "name": "python3",
      "display_name": "Python 3"
    },
    "language_info": {
      "name": "python"
    }
  },
  "cells": [
    {
      "cell_type": "markdown",
      "metadata": {
        "id": "FnMidl9Mgvlm"
      },
      "source": [
        "# Unit 13. if 조건문"
      ]
    },
    {
      "cell_type": "markdown",
      "metadata": {
        "id": "OXkm17zHhdwo"
      },
      "source": [
        "## 13.1 if 조건문"
      ]
    },
    {
      "cell_type": "code",
      "metadata": {
        "colab": {
          "base_uri": "https://localhost:8080/"
        },
        "id": "bmal7b0FgnBW",
        "outputId": "a566553a-f2d2-424f-ca87-a970904d1cde"
      },
      "source": [
        "x = 10\n",
        "if x == 10:\n",
        "    print('It is 10.')"
      ],
      "execution_count": 1,
      "outputs": [
        {
          "output_type": "stream",
          "text": [
            "It is 10.\n"
          ],
          "name": "stdout"
        }
      ]
    },
    {
      "cell_type": "markdown",
      "metadata": {
        "id": "eP9Dbppyiy5e"
      },
      "source": [
        "## 13.2 들여쓰기"
      ]
    },
    {
      "cell_type": "code",
      "metadata": {
        "colab": {
          "base_uri": "https://localhost:8080/"
        },
        "id": "1eJqQ-2Dhw6h",
        "outputId": "1170b6df-f3d7-4a6b-f174-e5428c522e11"
      },
      "source": [
        "x = 10\n",
        "if x == 10:\n",
        "    print('x값은')\n",
        "    print('10입니다')   #들여쓰기를 맞춰야함\n",
        "print('x가 10이 아니어도 언제나 출력됩니다.')   #if문 밖임"
      ],
      "execution_count": 7,
      "outputs": [
        {
          "output_type": "stream",
          "text": [
            "x값은\n",
            "10입니다\n",
            "x가 10이 아니어도 언제나 출력됩니다.\n"
          ],
          "name": "stdout"
        }
      ]
    },
    {
      "cell_type": "markdown",
      "metadata": {
        "id": "2ISBrZqmkEZF"
      },
      "source": [
        "## 13.3 중첩 if 조건문"
      ]
    },
    {
      "cell_type": "code",
      "metadata": {
        "colab": {
          "base_uri": "https://localhost:8080/"
        },
        "id": "osf2EiLFjOaf",
        "outputId": "e85bc468-580c-44b4-b80c-e2ab1bdd9005"
      },
      "source": [
        "x = 15\n",
        "if x > 10:\n",
        "    print('10보다 큰 숫자입니다.')\n",
        "    if x == 15:\n",
        "        print('15 입니다.')\n",
        "    if x == 20:\n",
        "        print('20 입니다.')"
      ],
      "execution_count": 9,
      "outputs": [
        {
          "output_type": "stream",
          "text": [
            "10보다 큰 숫자입니다.\n",
            "15 입니다.\n"
          ],
          "name": "stdout"
        }
      ]
    },
    {
      "cell_type": "code",
      "metadata": {
        "colab": {
          "base_uri": "https://localhost:8080/"
        },
        "id": "h1skVzJqkVIa",
        "outputId": "69cb97ef-4269-441e-bb35-6ce3b865f0a8"
      },
      "source": [
        "x = int(input('정수를 입력하세요.> '))\n",
        "if x > 10:\n",
        "    print('10보다 큰 숫자입니다.')\n",
        "    if x == 15:\n",
        "        print('15 입니다.')\n",
        "    if x == 20:\n",
        "        print('20 입니다.')"
      ],
      "execution_count": 10,
      "outputs": [
        {
          "output_type": "stream",
          "text": [
            "정수를 입력하세요.> 20\n",
            "10보다 큰 숫자입니다.\n",
            "20 입니다.\n"
          ],
          "name": "stdout"
        }
      ]
    },
    {
      "cell_type": "code",
      "metadata": {
        "id": "Vn17Iqpxk9VF"
      },
      "source": [
        ""
      ],
      "execution_count": null,
      "outputs": []
    }
  ]
}
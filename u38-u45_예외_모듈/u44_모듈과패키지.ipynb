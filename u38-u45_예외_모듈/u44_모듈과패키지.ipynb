{
  "nbformat": 4,
  "nbformat_minor": 0,
  "metadata": {
    "colab": {
      "name": "u44_모듈과패키지.ipynb",
      "provenance": [],
      "collapsed_sections": []
    },
    "kernelspec": {
      "name": "python3",
      "display_name": "Python 3"
    },
    "language_info": {
      "name": "python"
    }
  },
  "cells": [
    {
      "cell_type": "markdown",
      "metadata": {
        "id": "Euvvhxkye8bP"
      },
      "source": [
        "# Unit 44. 모듈과 패키지"
      ]
    },
    {
      "cell_type": "markdown",
      "metadata": {
        "id": "91GMxbxSgFD5"
      },
      "source": [
        "## 44.1 import"
      ]
    },
    {
      "cell_type": "code",
      "metadata": {
        "colab": {
          "base_uri": "https://localhost:8080/"
        },
        "id": "gr0EUXcle37O",
        "outputId": "07755733-aae7-40ff-e853-4bc302f2b475"
      },
      "source": [
        "import math\n",
        "math.pi"
      ],
      "execution_count": 1,
      "outputs": [
        {
          "output_type": "execute_result",
          "data": {
            "text/plain": [
              "3.141592653589793"
            ]
          },
          "metadata": {
            "tags": []
          },
          "execution_count": 1
        }
      ]
    },
    {
      "cell_type": "code",
      "metadata": {
        "colab": {
          "base_uri": "https://localhost:8080/"
        },
        "id": "q07auhaYgJaG",
        "outputId": "67be37cd-9d17-4cec-9d89-3e8c66c49212"
      },
      "source": [
        "math.sqrt(2), math.log2(8), math.sin(math.pi/2)"
      ],
      "execution_count": 3,
      "outputs": [
        {
          "output_type": "execute_result",
          "data": {
            "text/plain": [
              "(1.4142135623730951, 3.0, 1.0)"
            ]
          },
          "metadata": {
            "tags": []
          },
          "execution_count": 3
        }
      ]
    },
    {
      "cell_type": "code",
      "metadata": {
        "colab": {
          "base_uri": "https://localhost:8080/"
        },
        "id": "vrO1swA5ggtM",
        "outputId": "dc03001d-7ef3-42bf-859d-68787696aa2a"
      },
      "source": [
        "# aliasing\n",
        "import math as m\n",
        "round(m.pi, 4), m.log2(8), round(m.sqrt(2), 4)"
      ],
      "execution_count": 7,
      "outputs": [
        {
          "output_type": "execute_result",
          "data": {
            "text/plain": [
              "(3.1416, 3.0, 1.4142)"
            ]
          },
          "metadata": {
            "tags": []
          },
          "execution_count": 7
        }
      ]
    },
    {
      "cell_type": "code",
      "metadata": {
        "colab": {
          "base_uri": "https://localhost:8080/"
        },
        "id": "tsETqDEeg87M",
        "outputId": "ee351b27-9226-4f97-f980-ed5292c14d26"
      },
      "source": [
        "# from을 통해서 함수, 클래스, 전역변수 등을 가져올 수 있음\n",
        "from math import sqrt, pi, log2\n",
        "round(pi, 4), round(sqrt(2), 4)"
      ],
      "execution_count": 10,
      "outputs": [
        {
          "output_type": "execute_result",
          "data": {
            "text/plain": [
              "(3.1416, 1.4142)"
            ]
          },
          "metadata": {
            "tags": []
          },
          "execution_count": 10
        }
      ]
    },
    {
      "cell_type": "code",
      "metadata": {
        "colab": {
          "base_uri": "https://localhost:8080/"
        },
        "id": "L0rqLYTAhkIV",
        "outputId": "d05f63c5-62f7-4567-ad1a-046d7d894fb8"
      },
      "source": [
        "# 모든 것을 가져옴\n",
        "from math import *\n",
        "log2(8), sin(pi/2)"
      ],
      "execution_count": 11,
      "outputs": [
        {
          "output_type": "execute_result",
          "data": {
            "text/plain": [
              "(3.0, 1.0)"
            ]
          },
          "metadata": {
            "tags": []
          },
          "execution_count": 11
        }
      ]
    },
    {
      "cell_type": "markdown",
      "metadata": {
        "id": "sk3XLPVGjC6M"
      },
      "source": [
        "## 44.2 import 패키지"
      ]
    },
    {
      "cell_type": "code",
      "metadata": {
        "colab": {
          "base_uri": "https://localhost:8080/"
        },
        "id": "rfqm0CqriKPW",
        "outputId": "fd5882af-1de5-4f5c-a1c5-49a0f0dfa2a4"
      },
      "source": [
        "import urllib.request\n",
        "res = urllib.request.urlopen('http://www.google.co.kr')\n",
        "res.status"
      ],
      "execution_count": 12,
      "outputs": [
        {
          "output_type": "execute_result",
          "data": {
            "text/plain": [
              "200"
            ]
          },
          "metadata": {
            "tags": []
          },
          "execution_count": 12
        }
      ]
    },
    {
      "cell_type": "code",
      "metadata": {
        "colab": {
          "base_uri": "https://localhost:8080/"
        },
        "id": "iWfQneqXjPej",
        "outputId": "ad6cd100-be11-47a5-db4e-244acf6147a9"
      },
      "source": [
        "from urllib.request import urlopen\n",
        "res = urllib.request.urlopen('http://www.google.co.kr')\n",
        "res.status"
      ],
      "execution_count": 14,
      "outputs": [
        {
          "output_type": "execute_result",
          "data": {
            "text/plain": [
              "200"
            ]
          },
          "metadata": {
            "tags": []
          },
          "execution_count": 14
        }
      ]
    },
    {
      "cell_type": "code",
      "metadata": {
        "id": "VnZ1zCRZjRcV"
      },
      "source": [
        ""
      ],
      "execution_count": null,
      "outputs": []
    }
  ]
}
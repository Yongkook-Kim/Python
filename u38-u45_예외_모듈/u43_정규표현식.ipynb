{
  "nbformat": 4,
  "nbformat_minor": 0,
  "metadata": {
    "colab": {
      "name": "u43_정규표현식.ipynb",
      "provenance": [],
      "collapsed_sections": []
    },
    "kernelspec": {
      "name": "python3",
      "display_name": "Python 3"
    },
    "language_info": {
      "name": "python"
    }
  },
  "cells": [
    {
      "cell_type": "markdown",
      "metadata": {
        "id": "SYAGfiZC-9Lm"
      },
      "source": [
        "# Unit 43. 정규 표현식"
      ]
    },
    {
      "cell_type": "markdown",
      "metadata": {
        "id": "wL_tj1M5_DvO"
      },
      "source": [
        "## 43.1 문자열 판단"
      ]
    },
    {
      "cell_type": "code",
      "metadata": {
        "colab": {
          "base_uri": "https://localhost:8080/"
        },
        "id": "V_FphNPF8Ueh",
        "outputId": "7a2abe80-899c-4820-d9c7-1d60b804e2f7"
      },
      "source": [
        "import re\n",
        "re.match('Hello', 'Hello, world!')      # 패턴, 문자열"
      ],
      "execution_count": 1,
      "outputs": [
        {
          "output_type": "execute_result",
          "data": {
            "text/plain": [
              "<re.Match object; span=(0, 5), match='Hello'>"
            ]
          },
          "metadata": {
            "tags": []
          },
          "execution_count": 1
        }
      ]
    },
    {
      "cell_type": "code",
      "metadata": {
        "colab": {
          "base_uri": "https://localhost:8080/"
        },
        "id": "VoohYmU2_aWg",
        "outputId": "bfc64e73-1a4c-46d4-9439-1a49fd345330"
      },
      "source": [
        "z = re.match('Hello', 'Hello,world!')\n",
        "if z:\n",
        "    print('Found!!')\n",
        "else:\n",
        "    print('Not found.')"
      ],
      "execution_count": 3,
      "outputs": [
        {
          "output_type": "stream",
          "text": [
            "Found!!\n"
          ],
          "name": "stdout"
        }
      ]
    },
    {
      "cell_type": "code",
      "metadata": {
        "colab": {
          "base_uri": "https://localhost:8080/"
        },
        "id": "VxbnVdIIC23A",
        "outputId": "ea94c22a-123c-4ba4-9b70-4413af9c6975"
      },
      "source": [
        "# match()는 문장의 처음에서 찾음\n",
        "if re.match('world', 'Hello, world!'):\n",
        "    print('Found!!')\n",
        "else:\n",
        "    print('Not found.')"
      ],
      "execution_count": 4,
      "outputs": [
        {
          "output_type": "stream",
          "text": [
            "Not found.\n"
          ],
          "name": "stdout"
        }
      ]
    },
    {
      "cell_type": "code",
      "metadata": {
        "colab": {
          "base_uri": "https://localhost:8080/"
        },
        "id": "pjTKfoYyDL1Y",
        "outputId": "5b6dec91-c7ee-47a3-fee5-a3bd9f8c4161"
      },
      "source": [
        "# search()는 모든 문장에서 찾음\n",
        "if re.search('world', 'Hello, world!'):\n",
        "    print('Found!!')\n",
        "else:\n",
        "    print('Not found.')"
      ],
      "execution_count": 5,
      "outputs": [
        {
          "output_type": "stream",
          "text": [
            "Found!!\n"
          ],
          "name": "stdout"
        }
      ]
    },
    {
      "cell_type": "markdown",
      "metadata": {
        "id": "Fb6cL8M2DhBw"
      },
      "source": [
        "## 43.2 범위 판단"
      ]
    },
    {
      "cell_type": "code",
      "metadata": {
        "colab": {
          "base_uri": "https://localhost:8080/"
        },
        "id": "PpGE75znDOfe",
        "outputId": "8e5bbc8a-7af3-49fc-e8c6-abcf254b5395"
      },
      "source": [
        "# 휴대전화 번호형식\n",
        "pattern = '01[0-9]-[0-9]{4}-[0-9]{4}'\n",
        "text = '02-1234-5678'\n",
        "if re.match(pattern, text):\n",
        "    print('올바른 휴대전화번호')\n",
        "else:\n",
        "    print('잘못된 휴대전화번호')"
      ],
      "execution_count": 11,
      "outputs": [
        {
          "output_type": "stream",
          "text": [
            "잘못된 휴대전화번호\n"
          ],
          "name": "stdout"
        }
      ]
    },
    {
      "cell_type": "code",
      "metadata": {
        "colab": {
          "base_uri": "https://localhost:8080/"
        },
        "id": "2rRymEauEqXN",
        "outputId": "3d40c2d9-5faf-4f43-d474-57c1bfa2543a"
      },
      "source": [
        "# 한글 패턴\n",
        "hangul = '[ㄱ-ㅎㅏ-ㅣ가-힣]+'\n",
        "text = 'text'\n",
        "if re.search(hangul, text):\n",
        "    print('한글이 있음')\n",
        "else:\n",
        "    print('한글이 없음')"
      ],
      "execution_count": 13,
      "outputs": [
        {
          "output_type": "stream",
          "text": [
            "한글이 없음\n"
          ],
          "name": "stdout"
        }
      ]
    },
    {
      "cell_type": "markdown",
      "metadata": {
        "id": "H50YBzROJzt-"
      },
      "source": [
        "### 이메일 주소 검사하기"
      ]
    },
    {
      "cell_type": "code",
      "metadata": {
        "id": "vYIUQKmIJ-P0"
      },
      "source": [
        "p = re.compile('^[0-9a-zA-Z]([-_.]?[0-9a-zA-Z])*@[0-9a-zA-Z]([-_.]?[0-9a-zA-Z])*.[a-zA-Z]{2,3}$')"
      ],
      "execution_count": 25,
      "outputs": []
    },
    {
      "cell_type": "code",
      "metadata": {
        "id": "dGLrB3DoKVaA"
      },
      "source": [
        "emails = ['python@mail.example.com', 'python+kr@example.com',              # 올바른 형식\n",
        "          'python-dojang@example.co.kr', 'python_10@example.info',         # 올바른 형식\n",
        "          'python.dojang@e-xample.com',                                    # 올바른 형식\n",
        "          '@example.com', 'python@example', 'python@example-com']          # 잘못된 형식\n",
        " "
      ],
      "execution_count": 26,
      "outputs": []
    },
    {
      "cell_type": "code",
      "metadata": {
        "colab": {
          "base_uri": "https://localhost:8080/"
        },
        "id": "_Mc8ZzvCKZOh",
        "outputId": "2cc3c1d7-ded8-4aff-8be0-4443b54ea03c"
      },
      "source": [
        "for email in emails:\n",
        "    print(p.match(email) != None, end=' ')"
      ],
      "execution_count": 29,
      "outputs": [
        {
          "output_type": "stream",
          "text": [
            "True False True True True False True True "
          ],
          "name": "stdout"
        }
      ]
    },
    {
      "cell_type": "code",
      "metadata": {
        "colab": {
          "base_uri": "https://localhost:8080/"
        },
        "id": "lZ_W_vZcJ1wy",
        "outputId": "065e35f4-247a-477f-c9c2-b25324566023"
      },
      "source": [
        "import re\n",
        " \n",
        "p = re.compile('^[a-zA-Z0-9+-_.]+@[a-zA-Z0-9-]+\\.[a-zA-Z0-9-.]+$')\n",
        "emails = ['python@mail.example.com', 'python+kr@example.com',              # 올바른 형식\n",
        "          'python-dojang@example.co.kr', 'python_10@example.info',         # 올바른 형식\n",
        "          'python.dojang@e-xample.com',                                    # 올바른 형식\n",
        "          '@example.com', 'python@example', 'python@example-com']          # 잘못된 형식\n",
        " \n",
        "for email in emails:\n",
        "    print(p.match(email) != None, end=' ')"
      ],
      "execution_count": 24,
      "outputs": [
        {
          "output_type": "stream",
          "text": [
            "True True True True True False False False "
          ],
          "name": "stdout"
        }
      ]
    },
    {
      "cell_type": "markdown",
      "metadata": {
        "id": "1Kt3FbPqGJL_"
      },
      "source": [
        "## 43.4 문자열 바꾸기"
      ]
    },
    {
      "cell_type": "code",
      "metadata": {
        "colab": {
          "base_uri": "https://localhost:8080/",
          "height": 35
        },
        "id": "E9kyztaSFvcc",
        "outputId": "5854bbd0-47be-45a9-b4a6-cec72f9908e7"
      },
      "source": [
        "# re.sub('패턴', '바꿀 문자열', '문자열')\n",
        "re.sub('apple|orange', 'fruit', 'apple box orange tree')"
      ],
      "execution_count": 14,
      "outputs": [
        {
          "output_type": "execute_result",
          "data": {
            "application/vnd.google.colaboratory.intrinsic+json": {
              "type": "string"
            },
            "text/plain": [
              "'fruit box fruit tree'"
            ]
          },
          "metadata": {
            "tags": []
          },
          "execution_count": 14
        }
      ]
    },
    {
      "cell_type": "code",
      "metadata": {
        "colab": {
          "base_uri": "https://localhost:8080/",
          "height": 35
        },
        "id": "p6BnfP_RGcxQ",
        "outputId": "5d26a6e3-9c80-467d-b92f-ea8b953b91e0"
      },
      "source": [
        "re.sub('[0-9]', 'n', '1 2 Fizz 4 Buzz Fizz 7 8 Fizz Buzz 11 12')"
      ],
      "execution_count": 18,
      "outputs": [
        {
          "output_type": "execute_result",
          "data": {
            "application/vnd.google.colaboratory.intrinsic+json": {
              "type": "string"
            },
            "text/plain": [
              "'n n Fizz n Buzz Fizz n n Fizz Buzz nn nn'"
            ]
          },
          "metadata": {
            "tags": []
          },
          "execution_count": 18
        }
      ]
    },
    {
      "cell_type": "code",
      "metadata": {
        "colab": {
          "base_uri": "https://localhost:8080/",
          "height": 35
        },
        "id": "pE7EeVKIG8ys",
        "outputId": "c4acd910-f494-49ce-d2b8-eee7421fa60c"
      },
      "source": [
        "re.sub('[0-9]+', 'n', '1 2 Fizz 4 Buzz Fizz 7 8 Fizz Buzz 11 12')"
      ],
      "execution_count": 17,
      "outputs": [
        {
          "output_type": "execute_result",
          "data": {
            "application/vnd.google.colaboratory.intrinsic+json": {
              "type": "string"
            },
            "text/plain": [
              "'n n Fizz n Buzz Fizz n n Fizz Buzz n'"
            ]
          },
          "metadata": {
            "tags": []
          },
          "execution_count": 17
        }
      ]
    },
    {
      "cell_type": "code",
      "metadata": {
        "id": "tnLuaGYEHF0F"
      },
      "source": [
        "text = '''\n",
        "가장 단순한 형태의 원자는 리터럴(literal)이지만 원자를 일치시키기 위해 패턴을\n",
        "묶을 때에는 메타문자로서 ( )를 사용해야 한다. 메타문자는 원자 외에도 얼마나 많은\n",
        "원자가 있는지를 가리키는 수량자(quantifier), 선택적인 대안을 가리키는 논리적 OR 문자,\n",
        "그리고 원자의 존재를 부정하는 NOT 문자, 그리고 전에 일치된 원잘르 참조할 수 있게 하는\n",
        "역참조(backreference)를 만드는 것을 도와준다.\n",
        "'''"
      ],
      "execution_count": 22,
      "outputs": []
    },
    {
      "cell_type": "code",
      "metadata": {
        "colab": {
          "base_uri": "https://localhost:8080/",
          "height": 71
        },
        "id": "FYDFCd-bHsuh",
        "outputId": "89179014-6d6e-4654-9e98-b504a809f897"
      },
      "source": [
        "not_hangul_blank = '[^ㄱ-ㅎㅏ-ㅣ가-힣 ]'\n",
        "text = re.sub(not_hangul_blank, '', text)\n",
        "text"
      ],
      "execution_count": 23,
      "outputs": [
        {
          "output_type": "execute_result",
          "data": {
            "application/vnd.google.colaboratory.intrinsic+json": {
              "type": "string"
            },
            "text/plain": [
              "'가장 단순한 형태의 원자는 리터럴이지만 원자를 일치시키기 위해 패턴을묶을 때에는 메타문자로서  를 사용해야 한다 메타문자는 원자 외에도 얼마나 많은원자가 있는지를 가리키는 수량자 선택적인 대안을 가리키는 논리적  문자그리고 원자의 존재를 부정하는  문자 그리고 전에 일치된 원잘르 참조할 수 있게 하는역참조를 만드는 것을 도와준다'"
            ]
          },
          "metadata": {
            "tags": []
          },
          "execution_count": 23
        }
      ]
    }
  ]
}
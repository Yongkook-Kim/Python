{
  "nbformat": 4,
  "nbformat_minor": 0,
  "metadata": {
    "colab": {
      "name": "u27-31_심사문제.ipynb",
      "provenance": [],
      "collapsed_sections": []
    },
    "kernelspec": {
      "name": "python3",
      "display_name": "Python 3"
    },
    "language_info": {
      "name": "python"
    }
  },
  "cells": [
    {
      "cell_type": "code",
      "metadata": {
        "id": "3zG3fazU-Iwk"
      },
      "source": [
        "# 27단원 심사문제\n",
        "'''\n",
        "Fortunately, however, for the reputation of Asteroid B-612, a Turkish dictator made a law that his subjects, under pain of death, should change to European costume. So in 1920 the astronomer gave his demonstration all over again, dressed with impressive style and elegance. And this time everybody accepted his report.\n",
        "'''\n",
        "import re\n",
        "with open('words.txt', 'r') as file:\n",
        "    text = file.readline()\n",
        "    text = re.sub('[\\'-.,\\n]', '', text)\n",
        "    text = text.split()\n",
        "for i in range(len(text)):\n",
        "    if 'c' in text[i]:\n",
        "        print(text[i])\n"
      ],
      "execution_count": null,
      "outputs": []
    },
    {
      "cell_type": "code",
      "metadata": {
        "colab": {
          "base_uri": "https://localhost:8080/"
        },
        "id": "PIJKJv6_5HHX",
        "outputId": "dc7973f3-2dcf-44da-f3b0-4796603db8b7"
      },
      "source": [
        "# 29단원 심사문제\n",
        "\n",
        "x, y = map(int, input().split())\n",
        "\n",
        "def calc(x,y):\n",
        "    a = x + y\n",
        "    s = x - y\n",
        "    m = x * y\n",
        "    d = float(x)/float(y)\n",
        "    return a, s, m, d\n",
        "\n",
        "a, s, m, d = calc(x, y)\n",
        "print('덧셈: {0}, 뺄셈: {1}, 곱셈: {2}, 나눗셈: {3}'.format(a, s, m, d))"
      ],
      "execution_count": 8,
      "outputs": [
        {
          "output_type": "stream",
          "text": [
            "10 20\n",
            "덧셈: 30, 뺄셈: -10, 곱셈: 200, 나눗셈: 0.5\n"
          ],
          "name": "stdout"
        }
      ]
    },
    {
      "cell_type": "code",
      "metadata": {
        "colab": {
          "base_uri": "https://localhost:8080/"
        },
        "id": "IQlErBnV5Ilx",
        "outputId": "1fdc5ef3-b91a-4a15-934a-85a7b0256a91"
      },
      "source": [
        "# 30단원 심사문제\n",
        "\n",
        "korean, english, mathematics, science = map(int, input().split())\n",
        "\n",
        "def get_min_max_score(*args):\n",
        "    min_score = min(args)\n",
        "    max_score = max(args)\n",
        "    return min_score, max_score\n",
        "\n",
        "def get_average(**kwargs):\n",
        "    average_score = float(sum(kwargs.values())/len(kwargs))\n",
        "    return average_score\n",
        "\n",
        "\n",
        "min_score, max_score = get_min_max_score(korean, english, mathematics, science)\n",
        "average_score = get_average(korean=korean, english=english,\n",
        "                            mathematics=mathematics, science=science)\n",
        "print('낮은 점수: {0:.2f}, 높은 점수: {1:.2f}, 평균 점수: {2:.2f}'\n",
        "      .format(min_score, max_score, average_score))\n",
        " \n",
        "min_score, max_score = get_min_max_score(english, science)\n",
        "average_score = get_average(english=english, science=science)\n",
        "print('낮은 점수: {0:.2f}, 높은 점수: {1:.2f}, 평균 점수: {2:.2f}'\n",
        "      .format(min_score, max_score, average_score))"
      ],
      "execution_count": 27,
      "outputs": [
        {
          "output_type": "stream",
          "text": [
            "20 30 40 50\n",
            "낮은 점수: 20.00, 높은 점수: 50.00, 평균 점수: 35.00\n",
            "낮은 점수: 30.00, 높은 점수: 50.00, 평균 점수: 40.00\n"
          ],
          "name": "stdout"
        }
      ]
    },
    {
      "cell_type": "code",
      "metadata": {
        "colab": {
          "base_uri": "https://localhost:8080/"
        },
        "id": "Y4o_Ti4U5J6-",
        "outputId": "9a6f0475-6630-4100-9414-0227d23f53b4"
      },
      "source": [
        "# 31단원 심사문제\n",
        "\n",
        "def fib(n):\n",
        "    if n <= 2:\n",
        "        return 1\n",
        "    return fib(n-1) + fib(n-2)\n",
        "\n",
        "n = int(input())\n",
        "print(fib(n))"
      ],
      "execution_count": 17,
      "outputs": [
        {
          "output_type": "stream",
          "text": [
            "5\n",
            "5\n"
          ],
          "name": "stdout"
        }
      ]
    },
    {
      "cell_type": "code",
      "metadata": {
        "colab": {
          "base_uri": "https://localhost:8080/"
        },
        "id": "kbH2e-F8FWf5",
        "outputId": "9a4e316c-8888-477f-d962-f39718415466"
      },
      "source": [
        "x = [10, 20, 30]\n",
        "sum(x)"
      ],
      "execution_count": 18,
      "outputs": [
        {
          "output_type": "execute_result",
          "data": {
            "text/plain": [
              "60"
            ]
          },
          "metadata": {
            "tags": []
          },
          "execution_count": 18
        }
      ]
    }
  ]
}
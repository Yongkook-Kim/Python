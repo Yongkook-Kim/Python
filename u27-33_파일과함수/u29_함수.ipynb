{
  "nbformat": 4,
  "nbformat_minor": 0,
  "metadata": {
    "colab": {
      "name": "u29_함수.ipynb",
      "provenance": [],
      "collapsed_sections": []
    },
    "kernelspec": {
      "name": "python3",
      "display_name": "Python 3"
    },
    "language_info": {
      "name": "python"
    }
  },
  "cells": [
    {
      "cell_type": "markdown",
      "metadata": {
        "id": "dD-JsWRnMFC0"
      },
      "source": [
        "# Unit 29. 함수"
      ]
    },
    {
      "cell_type": "markdown",
      "metadata": {
        "id": "yd9s1GypOk90"
      },
      "source": [
        "## 29.1 출력 함수 만들기"
      ]
    },
    {
      "cell_type": "code",
      "metadata": {
        "id": "QL8JurjPMCjD"
      },
      "source": [
        "def hello():\n",
        "    print('Hi, Hello, 안녕~!')"
      ],
      "execution_count": 4,
      "outputs": []
    },
    {
      "cell_type": "code",
      "metadata": {
        "colab": {
          "base_uri": "https://localhost:8080/"
        },
        "id": "Owz4cZD7OyJY",
        "outputId": "ff5a1518-3068-4b6a-99b5-cf38540df052"
      },
      "source": [
        "hello()"
      ],
      "execution_count": 5,
      "outputs": [
        {
          "output_type": "stream",
          "text": [
            "Hi, Hello, 안녕~!\n"
          ],
          "name": "stdout"
        }
      ]
    },
    {
      "cell_type": "markdown",
      "metadata": {
        "id": "QEGaGst7PuAd"
      },
      "source": [
        "## 29.2 덧셈 함수"
      ]
    },
    {
      "cell_type": "code",
      "metadata": {
        "id": "Pi_0251LO6hJ"
      },
      "source": [
        "# 매개변수, parameter, argument\n",
        "def add(a, b):\n",
        "    print(a+b)"
      ],
      "execution_count": 6,
      "outputs": []
    },
    {
      "cell_type": "code",
      "metadata": {
        "colab": {
          "base_uri": "https://localhost:8080/"
        },
        "id": "qcVaruTXP_1K",
        "outputId": "f25ceeb1-90d9-47f8-c44b-e127ba8c697f"
      },
      "source": [
        "add(3,5)\n",
        "add(14,16)"
      ],
      "execution_count": 9,
      "outputs": [
        {
          "output_type": "stream",
          "text": [
            "8\n",
            "30\n"
          ],
          "name": "stdout"
        }
      ]
    },
    {
      "cell_type": "code",
      "metadata": {
        "id": "FvMCETxmQCER"
      },
      "source": [
        "# Docstrings\n",
        "def add(a, b):\n",
        "    \"\"\"\n",
        "    이 함수는 a와 b를 더한 뒤 결과를 프린트하는 함수입니다.\n",
        "    \"\"\"\n",
        "    print(a+b)"
      ],
      "execution_count": 10,
      "outputs": []
    },
    {
      "cell_type": "code",
      "metadata": {
        "id": "kudEPMx_Q9da"
      },
      "source": [
        "# 도움말 호출\n",
        "add?"
      ],
      "execution_count": 12,
      "outputs": []
    },
    {
      "cell_type": "code",
      "metadata": {
        "id": "V4BTXRSLQ_Cw"
      },
      "source": [
        "print?"
      ],
      "execution_count": 13,
      "outputs": []
    },
    {
      "cell_type": "markdown",
      "metadata": {
        "id": "3Ffalv-hRb-T"
      },
      "source": [
        "## 29.3 결과값 반환"
      ]
    },
    {
      "cell_type": "code",
      "metadata": {
        "id": "Ahg49H30RKRA"
      },
      "source": [
        "def add(a,b):\n",
        "    return a+b"
      ],
      "execution_count": 14,
      "outputs": []
    },
    {
      "cell_type": "code",
      "metadata": {
        "colab": {
          "base_uri": "https://localhost:8080/"
        },
        "id": "KF1OJKW7Rmr_",
        "outputId": "bf627120-0898-4aac-b44d-738561c051ce"
      },
      "source": [
        "add(4,5), add(10,20)"
      ],
      "execution_count": 15,
      "outputs": [
        {
          "output_type": "execute_result",
          "data": {
            "text/plain": [
              "(9, 30)"
            ]
          },
          "metadata": {
            "tags": []
          },
          "execution_count": 15
        }
      ]
    },
    {
      "cell_type": "code",
      "metadata": {
        "colab": {
          "base_uri": "https://localhost:8080/"
        },
        "id": "ge8njuNqRrkH",
        "outputId": "228a6500-d9c5-4649-ccc2-5647eb9cb64f"
      },
      "source": [
        "x = add(34,23)\n",
        "x"
      ],
      "execution_count": 16,
      "outputs": [
        {
          "output_type": "execute_result",
          "data": {
            "text/plain": [
              "57"
            ]
          },
          "metadata": {
            "tags": []
          },
          "execution_count": 16
        }
      ]
    },
    {
      "cell_type": "code",
      "metadata": {
        "id": "uMaidQDvR3Ly"
      },
      "source": [
        "def is_ten(x):\n",
        "    return x == 10"
      ],
      "execution_count": 17,
      "outputs": []
    },
    {
      "cell_type": "code",
      "metadata": {
        "colab": {
          "base_uri": "https://localhost:8080/"
        },
        "id": "E19dLa0LSHnQ",
        "outputId": "cdfb0d11-8895-49ff-cd54-fb96b2a35370"
      },
      "source": [
        "is_ten(101//10)"
      ],
      "execution_count": 18,
      "outputs": [
        {
          "output_type": "execute_result",
          "data": {
            "text/plain": [
              "True"
            ]
          },
          "metadata": {
            "tags": []
          },
          "execution_count": 18
        }
      ]
    },
    {
      "cell_type": "code",
      "metadata": {
        "id": "vmfDhfnzSL-6"
      },
      "source": [
        "def not_ten(x):\n",
        "    if x == 10:\n",
        "        return\n",
        "    else:\n",
        "        print('It is not 10.')"
      ],
      "execution_count": 21,
      "outputs": []
    },
    {
      "cell_type": "code",
      "metadata": {
        "colab": {
          "base_uri": "https://localhost:8080/"
        },
        "id": "FR4R0c7eSbjv",
        "outputId": "e88eb69b-4868-49b1-c3e3-6055da1cbf6b"
      },
      "source": [
        "not_ten(5)"
      ],
      "execution_count": 22,
      "outputs": [
        {
          "output_type": "stream",
          "text": [
            "It is not 10.\n"
          ],
          "name": "stdout"
        }
      ]
    },
    {
      "cell_type": "code",
      "metadata": {
        "id": "2OEsz72dSgdb"
      },
      "source": [
        "not_ten(101//10)"
      ],
      "execution_count": 23,
      "outputs": []
    },
    {
      "cell_type": "code",
      "metadata": {
        "id": "jRxPNFChSq2Y"
      },
      "source": [
        "def not_ten(x):\n",
        "    if x == 10:\n",
        "        return\n",
        "    print('It is not 10.')"
      ],
      "execution_count": 24,
      "outputs": []
    },
    {
      "cell_type": "code",
      "metadata": {
        "colab": {
          "base_uri": "https://localhost:8080/"
        },
        "id": "KCUxGp1pTLoQ",
        "outputId": "a6372fa4-08c7-4ce6-e73b-818a7db4623a"
      },
      "source": [
        "not_ten(7)"
      ],
      "execution_count": 25,
      "outputs": [
        {
          "output_type": "stream",
          "text": [
            "It is not 10.\n"
          ],
          "name": "stdout"
        }
      ]
    },
    {
      "cell_type": "markdown",
      "metadata": {
        "id": "MdPbNwLMTeCo"
      },
      "source": [
        "## 29.4 여러개의 결과값 반환"
      ]
    },
    {
      "cell_type": "code",
      "metadata": {
        "id": "HrrlXTUSTNF5"
      },
      "source": [
        "def add_sub(a,b):\n",
        "    return a+b, a-b"
      ],
      "execution_count": 26,
      "outputs": []
    },
    {
      "cell_type": "code",
      "metadata": {
        "colab": {
          "base_uri": "https://localhost:8080/"
        },
        "id": "ZoIHqNB4TkhY",
        "outputId": "6b15b0b4-ad48-4a3a-e8cf-8530a2727f06"
      },
      "source": [
        "x, y = add_sub(15,7)\n",
        "x, y"
      ],
      "execution_count": 27,
      "outputs": [
        {
          "output_type": "execute_result",
          "data": {
            "text/plain": [
              "(22, 8)"
            ]
          },
          "metadata": {
            "tags": []
          },
          "execution_count": 27
        }
      ]
    },
    {
      "cell_type": "markdown",
      "metadata": {
        "id": "IViGpAmMUIyi"
      },
      "source": [
        "## 29.5 함수의 호출 과정"
      ]
    },
    {
      "cell_type": "code",
      "metadata": {
        "colab": {
          "base_uri": "https://localhost:8080/"
        },
        "id": "jw6PUOEgToyD",
        "outputId": "a509f14c-b8cd-4f24-c2fd-5ff96cefb4c4"
      },
      "source": [
        "def mul(a, b):\n",
        "    c = a * b\n",
        "    return c\n",
        " \n",
        "def add(a, b):\n",
        "    c = a + b\n",
        "    print(c)\n",
        "    d = mul(a, b)\n",
        "    print(d)\n",
        " \n",
        "x = 10\n",
        "y = 20\n",
        "add(x, y)"
      ],
      "execution_count": 29,
      "outputs": [
        {
          "output_type": "stream",
          "text": [
            "30\n",
            "200\n"
          ],
          "name": "stdout"
        }
      ]
    },
    {
      "cell_type": "markdown",
      "metadata": {
        "id": "tWq-hnlvVOpq"
      },
      "source": [
        "## 연습문제\n",
        "- 3자리 정수 두 개를 곱해서 나온 결과가 팔린드롬이 되도록 할 때, 가장 큰 숫자는?\n",
        "- 팔린드롬(Palindrome) : 12321 처럼 대칭인 숫자"
      ]
    },
    {
      "cell_type": "code",
      "metadata": {
        "id": "GgswRrPEUnmt"
      },
      "source": [
        "def is_palin(x):\n",
        "    for i in range(len(x)):\n",
        "        if x[i] == x[-i-1]:\n",
        "            pass\n",
        "        else:\n",
        "            return False\n",
        "    return True"
      ],
      "execution_count": 41,
      "outputs": []
    },
    {
      "cell_type": "code",
      "metadata": {
        "id": "4CWEsnT0c9ai"
      },
      "source": [
        "def is_palindrome(x):\n",
        "    s = str(x)\n",
        "    return s == s[::-1]     # Microsoft AI는 이렇게 코딩한다..;"
      ],
      "execution_count": 45,
      "outputs": []
    },
    {
      "cell_type": "code",
      "metadata": {
        "colab": {
          "base_uri": "https://localhost:8080/"
        },
        "id": "TTt6CiyFWPy4",
        "outputId": "6bd35568-78da-4a22-cb76-d728bbdc3315"
      },
      "source": [
        "big, m, n = 0, 0, 0\n",
        "for i in range(100,1000):\n",
        "    for k in range(i,1000):\n",
        "        x = i * k\n",
        "        x = str(x)\n",
        "        if is_palindrome(x) and big <= int(x):\n",
        "            big, m, n = int(x), i, k\n",
        "print(f'{m} X {n} = {big}')"
      ],
      "execution_count": 48,
      "outputs": [
        {
          "output_type": "stream",
          "text": [
            "913 X 993 = 906609\n"
          ],
          "name": "stdout"
        }
      ]
    }
  ]
}
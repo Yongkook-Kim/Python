{
  "nbformat": 4,
  "nbformat_minor": 0,
  "metadata": {
    "colab": {
      "name": "u32_람다함수.ipynb",
      "provenance": [],
      "collapsed_sections": []
    },
    "kernelspec": {
      "name": "python3",
      "display_name": "Python 3"
    },
    "language_info": {
      "name": "python"
    }
  },
  "cells": [
    {
      "cell_type": "markdown",
      "metadata": {
        "id": "de6ZyyG3KANs"
      },
      "source": [
        "# Unit 32. 람다 함수 - 익명(Anonymous)함수"
      ]
    },
    {
      "cell_type": "code",
      "metadata": {
        "id": "5CwmjIW0J9VD"
      },
      "source": [
        "def plus_ten(x):\n",
        "    return x+10"
      ],
      "execution_count": 1,
      "outputs": []
    },
    {
      "cell_type": "code",
      "metadata": {
        "colab": {
          "base_uri": "https://localhost:8080/"
        },
        "id": "Tp2CC2c3KIuH",
        "outputId": "8d93d574-a794-4eed-edea-7b72412b0be9"
      },
      "source": [
        "plus_ten(5)"
      ],
      "execution_count": 2,
      "outputs": [
        {
          "output_type": "execute_result",
          "data": {
            "text/plain": [
              "15"
            ]
          },
          "metadata": {
            "tags": []
          },
          "execution_count": 2
        }
      ]
    },
    {
      "cell_type": "code",
      "metadata": {
        "colab": {
          "base_uri": "https://localhost:8080/"
        },
        "id": "HxHVirVPKKof",
        "outputId": "e3dc3666-85a9-4b38-953e-6400a6377670"
      },
      "source": [
        "plus_ten2 = lambda x: x+10\n",
        "plus_ten2(5)"
      ],
      "execution_count": 3,
      "outputs": [
        {
          "output_type": "execute_result",
          "data": {
            "text/plain": [
              "15"
            ]
          },
          "metadata": {
            "tags": []
          },
          "execution_count": 3
        }
      ]
    },
    {
      "cell_type": "code",
      "metadata": {
        "colab": {
          "base_uri": "https://localhost:8080/"
        },
        "id": "dgQLq5HFKPkU",
        "outputId": "b9aa4faf-6124-43df-a60c-8c8653f3fbe3"
      },
      "source": [
        "(lambda x:x+10)(5)"
      ],
      "execution_count": 4,
      "outputs": [
        {
          "output_type": "execute_result",
          "data": {
            "text/plain": [
              "15"
            ]
          },
          "metadata": {
            "tags": []
          },
          "execution_count": 4
        }
      ]
    },
    {
      "cell_type": "code",
      "metadata": {
        "colab": {
          "base_uri": "https://localhost:8080/"
        },
        "id": "-daIabh2KT6S",
        "outputId": "9fdf6884-25ec-4d56-bbd4-7f309e8b163c"
      },
      "source": [
        "list(map(lambda x: int(x) +10, input().split()))"
      ],
      "execution_count": 5,
      "outputs": [
        {
          "output_type": "stream",
          "text": [
            "2 5 10\n"
          ],
          "name": "stdout"
        },
        {
          "output_type": "execute_result",
          "data": {
            "text/plain": [
              "[12, 15, 20]"
            ]
          },
          "metadata": {
            "tags": []
          },
          "execution_count": 5
        }
      ]
    },
    {
      "cell_type": "markdown",
      "metadata": {
        "id": "5QqT9_beKdun"
      },
      "source": [
        "### 제약 사항"
      ]
    },
    {
      "cell_type": "code",
      "metadata": {
        "colab": {
          "base_uri": "https://localhost:8080/",
          "height": 135
        },
        "id": "VcW79QcGKasQ",
        "outputId": "3ae153b1-7f04-4589-9819-b610e1915497"
      },
      "source": [
        "# 람다함수에서 변수를 만들 수 없음\n",
        "(lambda x: y=10; x+y)(3)"
      ],
      "execution_count": 6,
      "outputs": [
        {
          "output_type": "error",
          "ename": "SyntaxError",
          "evalue": "ignored",
          "traceback": [
            "\u001b[0;36m  File \u001b[0;32m\"<ipython-input-6-b010c876d312>\"\u001b[0;36m, line \u001b[0;32m2\u001b[0m\n\u001b[0;31m    (lambda x: y=10; x+y)(3)\u001b[0m\n\u001b[0m                ^\u001b[0m\n\u001b[0;31mSyntaxError\u001b[0m\u001b[0;31m:\u001b[0m invalid syntax\n"
          ]
        }
      ]
    },
    {
      "cell_type": "code",
      "metadata": {
        "colab": {
          "base_uri": "https://localhost:8080/"
        },
        "id": "aKLsxVLNKyyz",
        "outputId": "c113def6-6b7a-4395-abde-90f84bdeb833"
      },
      "source": [
        "y = 10\n",
        "(lambda x:x+y)(3)"
      ],
      "execution_count": 7,
      "outputs": [
        {
          "output_type": "execute_result",
          "data": {
            "text/plain": [
              "13"
            ]
          },
          "metadata": {
            "tags": []
          },
          "execution_count": 7
        }
      ]
    },
    {
      "cell_type": "markdown",
      "metadata": {
        "id": "3wyfGvIFK4B6"
      },
      "source": [
        "### 조건부 함수"
      ]
    },
    {
      "cell_type": "code",
      "metadata": {
        "colab": {
          "base_uri": "https://localhost:8080/"
        },
        "id": "rqGdZtQnK2zx",
        "outputId": "ce2669db-ae69-4f97-c35e-1b8f6dfba473"
      },
      "source": [
        "#리스트 a에서 3의 배수를 문자열로 변환\n",
        "a = list(range(1,11))\n",
        "list(map(lambda x: str(x) if x%3==0 else x,a))          # 3항 연산자"
      ],
      "execution_count": 8,
      "outputs": [
        {
          "output_type": "execute_result",
          "data": {
            "text/plain": [
              "[1, 2, '3', 4, 5, '6', 7, 8, '9', 10]"
            ]
          },
          "metadata": {
            "tags": []
          },
          "execution_count": 8
        }
      ]
    },
    {
      "cell_type": "code",
      "metadata": {
        "colab": {
          "base_uri": "https://localhost:8080/"
        },
        "id": "OZQLT1sGLDa-",
        "outputId": "6998308d-9684-472a-c939-29ff23360342"
      },
      "source": [
        "# 리스트 a에서 3의 배수는 문자열로, 5의 배수는 실수로 변환\n",
        "list(map(lambda x:str(x) if x%3==0 else float(x) if x%5==0 else x,a))"
      ],
      "execution_count": 9,
      "outputs": [
        {
          "output_type": "execute_result",
          "data": {
            "text/plain": [
              "[1, 2, '3', 4, 5.0, '6', 7, 8, '9', 10.0]"
            ]
          },
          "metadata": {
            "tags": []
          },
          "execution_count": 9
        }
      ]
    },
    {
      "cell_type": "markdown",
      "metadata": {
        "id": "_fEnTDjkLXh3"
      },
      "source": [
        "### map에 여러개의 객체 넣기"
      ]
    },
    {
      "cell_type": "code",
      "metadata": {
        "colab": {
          "base_uri": "https://localhost:8080/"
        },
        "id": "utqey7AbLV9S",
        "outputId": "936d2ac0-be58-4d1f-ae49-caad8ef81b2a"
      },
      "source": [
        "a = [1,2,3,4,5]\n",
        "b = [6,7,8,9,10]\n",
        "list(map(lambda x,y : x*y, a,b))"
      ],
      "execution_count": 10,
      "outputs": [
        {
          "output_type": "execute_result",
          "data": {
            "text/plain": [
              "[6, 14, 24, 36, 50]"
            ]
          },
          "metadata": {
            "tags": []
          },
          "execution_count": 10
        }
      ]
    },
    {
      "cell_type": "markdown",
      "metadata": {
        "id": "MLWZqcY0Llcy"
      },
      "source": [
        "### filter"
      ]
    },
    {
      "cell_type": "code",
      "metadata": {
        "colab": {
          "base_uri": "https://localhost:8080/"
        },
        "id": "1mpsdaXELilI",
        "outputId": "8540631b-ce09-44a2-d2c7-b9b0c1ae4021"
      },
      "source": [
        "a = list(range(1,11))\n",
        "list(filter(lambda x: 4 <= x <8, a))"
      ],
      "execution_count": 11,
      "outputs": [
        {
          "output_type": "execute_result",
          "data": {
            "text/plain": [
              "[4, 5, 6, 7]"
            ]
          },
          "metadata": {
            "tags": []
          },
          "execution_count": 11
        }
      ]
    },
    {
      "cell_type": "code",
      "metadata": {
        "id": "f176XGOFLtO6"
      },
      "source": [
        ""
      ],
      "execution_count": null,
      "outputs": []
    }
  ]
}
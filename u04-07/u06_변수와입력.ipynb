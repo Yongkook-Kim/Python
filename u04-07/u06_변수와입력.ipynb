{
  "nbformat": 4,
  "nbformat_minor": 0,
  "metadata": {
    "colab": {
      "name": "u06_변수와입력.ipynb",
      "provenance": [],
      "collapsed_sections": []
    },
    "kernelspec": {
      "name": "python3",
      "display_name": "Python 3"
    },
    "language_info": {
      "name": "python"
    }
  },
  "cells": [
    {
      "cell_type": "markdown",
      "metadata": {
        "id": "alI0_3OqLw2a"
      },
      "source": [
        "# Unit 6. 변수와 입력"
      ]
    },
    {
      "cell_type": "markdown",
      "metadata": {
        "id": "rM5eA5rjL128"
      },
      "source": [
        "## 6.1 변수\n",
        "- 영문 문자와 숫자를 사용할 수 있습니다.\n",
        "- 대소문자를 구분합니다.\n",
        "- 문자부터 시작해야 하며 숫자부터 시작하면 안 됩니다.\n",
        "- _(밑줄 문자)로 시작할 수 있습니다.\n",
        "- 특수 문자(+, -, *, /, $, @, &, % 등)는 사용할 수 없습니다.\n",
        "- 파이썬의 키워드(if, for, while, and, or 등)는 사용할 수 없습니다."
      ]
    },
    {
      "cell_type": "code",
      "metadata": {
        "colab": {
          "base_uri": "https://localhost:8080/"
        },
        "id": "glyZkGI5LuyQ",
        "outputId": "ba05dd2d-1c47-4805-98ec-785c8418f560"
      },
      "source": [
        "x = 10\n",
        "x"
      ],
      "execution_count": 1,
      "outputs": [
        {
          "output_type": "execute_result",
          "data": {
            "text/plain": [
              "10"
            ]
          },
          "metadata": {
            "tags": []
          },
          "execution_count": 1
        }
      ]
    },
    {
      "cell_type": "code",
      "metadata": {
        "colab": {
          "base_uri": "https://localhost:8080/",
          "height": 35
        },
        "id": "x0HiY__0NK3t",
        "outputId": "f9dbc292-6de9-4064-d7a9-ad292e8cc1c9"
      },
      "source": [
        "s = 'Hello, world!'\n",
        "s"
      ],
      "execution_count": 2,
      "outputs": [
        {
          "output_type": "execute_result",
          "data": {
            "application/vnd.google.colaboratory.intrinsic+json": {
              "type": "string"
            },
            "text/plain": [
              "'Hello, world!'"
            ]
          },
          "metadata": {
            "tags": []
          },
          "execution_count": 2
        }
      ]
    },
    {
      "cell_type": "code",
      "metadata": {
        "colab": {
          "base_uri": "https://localhost:8080/"
        },
        "id": "-I3VTOLANV8D",
        "outputId": "36486acd-7a60-4e4c-c8f9-737379e62dd4"
      },
      "source": [
        "type(x), type(s)"
      ],
      "execution_count": 3,
      "outputs": [
        {
          "output_type": "execute_result",
          "data": {
            "text/plain": [
              "(int, str)"
            ]
          },
          "metadata": {
            "tags": []
          },
          "execution_count": 3
        }
      ]
    },
    {
      "cell_type": "code",
      "metadata": {
        "colab": {
          "base_uri": "https://localhost:8080/"
        },
        "id": "TCrUIbjhNdjc",
        "outputId": "ffbe711c-3425-440e-ca50-70e11028d572"
      },
      "source": [
        "x, y, z = 10, 20, 30\n",
        "x,y,z"
      ],
      "execution_count": 4,
      "outputs": [
        {
          "output_type": "execute_result",
          "data": {
            "text/plain": [
              "(10, 20, 30)"
            ]
          },
          "metadata": {
            "tags": []
          },
          "execution_count": 4
        }
      ]
    },
    {
      "cell_type": "code",
      "metadata": {
        "colab": {
          "base_uri": "https://localhost:8080/"
        },
        "id": "RHZ9TnbINp-B",
        "outputId": "c7a6f84c-1847-40c3-cf2d-4f1d4bac1f4e"
      },
      "source": [
        "x = y = z = 10\n",
        "z, y, z"
      ],
      "execution_count": 5,
      "outputs": [
        {
          "output_type": "execute_result",
          "data": {
            "text/plain": [
              "(10, 10, 10)"
            ]
          },
          "metadata": {
            "tags": []
          },
          "execution_count": 5
        }
      ]
    },
    {
      "cell_type": "code",
      "metadata": {
        "colab": {
          "base_uri": "https://localhost:8080/",
          "height": 190
        },
        "id": "h4MYbB3JNtJ5",
        "outputId": "0eae36aa-f2b9-4cca-fd35-253a294b12af"
      },
      "source": [
        "del z\n",
        "print(z)"
      ],
      "execution_count": 6,
      "outputs": [
        {
          "output_type": "error",
          "ename": "NameError",
          "evalue": "ignored",
          "traceback": [
            "\u001b[0;31m---------------------------------------------------------------------------\u001b[0m",
            "\u001b[0;31mNameError\u001b[0m                                 Traceback (most recent call last)",
            "\u001b[0;32m<ipython-input-6-8f47a1d0824e>\u001b[0m in \u001b[0;36m<module>\u001b[0;34m()\u001b[0m\n\u001b[1;32m      1\u001b[0m \u001b[0;32mdel\u001b[0m \u001b[0mz\u001b[0m\u001b[0;34m\u001b[0m\u001b[0;34m\u001b[0m\u001b[0m\n\u001b[0;32m----> 2\u001b[0;31m \u001b[0mprint\u001b[0m\u001b[0;34m(\u001b[0m\u001b[0mz\u001b[0m\u001b[0;34m)\u001b[0m\u001b[0;34m\u001b[0m\u001b[0;34m\u001b[0m\u001b[0m\n\u001b[0m",
            "\u001b[0;31mNameError\u001b[0m: name 'z' is not defined"
          ]
        }
      ]
    },
    {
      "cell_type": "code",
      "metadata": {
        "colab": {
          "base_uri": "https://localhost:8080/"
        },
        "id": "5rgVxGpJN4Eh",
        "outputId": "111c8fe5-06dc-4e34-f20d-c332b3275081"
      },
      "source": [
        "# Null\n",
        "x = None\n",
        "print(x)"
      ],
      "execution_count": 7,
      "outputs": [
        {
          "output_type": "stream",
          "text": [
            "None\n"
          ],
          "name": "stdout"
        }
      ]
    },
    {
      "cell_type": "code",
      "metadata": {
        "id": "C6YPh8IKOP_e"
      },
      "source": [
        "x"
      ],
      "execution_count": 8,
      "outputs": []
    },
    {
      "cell_type": "markdown",
      "metadata": {
        "id": "IgEAJ6mrOekH"
      },
      "source": [
        "## 6.2 변수로 계산"
      ]
    },
    {
      "cell_type": "code",
      "metadata": {
        "colab": {
          "base_uri": "https://localhost:8080/"
        },
        "id": "DyA2M70DOQie",
        "outputId": "34f1ecae-ea08-4d6b-a648-9563bbed457c"
      },
      "source": [
        "a = 10\n",
        "a = a + 10\n",
        "a"
      ],
      "execution_count": 9,
      "outputs": [
        {
          "output_type": "execute_result",
          "data": {
            "text/plain": [
              "20"
            ]
          },
          "metadata": {
            "tags": []
          },
          "execution_count": 9
        }
      ]
    },
    {
      "cell_type": "code",
      "metadata": {
        "colab": {
          "base_uri": "https://localhost:8080/"
        },
        "id": "d4CCt7KxOvuR",
        "outputId": "2038d4c5-1b2f-44cf-e2b6-b6c91b4c487d"
      },
      "source": [
        "a = 10\n",
        "a += 10\n",
        "a"
      ],
      "execution_count": 12,
      "outputs": [
        {
          "output_type": "execute_result",
          "data": {
            "text/plain": [
              "20"
            ]
          },
          "metadata": {
            "tags": []
          },
          "execution_count": 12
        }
      ]
    },
    {
      "cell_type": "code",
      "metadata": {
        "colab": {
          "base_uri": "https://localhost:8080/"
        },
        "id": "uIoW6tPBO-jB",
        "outputId": "f2df7588-c64e-4f57-e628-41e5613af15b"
      },
      "source": [
        "sum, prod = 0, 1\n",
        "for i in range(1,11):\n",
        "    sum += i\n",
        "    prod *= i\n",
        "sum, prod"
      ],
      "execution_count": 13,
      "outputs": [
        {
          "output_type": "execute_result",
          "data": {
            "text/plain": [
              "(55, 3628800)"
            ]
          },
          "metadata": {
            "tags": []
          },
          "execution_count": 13
        }
      ]
    },
    {
      "cell_type": "code",
      "metadata": {
        "colab": {
          "base_uri": "https://localhost:8080/"
        },
        "id": "vJ06s9ZYPh_O",
        "outputId": "6a93e4df-283a-4c56-d2dc-bda215804c6d"
      },
      "source": [
        "-prod"
      ],
      "execution_count": 14,
      "outputs": [
        {
          "output_type": "execute_result",
          "data": {
            "text/plain": [
              "-3628800"
            ]
          },
          "metadata": {
            "tags": []
          },
          "execution_count": 14
        }
      ]
    },
    {
      "cell_type": "markdown",
      "metadata": {
        "id": "aqhOB1--QK6B"
      },
      "source": [
        "## 6.3 입력(input)"
      ]
    },
    {
      "cell_type": "code",
      "metadata": {
        "colab": {
          "base_uri": "https://localhost:8080/"
        },
        "id": "zssCcxd9QGlT",
        "outputId": "32277d8f-03ab-477c-a549-f117a2dcdd81"
      },
      "source": [
        "x = input()"
      ],
      "execution_count": 16,
      "outputs": [
        {
          "output_type": "stream",
          "text": [
            "Hello, world!\n"
          ],
          "name": "stdout"
        }
      ]
    },
    {
      "cell_type": "code",
      "metadata": {
        "colab": {
          "base_uri": "https://localhost:8080/",
          "height": 35
        },
        "id": "wNMDBazKQYTL",
        "outputId": "4515c703-7205-4655-ac78-05d10066293c"
      },
      "source": [
        "x"
      ],
      "execution_count": 17,
      "outputs": [
        {
          "output_type": "execute_result",
          "data": {
            "application/vnd.google.colaboratory.intrinsic+json": {
              "type": "string"
            },
            "text/plain": [
              "'Hello, world!'"
            ]
          },
          "metadata": {
            "tags": []
          },
          "execution_count": 17
        }
      ]
    },
    {
      "cell_type": "code",
      "metadata": {
        "colab": {
          "base_uri": "https://localhost:8080/"
        },
        "id": "YXeWDXBxQk4L",
        "outputId": "2c0a0a01-6e92-4ec9-c65c-ed89e19f60ab"
      },
      "source": [
        "x = input('1에서 10사이의 정수값> ')   #prompt"
      ],
      "execution_count": 21,
      "outputs": [
        {
          "output_type": "stream",
          "text": [
            "1에서 10사이의 정수값> 5\n"
          ],
          "name": "stdout"
        }
      ]
    },
    {
      "cell_type": "code",
      "metadata": {
        "colab": {
          "base_uri": "https://localhost:8080/",
          "height": 35
        },
        "id": "u4cYW88NQ2M4",
        "outputId": "f3a942f5-8d5c-4eb4-ea86-c92028e7e3c5"
      },
      "source": [
        "x"
      ],
      "execution_count": 22,
      "outputs": [
        {
          "output_type": "execute_result",
          "data": {
            "application/vnd.google.colaboratory.intrinsic+json": {
              "type": "string"
            },
            "text/plain": [
              "'5'"
            ]
          },
          "metadata": {
            "tags": []
          },
          "execution_count": 22
        }
      ]
    },
    {
      "cell_type": "code",
      "metadata": {
        "colab": {
          "base_uri": "https://localhost:8080/",
          "height": 71
        },
        "id": "MdyZsrheQ5v9",
        "outputId": "ecac1308-09e8-40b5-a17d-2aa42ce7eee6"
      },
      "source": [
        "# 입력한 두 정수의 합\n",
        "a = input('첫번째 정수> ')\n",
        "b = input('두번째 정수> ')\n",
        "a + b"
      ],
      "execution_count": 23,
      "outputs": [
        {
          "output_type": "stream",
          "text": [
            "첫번째 정수> 34\n",
            "두번째 정수> 76\n"
          ],
          "name": "stdout"
        },
        {
          "output_type": "execute_result",
          "data": {
            "application/vnd.google.colaboratory.intrinsic+json": {
              "type": "string"
            },
            "text/plain": [
              "'3476'"
            ]
          },
          "metadata": {
            "tags": []
          },
          "execution_count": 23
        }
      ]
    },
    {
      "cell_type": "code",
      "metadata": {
        "colab": {
          "base_uri": "https://localhost:8080/"
        },
        "id": "0nwEqSOiRTFc",
        "outputId": "1b0dcbd7-4d82-4a3f-bd84-cd77dd742fce"
      },
      "source": [
        "a = int(input('첫번째 정수> '))\n",
        "b = int(input('두번째 정수> '))\n",
        "a + b"
      ],
      "execution_count": 24,
      "outputs": [
        {
          "output_type": "stream",
          "text": [
            "첫번째 정수> 34\n",
            "두번째 정수> 76\n"
          ],
          "name": "stdout"
        },
        {
          "output_type": "execute_result",
          "data": {
            "text/plain": [
              "110"
            ]
          },
          "metadata": {
            "tags": []
          },
          "execution_count": 24
        }
      ]
    },
    {
      "cell_type": "markdown",
      "metadata": {
        "id": "LKot9q8OSQQe"
      },
      "source": [
        "## 6.4 입력값 두개"
      ]
    },
    {
      "cell_type": "code",
      "metadata": {
        "colab": {
          "base_uri": "https://localhost:8080/"
        },
        "id": "bwEC_fKIRpMv",
        "outputId": "571bbd57-c037-437b-f98d-a6388fd06298"
      },
      "source": [
        "s.split()"
      ],
      "execution_count": 25,
      "outputs": [
        {
          "output_type": "execute_result",
          "data": {
            "text/plain": [
              "['Hello,', 'world!']"
            ]
          },
          "metadata": {
            "tags": []
          },
          "execution_count": 25
        }
      ]
    },
    {
      "cell_type": "code",
      "metadata": {
        "colab": {
          "base_uri": "https://localhost:8080/"
        },
        "id": "lv8BGAICSdxZ",
        "outputId": "1fcc57e0-ada3-4560-e182-a9e42686fdbb"
      },
      "source": [
        "a, b = s.split()\n",
        "a, b"
      ],
      "execution_count": 30,
      "outputs": [
        {
          "output_type": "execute_result",
          "data": {
            "text/plain": [
              "('Hello,', 'world!')"
            ]
          },
          "metadata": {
            "tags": []
          },
          "execution_count": 30
        }
      ]
    },
    {
      "cell_type": "code",
      "metadata": {
        "colab": {
          "base_uri": "https://localhost:8080/"
        },
        "id": "DU6POWUnStbO",
        "outputId": "3b2de493-f7b2-4e09-9d89-bf7ad77a270d"
      },
      "source": [
        "a, b, c = 'A quick brown'.split()\n",
        "a, b, c"
      ],
      "execution_count": 27,
      "outputs": [
        {
          "output_type": "execute_result",
          "data": {
            "text/plain": [
              "('A', 'quick', 'brown')"
            ]
          },
          "metadata": {
            "tags": []
          },
          "execution_count": 27
        }
      ]
    },
    {
      "cell_type": "code",
      "metadata": {
        "colab": {
          "base_uri": "https://localhost:8080/"
        },
        "id": "rTiHK23rTBiJ",
        "outputId": "3534b2ec-e040-433e-b8b3-016052eb6010"
      },
      "source": [
        "a, b = input('정수 두개 입력> ').split()"
      ],
      "execution_count": 28,
      "outputs": [
        {
          "output_type": "stream",
          "text": [
            "정수 두개 입력> 10 20\n"
          ],
          "name": "stdout"
        }
      ]
    },
    {
      "cell_type": "code",
      "metadata": {
        "colab": {
          "base_uri": "https://localhost:8080/"
        },
        "id": "GMqoM5RUVz94",
        "outputId": "0743a066-c9f4-440e-b7a5-18fac4ad1bb7"
      },
      "source": [
        "a = int(a)\n",
        "b = int(b)\n",
        "a + b"
      ],
      "execution_count": 29,
      "outputs": [
        {
          "output_type": "execute_result",
          "data": {
            "text/plain": [
              "30"
            ]
          },
          "metadata": {
            "tags": []
          },
          "execution_count": 29
        }
      ]
    },
    {
      "cell_type": "code",
      "metadata": {
        "colab": {
          "base_uri": "https://localhost:8080/"
        },
        "id": "Mes7bwJSV70c",
        "outputId": "e24115b8-60ef-45fa-f0e0-535305bdd37e"
      },
      "source": [
        "a, b = input('정수 두개 입력, comma로 구분하세요.> ').split(',')"
      ],
      "execution_count": 31,
      "outputs": [
        {
          "output_type": "stream",
          "text": [
            "정수 두개 입력, comma로 구분하세요.> 30,40\n"
          ],
          "name": "stdout"
        }
      ]
    },
    {
      "cell_type": "code",
      "metadata": {
        "colab": {
          "base_uri": "https://localhost:8080/"
        },
        "id": "71TvsRQ-WLFf",
        "outputId": "30ab2287-56b2-4cd3-8519-62744e9050ac"
      },
      "source": [
        "a = int(a)\n",
        "b = int(b)\n",
        "a + b"
      ],
      "execution_count": 32,
      "outputs": [
        {
          "output_type": "execute_result",
          "data": {
            "text/plain": [
              "70"
            ]
          },
          "metadata": {
            "tags": []
          },
          "execution_count": 32
        }
      ]
    },
    {
      "cell_type": "markdown",
      "metadata": {
        "id": "d5sZhWSeWaQ0"
      },
      "source": [
        "### map 활용\n",
        "- map(함수, 리스트)\n",
        "- 리스트의 각 엘리먼트에 지정한 함수를 적용"
      ]
    },
    {
      "cell_type": "code",
      "metadata": {
        "colab": {
          "base_uri": "https://localhost:8080/"
        },
        "id": "18N23xP-WP3x",
        "outputId": "28ddd112-3259-4999-e88c-4e387df0852b"
      },
      "source": [
        "a, b = map(int, [10.2, 11.4])\n",
        "a, b"
      ],
      "execution_count": 33,
      "outputs": [
        {
          "output_type": "execute_result",
          "data": {
            "text/plain": [
              "(10, 11)"
            ]
          },
          "metadata": {
            "tags": []
          },
          "execution_count": 33
        }
      ]
    },
    {
      "cell_type": "code",
      "metadata": {
        "colab": {
          "base_uri": "https://localhost:8080/"
        },
        "id": "N4mogg-9XGLs",
        "outputId": "e6b150bf-f140-4038-b8c7-66b093161ef3"
      },
      "source": [
        "a, b = map(int, input('정수 두개 입력> ').split())\n",
        "a + b"
      ],
      "execution_count": 34,
      "outputs": [
        {
          "output_type": "stream",
          "text": [
            "정수 두개 입력> 10 20\n"
          ],
          "name": "stdout"
        },
        {
          "output_type": "execute_result",
          "data": {
            "text/plain": [
              "30"
            ]
          },
          "metadata": {
            "tags": []
          },
          "execution_count": 34
        }
      ]
    },
    {
      "cell_type": "code",
      "metadata": {
        "colab": {
          "base_uri": "https://localhost:8080/"
        },
        "id": "DNuVCfMfXZks",
        "outputId": "1dc5b82d-13ba-4219-a89a-65937de74a6a"
      },
      "source": [
        "import math\n",
        "a, b, c = map(math.sqrt, [1, 4, 9])\n",
        "a, b, c"
      ],
      "execution_count": 35,
      "outputs": [
        {
          "output_type": "execute_result",
          "data": {
            "text/plain": [
              "(1.0, 2.0, 3.0)"
            ]
          },
          "metadata": {
            "tags": []
          },
          "execution_count": 35
        }
      ]
    },
    {
      "cell_type": "code",
      "metadata": {
        "id": "uQrc6BwRX3wW"
      },
      "source": [
        ""
      ],
      "execution_count": null,
      "outputs": []
    }
  ]
}
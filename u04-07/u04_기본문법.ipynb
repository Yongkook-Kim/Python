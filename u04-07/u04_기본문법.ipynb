{
  "nbformat": 4,
  "nbformat_minor": 0,
  "metadata": {
    "colab": {
      "name": "u04_기본문법.ipynb",
      "provenance": []
    },
    "kernelspec": {
      "name": "python3",
      "display_name": "Python 3"
    },
    "language_info": {
      "name": "python"
    }
  },
  "cells": [
    {
      "cell_type": "markdown",
      "metadata": {
        "id": "pLaCSF6ua6am"
      },
      "source": [
        "# Unit 4. 기본 문법 알아보기"
      ]
    },
    {
      "cell_type": "markdown",
      "metadata": {
        "id": "N_kBxyQJa_mb"
      },
      "source": [
        "## 4.1 세미콜론"
      ]
    },
    {
      "cell_type": "code",
      "metadata": {
        "colab": {
          "base_uri": "https://localhost:8080/"
        },
        "id": "V6gUI68za1Q7",
        "outputId": "9c71f2a0-37cd-44a3-9315-22a9e748a95b"
      },
      "source": [
        "print(\"Hello, world!\")"
      ],
      "execution_count": 1,
      "outputs": [
        {
          "output_type": "stream",
          "text": [
            "Hello, world!\n"
          ],
          "name": "stdout"
        }
      ]
    },
    {
      "cell_type": "code",
      "metadata": {
        "colab": {
          "base_uri": "https://localhost:8080/"
        },
        "id": "Jz0bqF8xbTUk",
        "outputId": "15f12d70-f6a7-4e58-ff86-f048651747bb"
      },
      "source": [
        "print('Hello'); print('1234')"
      ],
      "execution_count": 2,
      "outputs": [
        {
          "output_type": "stream",
          "text": [
            "Hello\n",
            "1234\n"
          ],
          "name": "stdout"
        }
      ]
    },
    {
      "cell_type": "markdown",
      "metadata": {
        "id": "1DynQB_tbucN"
      },
      "source": [
        "## 4.2 주석"
      ]
    },
    {
      "cell_type": "markdown",
      "metadata": {
        "id": "leuVcwBLb6Fz"
      },
      "source": [
        "### 4.2.1 한 줄 주석"
      ]
    },
    {
      "cell_type": "code",
      "metadata": {
        "colab": {
          "base_uri": "https://localhost:8080/"
        },
        "id": "f2Aetu-Fblrk",
        "outputId": "42587865-6d1b-471c-c178-79c7146709d6"
      },
      "source": [
        "# Hello,  world! 출력\n",
        "print(\"Hello, world!\")"
      ],
      "execution_count": 3,
      "outputs": [
        {
          "output_type": "stream",
          "text": [
            "Hello, world!\n"
          ],
          "name": "stdout"
        }
      ]
    },
    {
      "cell_type": "code",
      "metadata": {
        "colab": {
          "base_uri": "https://localhost:8080/"
        },
        "id": "cTElZk0HcKRv",
        "outputId": "a49ceb11-969f-48f8-86ff-ec64c605308a"
      },
      "source": [
        "print(\"Hello, world!\")    # comment"
      ],
      "execution_count": 4,
      "outputs": [
        {
          "output_type": "stream",
          "text": [
            "Hello, world!\n"
          ],
          "name": "stdout"
        }
      ]
    },
    {
      "cell_type": "markdown",
      "metadata": {
        "id": "vwp771pnerDw"
      },
      "source": [
        "### 4.2.2 블록 주석"
      ]
    },
    {
      "cell_type": "code",
      "metadata": {
        "colab": {
          "base_uri": "https://localhost:8080/"
        },
        "id": "9DruEkmNcVTl",
        "outputId": "073341c0-646d-4910-ec51-8d356a808e8c"
      },
      "source": [
        "'''\n",
        "더하기\n",
        "a = 1 + 3\n",
        "'''\n",
        "print('a')"
      ],
      "execution_count": 7,
      "outputs": [
        {
          "output_type": "stream",
          "text": [
            "a\n"
          ],
          "name": "stdout"
        }
      ]
    },
    {
      "cell_type": "markdown",
      "metadata": {
        "id": "tTwCSkCyiU8C"
      },
      "source": [
        "## 4.3 들여쓰기 (Indentation)"
      ]
    },
    {
      "cell_type": "code",
      "metadata": {
        "colab": {
          "base_uri": "https://localhost:8080/",
          "height": 35
        },
        "id": "74zEsLcme2MS",
        "outputId": "5eb093c2-c248-4c56-d73a-3924b2e866f4"
      },
      "source": [
        "'''\n",
        "c 프로그래밍 예\n",
        "\n",
        "sum = 0;\n",
        "for (i=1;i<=10,i++){\n",
        "sum += i;   #들여쓰지 않아도 에러 안남\n",
        "}\n",
        "print(sum);\n",
        "'''"
      ],
      "execution_count": 8,
      "outputs": [
        {
          "output_type": "execute_result",
          "data": {
            "application/vnd.google.colaboratory.intrinsic+json": {
              "type": "string"
            },
            "text/plain": [
              "'\\nc 프로그래밍 예\\n\\nsum = 0;\\nfor (i=1;i<=10,i++){\\nsum += i;\\n}\\nprint(sum);\\n'"
            ]
          },
          "metadata": {
            "tags": []
          },
          "execution_count": 8
        }
      ]
    },
    {
      "cell_type": "code",
      "metadata": {
        "colab": {
          "base_uri": "https://localhost:8080/"
        },
        "id": "LhsflFYnjH19",
        "outputId": "60c07069-f197-49dc-d6bf-8fdeef1e2b30"
      },
      "source": [
        "# 파이썬 예\n",
        "sum = 0\n",
        "for i in range(1,11):\n",
        "  sum += i\n",
        "print(sum)"
      ],
      "execution_count": 9,
      "outputs": [
        {
          "output_type": "stream",
          "text": [
            "1\n",
            "3\n",
            "6\n",
            "10\n",
            "15\n",
            "21\n",
            "28\n",
            "36\n",
            "45\n",
            "55\n",
            "55\n"
          ],
          "name": "stdout"
        }
      ]
    },
    {
      "cell_type": "code",
      "metadata": {
        "colab": {
          "base_uri": "https://localhost:8080/"
        },
        "id": "mVek984wjexu",
        "outputId": "20f72ca7-6599-4807-efb4-e30e4ed53d00"
      },
      "source": [
        "# 기본 공백: 공백 4개, 탭\n",
        "sum = 0\n",
        "for i in range(1,11):\n",
        "    sum += i\n",
        "    if (i > 9):\n",
        "        print(i)\n",
        "print(sum)"
      ],
      "execution_count": 11,
      "outputs": [
        {
          "output_type": "stream",
          "text": [
            "10\n",
            "55\n"
          ],
          "name": "stdout"
        }
      ]
    },
    {
      "cell_type": "code",
      "metadata": {
        "id": "zkdFw64FkVLy"
      },
      "source": [
        ""
      ],
      "execution_count": null,
      "outputs": []
    }
  ]
}